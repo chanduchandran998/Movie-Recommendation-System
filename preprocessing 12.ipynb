{
 "cells": [
  {
   "cell_type": "code",
   "execution_count": 1,
   "metadata": {
    "id": "gZhqxpznOZWS"
   },
   "outputs": [],
   "source": [
    "import pandas as pd\n",
    "import numpy as np\n",
    "import requests\n",
    "import bs4 as bs\n",
    "import urllib.request"
   ]
  },
  {
   "cell_type": "markdown",
   "metadata": {
    "id": "xhXPbpjhOZWT"
   },
   "source": [
    "## Extracting features of 2023 movies from Wikipedia"
   ]
  },
  {
   "cell_type": "code",
   "execution_count": 2,
   "metadata": {
    "id": "1o9WJASWOZWT"
   },
   "outputs": [],
   "source": [
    "link = \"https://en.wikipedia.org/wiki/List_of_American_films_of_2023\""
   ]
  },
  {
   "cell_type": "code",
   "execution_count": 3,
   "metadata": {
    "id": "TIlfZhgwOZWT"
   },
   "outputs": [],
   "source": [
    "source = urllib.request.urlopen(link).read()\n",
    "soup = bs.BeautifulSoup(source,'lxml')"
   ]
  },
  {
   "cell_type": "code",
   "execution_count": 4,
   "metadata": {
    "id": "LFytQ2MaOZWT"
   },
   "outputs": [],
   "source": [
    "tables = soup.find_all('table',class_='wikitable sortable')"
   ]
  },
  {
   "cell_type": "code",
   "execution_count": 5,
   "metadata": {
    "colab": {
     "base_uri": "https://localhost:8080/"
    },
    "id": "CdSLuBzGOZWT",
    "outputId": "a59c27fc-00d2-4acd-e5c8-3dd746d78baa"
   },
   "outputs": [
    {
     "data": {
      "text/plain": [
       "4"
      ]
     },
     "execution_count": 5,
     "metadata": {},
     "output_type": "execute_result"
    }
   ],
   "source": [
    "len(tables)"
   ]
  },
  {
   "cell_type": "code",
   "execution_count": 6,
   "metadata": {
    "colab": {
     "base_uri": "https://localhost:8080/"
    },
    "id": "VoX7c9O-OZWU",
    "outputId": "78637bfa-e750-4c01-df0a-c791c80097b3"
   },
   "outputs": [
    {
     "data": {
      "text/plain": [
       "bs4.element.Tag"
      ]
     },
     "execution_count": 6,
     "metadata": {},
     "output_type": "execute_result"
    }
   ],
   "source": [
    "type(tables[0])"
   ]
  },
  {
   "cell_type": "code",
   "execution_count": 7,
   "metadata": {
    "id": "1y2cECOMOZWU"
   },
   "outputs": [],
   "source": [
    "df1 = pd.read_html(str(tables[0]))[0]\n",
    "df2 = pd.read_html(str(tables[1]))[0]\n",
    "df3 = pd.read_html(str(tables[2]))[0]\n",
    "df4 = pd.read_html(str(tables[3]).replace(\"'1\\\"\\'\",'\"1\"'))[0] # avoided \"ValueError: invalid literal for int() with base 10: '1\"'"
   ]
  },
  {
   "cell_type": "code",
   "execution_count": 8,
   "metadata": {
    "id": "t4MN1gZbOZWU"
   },
   "outputs": [
    {
     "name": "stderr",
     "output_type": "stream",
     "text": [
      "C:\\Users\\chand\\AppData\\Local\\Temp\\ipykernel_10620\\1752420719.py:1: FutureWarning: The frame.append method is deprecated and will be removed from pandas in a future version. Use pandas.concat instead.\n",
      "  df = df1.append(df2.append(df3.append(df4,ignore_index=True),ignore_index=True),ignore_index=True)\n"
     ]
    }
   ],
   "source": [
    "df = df1.append(df2.append(df3.append(df4,ignore_index=True),ignore_index=True),ignore_index=True)"
   ]
  },
  {
   "cell_type": "code",
   "execution_count": 9,
   "metadata": {
    "colab": {
     "base_uri": "https://localhost:8080/",
     "height": 406
    },
    "id": "4CCunB-rOZWU",
    "outputId": "a4d69bcd-088c-4655-a445-e8ebafdb10e6"
   },
   "outputs": [
    {
     "data": {
      "text/html": [
       "<div>\n",
       "<style scoped>\n",
       "    .dataframe tbody tr th:only-of-type {\n",
       "        vertical-align: middle;\n",
       "    }\n",
       "\n",
       "    .dataframe tbody tr th {\n",
       "        vertical-align: top;\n",
       "    }\n",
       "\n",
       "    .dataframe thead th {\n",
       "        text-align: right;\n",
       "    }\n",
       "</style>\n",
       "<table border=\"1\" class=\"dataframe\">\n",
       "  <thead>\n",
       "    <tr style=\"text-align: right;\">\n",
       "      <th></th>\n",
       "      <th>Opening</th>\n",
       "      <th>Opening.1</th>\n",
       "      <th>Title</th>\n",
       "      <th>Production company</th>\n",
       "      <th>Cast and crew</th>\n",
       "      <th>Ref.</th>\n",
       "    </tr>\n",
       "  </thead>\n",
       "  <tbody>\n",
       "    <tr>\n",
       "      <th>0</th>\n",
       "      <td>J A N U A R Y</td>\n",
       "      <td>6.0</td>\n",
       "      <td>M3GAN</td>\n",
       "      <td>Universal Pictures / Blumhouse Productions / A...</td>\n",
       "      <td>Gerard Johnstone (director); Akela Cooper (scr...</td>\n",
       "      <td>[3]</td>\n",
       "    </tr>\n",
       "    <tr>\n",
       "      <th>1</th>\n",
       "      <td>J A N U A R Y</td>\n",
       "      <td>6.0</td>\n",
       "      <td>The Old Way</td>\n",
       "      <td>Saban Films / Saturn Films</td>\n",
       "      <td>Brett Donowho (director); Carl W. Lucas (scree...</td>\n",
       "      <td>[4]</td>\n",
       "    </tr>\n",
       "    <tr>\n",
       "      <th>2</th>\n",
       "      <td>J A N U A R Y</td>\n",
       "      <td>11.0</td>\n",
       "      <td>The Devil Conspiracy</td>\n",
       "      <td>Samuel Goldwyn Films</td>\n",
       "      <td>Nathan Frankowski (director); Ed Alan (screenp...</td>\n",
       "      <td>[5]</td>\n",
       "    </tr>\n",
       "    <tr>\n",
       "      <th>3</th>\n",
       "      <td>J A N U A R Y</td>\n",
       "      <td>13.0</td>\n",
       "      <td>Plane</td>\n",
       "      <td>Lionsgate / MadRiver Pictures / Di Bonaventura...</td>\n",
       "      <td>Jean-François Richet (director); Charles Cummi...</td>\n",
       "      <td>[6]</td>\n",
       "    </tr>\n",
       "    <tr>\n",
       "      <th>4</th>\n",
       "      <td>J A N U A R Y</td>\n",
       "      <td>13.0</td>\n",
       "      <td>House Party</td>\n",
       "      <td>Warner Bros. Pictures / New Line Cinema</td>\n",
       "      <td>Calmatic (director); Jamal Olori, Stephen Glov...</td>\n",
       "      <td>[7]</td>\n",
       "    </tr>\n",
       "    <tr>\n",
       "      <th>...</th>\n",
       "      <td>...</td>\n",
       "      <td>...</td>\n",
       "      <td>...</td>\n",
       "      <td>...</td>\n",
       "      <td>...</td>\n",
       "      <td>...</td>\n",
       "    </tr>\n",
       "    <tr>\n",
       "      <th>282</th>\n",
       "      <td>D E C E M B E R</td>\n",
       "      <td>22.0</td>\n",
       "      <td>The Iron Claw</td>\n",
       "      <td>A24 / BBC Film / Access Entertainment</td>\n",
       "      <td>Sean Durkin (director/screenplay); Zac Efron, ...</td>\n",
       "      <td>[263]</td>\n",
       "    </tr>\n",
       "    <tr>\n",
       "      <th>283</th>\n",
       "      <td>D E C E M B E R</td>\n",
       "      <td>25.0</td>\n",
       "      <td>The Color Purple</td>\n",
       "      <td>Warner Bros. Pictures / Harpo Films / Amblin E...</td>\n",
       "      <td>Blitz Bazawule (director), Marcus Gardley (scr...</td>\n",
       "      <td>[261]</td>\n",
       "    </tr>\n",
       "    <tr>\n",
       "      <th>284</th>\n",
       "      <td>D E C E M B E R</td>\n",
       "      <td>25.0</td>\n",
       "      <td>The Boys in the Boat</td>\n",
       "      <td>Metro-Goldwyn-Mayer / Spyglass Media Group</td>\n",
       "      <td>George Clooney (director), Mark L. Smith (scre...</td>\n",
       "      <td>[264]</td>\n",
       "    </tr>\n",
       "    <tr>\n",
       "      <th>285</th>\n",
       "      <td>D E C E M B E R</td>\n",
       "      <td>25.0</td>\n",
       "      <td>Ferrari</td>\n",
       "      <td>Neon / STXfilms</td>\n",
       "      <td>Michael Mann (director), Troy Kennedy Martin (...</td>\n",
       "      <td>[265]</td>\n",
       "    </tr>\n",
       "    <tr>\n",
       "      <th>286</th>\n",
       "      <td>D E C E M B E R</td>\n",
       "      <td>NaN</td>\n",
       "      <td>NaN</td>\n",
       "      <td>NaN</td>\n",
       "      <td>NaN</td>\n",
       "      <td>NaN</td>\n",
       "    </tr>\n",
       "  </tbody>\n",
       "</table>\n",
       "<p>287 rows × 6 columns</p>\n",
       "</div>"
      ],
      "text/plain": [
       "             Opening  Opening.1                 Title  \\\n",
       "0      J A N U A R Y        6.0                 M3GAN   \n",
       "1      J A N U A R Y        6.0           The Old Way   \n",
       "2      J A N U A R Y       11.0  The Devil Conspiracy   \n",
       "3      J A N U A R Y       13.0                 Plane   \n",
       "4      J A N U A R Y       13.0           House Party   \n",
       "..               ...        ...                   ...   \n",
       "282  D E C E M B E R       22.0         The Iron Claw   \n",
       "283  D E C E M B E R       25.0      The Color Purple   \n",
       "284  D E C E M B E R       25.0  The Boys in the Boat   \n",
       "285  D E C E M B E R       25.0               Ferrari   \n",
       "286  D E C E M B E R        NaN                   NaN   \n",
       "\n",
       "                                    Production company  \\\n",
       "0    Universal Pictures / Blumhouse Productions / A...   \n",
       "1                           Saban Films / Saturn Films   \n",
       "2                                 Samuel Goldwyn Films   \n",
       "3    Lionsgate / MadRiver Pictures / Di Bonaventura...   \n",
       "4              Warner Bros. Pictures / New Line Cinema   \n",
       "..                                                 ...   \n",
       "282              A24 / BBC Film / Access Entertainment   \n",
       "283  Warner Bros. Pictures / Harpo Films / Amblin E...   \n",
       "284         Metro-Goldwyn-Mayer / Spyglass Media Group   \n",
       "285                                    Neon / STXfilms   \n",
       "286                                                NaN   \n",
       "\n",
       "                                         Cast and crew   Ref.  \n",
       "0    Gerard Johnstone (director); Akela Cooper (scr...    [3]  \n",
       "1    Brett Donowho (director); Carl W. Lucas (scree...    [4]  \n",
       "2    Nathan Frankowski (director); Ed Alan (screenp...    [5]  \n",
       "3    Jean-François Richet (director); Charles Cummi...    [6]  \n",
       "4    Calmatic (director); Jamal Olori, Stephen Glov...    [7]  \n",
       "..                                                 ...    ...  \n",
       "282  Sean Durkin (director/screenplay); Zac Efron, ...  [263]  \n",
       "283  Blitz Bazawule (director), Marcus Gardley (scr...  [261]  \n",
       "284  George Clooney (director), Mark L. Smith (scre...  [264]  \n",
       "285  Michael Mann (director), Troy Kennedy Martin (...  [265]  \n",
       "286                                                NaN    NaN  \n",
       "\n",
       "[287 rows x 6 columns]"
      ]
     },
     "execution_count": 9,
     "metadata": {},
     "output_type": "execute_result"
    }
   ],
   "source": [
    "df"
   ]
  },
  {
   "cell_type": "code",
   "execution_count": 10,
   "metadata": {
    "id": "9enI6QkuOZWV"
   },
   "outputs": [],
   "source": [
    "df_2023 = df[['Title','Cast and crew']]"
   ]
  },
  {
   "cell_type": "code",
   "execution_count": 11,
   "metadata": {
    "colab": {
     "base_uri": "https://localhost:8080/",
     "height": 406
    },
    "id": "RT0jPJQQOZWV",
    "outputId": "2d6ab58f-996f-4099-e7bb-3e29abadf43c"
   },
   "outputs": [
    {
     "data": {
      "text/html": [
       "<div>\n",
       "<style scoped>\n",
       "    .dataframe tbody tr th:only-of-type {\n",
       "        vertical-align: middle;\n",
       "    }\n",
       "\n",
       "    .dataframe tbody tr th {\n",
       "        vertical-align: top;\n",
       "    }\n",
       "\n",
       "    .dataframe thead th {\n",
       "        text-align: right;\n",
       "    }\n",
       "</style>\n",
       "<table border=\"1\" class=\"dataframe\">\n",
       "  <thead>\n",
       "    <tr style=\"text-align: right;\">\n",
       "      <th></th>\n",
       "      <th>Title</th>\n",
       "      <th>Cast and crew</th>\n",
       "    </tr>\n",
       "  </thead>\n",
       "  <tbody>\n",
       "    <tr>\n",
       "      <th>0</th>\n",
       "      <td>M3GAN</td>\n",
       "      <td>Gerard Johnstone (director); Akela Cooper (scr...</td>\n",
       "    </tr>\n",
       "    <tr>\n",
       "      <th>1</th>\n",
       "      <td>The Old Way</td>\n",
       "      <td>Brett Donowho (director); Carl W. Lucas (scree...</td>\n",
       "    </tr>\n",
       "    <tr>\n",
       "      <th>2</th>\n",
       "      <td>The Devil Conspiracy</td>\n",
       "      <td>Nathan Frankowski (director); Ed Alan (screenp...</td>\n",
       "    </tr>\n",
       "    <tr>\n",
       "      <th>3</th>\n",
       "      <td>Plane</td>\n",
       "      <td>Jean-François Richet (director); Charles Cummi...</td>\n",
       "    </tr>\n",
       "    <tr>\n",
       "      <th>4</th>\n",
       "      <td>House Party</td>\n",
       "      <td>Calmatic (director); Jamal Olori, Stephen Glov...</td>\n",
       "    </tr>\n",
       "    <tr>\n",
       "      <th>...</th>\n",
       "      <td>...</td>\n",
       "      <td>...</td>\n",
       "    </tr>\n",
       "    <tr>\n",
       "      <th>282</th>\n",
       "      <td>The Iron Claw</td>\n",
       "      <td>Sean Durkin (director/screenplay); Zac Efron, ...</td>\n",
       "    </tr>\n",
       "    <tr>\n",
       "      <th>283</th>\n",
       "      <td>The Color Purple</td>\n",
       "      <td>Blitz Bazawule (director), Marcus Gardley (scr...</td>\n",
       "    </tr>\n",
       "    <tr>\n",
       "      <th>284</th>\n",
       "      <td>The Boys in the Boat</td>\n",
       "      <td>George Clooney (director), Mark L. Smith (scre...</td>\n",
       "    </tr>\n",
       "    <tr>\n",
       "      <th>285</th>\n",
       "      <td>Ferrari</td>\n",
       "      <td>Michael Mann (director), Troy Kennedy Martin (...</td>\n",
       "    </tr>\n",
       "    <tr>\n",
       "      <th>286</th>\n",
       "      <td>NaN</td>\n",
       "      <td>NaN</td>\n",
       "    </tr>\n",
       "  </tbody>\n",
       "</table>\n",
       "<p>287 rows × 2 columns</p>\n",
       "</div>"
      ],
      "text/plain": [
       "                    Title                                      Cast and crew\n",
       "0                   M3GAN  Gerard Johnstone (director); Akela Cooper (scr...\n",
       "1             The Old Way  Brett Donowho (director); Carl W. Lucas (scree...\n",
       "2    The Devil Conspiracy  Nathan Frankowski (director); Ed Alan (screenp...\n",
       "3                   Plane  Jean-François Richet (director); Charles Cummi...\n",
       "4             House Party  Calmatic (director); Jamal Olori, Stephen Glov...\n",
       "..                    ...                                                ...\n",
       "282         The Iron Claw  Sean Durkin (director/screenplay); Zac Efron, ...\n",
       "283      The Color Purple  Blitz Bazawule (director), Marcus Gardley (scr...\n",
       "284  The Boys in the Boat  George Clooney (director), Mark L. Smith (scre...\n",
       "285               Ferrari  Michael Mann (director), Troy Kennedy Martin (...\n",
       "286                   NaN                                                NaN\n",
       "\n",
       "[287 rows x 2 columns]"
      ]
     },
     "execution_count": 11,
     "metadata": {},
     "output_type": "execute_result"
    }
   ],
   "source": [
    "df_2023"
   ]
  },
  {
   "cell_type": "code",
   "execution_count": 12,
   "metadata": {
    "colab": {
     "base_uri": "https://localhost:8080/"
    },
    "id": "KYTIVryiOkeW",
    "outputId": "629f16ee-2aa7-4b7f-8393-09afdefef5d5"
   },
   "outputs": [
    {
     "name": "stderr",
     "output_type": "stream",
     "text": [
      "WARNING: Ignoring invalid distribution -treamlit (c:\\users\\chand\\anaconda3\\envs\\projects\\lib\\site-packages)\n",
      "WARNING: Ignoring invalid distribution -treamlit (c:\\users\\chand\\anaconda3\\envs\\projects\\lib\\site-packages)\n",
      "WARNING: Ignoring invalid distribution -treamlit (c:\\users\\chand\\anaconda3\\envs\\projects\\lib\\site-packages)\n",
      "WARNING: Ignoring invalid distribution -treamlit (c:\\users\\chand\\anaconda3\\envs\\projects\\lib\\site-packages)\n",
      "WARNING: Ignoring invalid distribution -treamlit (c:\\users\\chand\\anaconda3\\envs\\projects\\lib\\site-packages)\n",
      "WARNING: Ignoring invalid distribution -treamlit (c:\\users\\chand\\anaconda3\\envs\\projects\\lib\\site-packages)\n"
     ]
    },
    {
     "name": "stdout",
     "output_type": "stream",
     "text": [
      "Requirement already satisfied: tmdbv3api in c:\\users\\chand\\anaconda3\\envs\\projects\\lib\\site-packages (1.7.7)\n",
      "Requirement already satisfied: requests in c:\\users\\chand\\anaconda3\\envs\\projects\\lib\\site-packages (from tmdbv3api) (2.29.0)\n",
      "Requirement already satisfied: charset-normalizer<4,>=2 in c:\\users\\chand\\anaconda3\\envs\\projects\\lib\\site-packages (from requests->tmdbv3api) (2.0.4)\n",
      "Requirement already satisfied: certifi>=2017.4.17 in c:\\users\\chand\\anaconda3\\envs\\projects\\lib\\site-packages (from requests->tmdbv3api) (2023.5.7)\n",
      "Requirement already satisfied: urllib3<1.27,>=1.21.1 in c:\\users\\chand\\anaconda3\\envs\\projects\\lib\\site-packages (from requests->tmdbv3api) (1.26.15)\n",
      "Requirement already satisfied: idna<4,>=2.5 in c:\\users\\chand\\anaconda3\\envs\\projects\\lib\\site-packages (from requests->tmdbv3api) (3.4)\n"
     ]
    }
   ],
   "source": [
    "!pip install tmdbv3api"
   ]
  },
  {
   "cell_type": "code",
   "execution_count": 13,
   "metadata": {
    "id": "61XvcEzPOZWV"
   },
   "outputs": [],
   "source": [
    "from tmdbv3api import TMDb\n",
    "import json\n",
    "import requests\n",
    "tmdb = TMDb()\n",
    "tmdb.api_key = '703a12952f3292e9958bc4d2d904a228'"
   ]
  },
  {
   "cell_type": "code",
   "execution_count": 14,
   "metadata": {
    "id": "_4q66M86OfgF"
   },
   "outputs": [],
   "source": [
    "from tmdbv3api import Movie\n",
    "tmdb_movie = Movie() \n",
    "def get_genre(x):\n",
    "    genres = []\n",
    "    result = tmdb_movie.search(x)\n",
    "    if not result:\n",
    "      return np.NaN\n",
    "    else:\n",
    "      movie_id = result[0].id\n",
    "      response = requests.get('https://api.themoviedb.org/3/movie/{}?api_key={}'.format(movie_id,tmdb.api_key))\n",
    "      data_json = response.json()\n",
    "      if data_json['genres']:\n",
    "          genre_str = \" \" \n",
    "          for i in range(0,len(data_json['genres'])):\n",
    "              genres.append(data_json['genres'][i]['name'])\n",
    "          return genre_str.join(genres)\n",
    "      else:\n",
    "          return np.NaN"
   ]
  },
  {
   "cell_type": "code",
   "execution_count": 15,
   "metadata": {
    "colab": {
     "base_uri": "https://localhost:8080/"
    },
    "id": "uSjX4AsmOZWV",
    "outputId": "da21d28b-1f7a-4171-8b87-2eabcc897a8d",
    "scrolled": true
   },
   "outputs": [
    {
     "name": "stderr",
     "output_type": "stream",
     "text": [
      "C:\\Users\\chand\\AppData\\Local\\Temp\\ipykernel_10620\\2917389152.py:1: SettingWithCopyWarning: \n",
      "A value is trying to be set on a copy of a slice from a DataFrame.\n",
      "Try using .loc[row_indexer,col_indexer] = value instead\n",
      "\n",
      "See the caveats in the documentation: https://pandas.pydata.org/pandas-docs/stable/user_guide/indexing.html#returning-a-view-versus-a-copy\n",
      "  df_2023['genres'] = df_2023['Title'].map(lambda x: get_genre(str(x)))\n"
     ]
    }
   ],
   "source": [
    "df_2023['genres'] = df_2023['Title'].map(lambda x: get_genre(str(x)))"
   ]
  },
  {
   "cell_type": "code",
   "execution_count": 16,
   "metadata": {
    "colab": {
     "base_uri": "https://localhost:8080/",
     "height": 406
    },
    "id": "aiwOqJZMOZWV",
    "outputId": "032dfad5-985e-4d24-9fed-ed92c9edfba3"
   },
   "outputs": [
    {
     "data": {
      "text/html": [
       "<div>\n",
       "<style scoped>\n",
       "    .dataframe tbody tr th:only-of-type {\n",
       "        vertical-align: middle;\n",
       "    }\n",
       "\n",
       "    .dataframe tbody tr th {\n",
       "        vertical-align: top;\n",
       "    }\n",
       "\n",
       "    .dataframe thead th {\n",
       "        text-align: right;\n",
       "    }\n",
       "</style>\n",
       "<table border=\"1\" class=\"dataframe\">\n",
       "  <thead>\n",
       "    <tr style=\"text-align: right;\">\n",
       "      <th></th>\n",
       "      <th>Title</th>\n",
       "      <th>Cast and crew</th>\n",
       "      <th>genres</th>\n",
       "    </tr>\n",
       "  </thead>\n",
       "  <tbody>\n",
       "    <tr>\n",
       "      <th>0</th>\n",
       "      <td>M3GAN</td>\n",
       "      <td>Gerard Johnstone (director); Akela Cooper (scr...</td>\n",
       "      <td>Science Fiction Horror</td>\n",
       "    </tr>\n",
       "    <tr>\n",
       "      <th>1</th>\n",
       "      <td>The Old Way</td>\n",
       "      <td>Brett Donowho (director); Carl W. Lucas (scree...</td>\n",
       "      <td>Western</td>\n",
       "    </tr>\n",
       "    <tr>\n",
       "      <th>2</th>\n",
       "      <td>The Devil Conspiracy</td>\n",
       "      <td>Nathan Frankowski (director); Ed Alan (screenp...</td>\n",
       "      <td>Horror Fantasy Science Fiction Thriller</td>\n",
       "    </tr>\n",
       "    <tr>\n",
       "      <th>3</th>\n",
       "      <td>Plane</td>\n",
       "      <td>Jean-François Richet (director); Charles Cummi...</td>\n",
       "      <td>Action Adventure Thriller</td>\n",
       "    </tr>\n",
       "    <tr>\n",
       "      <th>4</th>\n",
       "      <td>House Party</td>\n",
       "      <td>Calmatic (director); Jamal Olori, Stephen Glov...</td>\n",
       "      <td>Comedy</td>\n",
       "    </tr>\n",
       "    <tr>\n",
       "      <th>...</th>\n",
       "      <td>...</td>\n",
       "      <td>...</td>\n",
       "      <td>...</td>\n",
       "    </tr>\n",
       "    <tr>\n",
       "      <th>282</th>\n",
       "      <td>The Iron Claw</td>\n",
       "      <td>Sean Durkin (director/screenplay); Zac Efron, ...</td>\n",
       "      <td>Drama</td>\n",
       "    </tr>\n",
       "    <tr>\n",
       "      <th>283</th>\n",
       "      <td>The Color Purple</td>\n",
       "      <td>Blitz Bazawule (director), Marcus Gardley (scr...</td>\n",
       "      <td>Drama</td>\n",
       "    </tr>\n",
       "    <tr>\n",
       "      <th>284</th>\n",
       "      <td>The Boys in the Boat</td>\n",
       "      <td>George Clooney (director), Mark L. Smith (scre...</td>\n",
       "      <td>Drama History</td>\n",
       "    </tr>\n",
       "    <tr>\n",
       "      <th>285</th>\n",
       "      <td>Ferrari</td>\n",
       "      <td>Michael Mann (director), Troy Kennedy Martin (...</td>\n",
       "      <td>Drama History</td>\n",
       "    </tr>\n",
       "    <tr>\n",
       "      <th>286</th>\n",
       "      <td>NaN</td>\n",
       "      <td>NaN</td>\n",
       "      <td>Drama Crime</td>\n",
       "    </tr>\n",
       "  </tbody>\n",
       "</table>\n",
       "<p>287 rows × 3 columns</p>\n",
       "</div>"
      ],
      "text/plain": [
       "                    Title                                      Cast and crew  \\\n",
       "0                   M3GAN  Gerard Johnstone (director); Akela Cooper (scr...   \n",
       "1             The Old Way  Brett Donowho (director); Carl W. Lucas (scree...   \n",
       "2    The Devil Conspiracy  Nathan Frankowski (director); Ed Alan (screenp...   \n",
       "3                   Plane  Jean-François Richet (director); Charles Cummi...   \n",
       "4             House Party  Calmatic (director); Jamal Olori, Stephen Glov...   \n",
       "..                    ...                                                ...   \n",
       "282         The Iron Claw  Sean Durkin (director/screenplay); Zac Efron, ...   \n",
       "283      The Color Purple  Blitz Bazawule (director), Marcus Gardley (scr...   \n",
       "284  The Boys in the Boat  George Clooney (director), Mark L. Smith (scre...   \n",
       "285               Ferrari  Michael Mann (director), Troy Kennedy Martin (...   \n",
       "286                   NaN                                                NaN   \n",
       "\n",
       "                                      genres  \n",
       "0                     Science Fiction Horror  \n",
       "1                                    Western  \n",
       "2    Horror Fantasy Science Fiction Thriller  \n",
       "3                  Action Adventure Thriller  \n",
       "4                                     Comedy  \n",
       "..                                       ...  \n",
       "282                                    Drama  \n",
       "283                                    Drama  \n",
       "284                            Drama History  \n",
       "285                            Drama History  \n",
       "286                              Drama Crime  \n",
       "\n",
       "[287 rows x 3 columns]"
      ]
     },
     "execution_count": 16,
     "metadata": {},
     "output_type": "execute_result"
    }
   ],
   "source": [
    "df_2023"
   ]
  },
  {
   "cell_type": "code",
   "execution_count": 17,
   "metadata": {
    "id": "GcqUuFyiOZWW"
   },
   "outputs": [],
   "source": [
    "def get_director(x):\n",
    "    if \" (director)\" in x:\n",
    "        return x.split(\" (director)\")[0]\n",
    "    elif \" (directors)\" in x:\n",
    "        return x.split(\" (directors)\")[0]\n",
    "    else:\n",
    "        return x.split(\" (director/screenplay)\")[0]"
   ]
  },
  {
   "cell_type": "code",
   "execution_count": 18,
   "metadata": {
    "colab": {
     "base_uri": "https://localhost:8080/"
    },
    "id": "A7RzXkBQOZWW",
    "outputId": "161deb48-6037-468b-c4b4-44cd51d0efc1"
   },
   "outputs": [
    {
     "name": "stderr",
     "output_type": "stream",
     "text": [
      "C:\\Users\\chand\\AppData\\Local\\Temp\\ipykernel_10620\\1551818249.py:1: SettingWithCopyWarning: \n",
      "A value is trying to be set on a copy of a slice from a DataFrame.\n",
      "Try using .loc[row_indexer,col_indexer] = value instead\n",
      "\n",
      "See the caveats in the documentation: https://pandas.pydata.org/pandas-docs/stable/user_guide/indexing.html#returning-a-view-versus-a-copy\n",
      "  df_2023['director_name'] = df_2023['Cast and crew'].map(lambda x: get_director(str(x)))\n"
     ]
    }
   ],
   "source": [
    "df_2023['director_name'] = df_2023['Cast and crew'].map(lambda x: get_director(str(x)))"
   ]
  },
  {
   "cell_type": "code",
   "execution_count": 19,
   "metadata": {
    "id": "wwBWFgBSOZWW"
   },
   "outputs": [],
   "source": [
    "def get_actor1(x):\n",
    "    return ((x.split(\"screenplay); \")[-1]).split(\", \")[0])"
   ]
  },
  {
   "cell_type": "code",
   "execution_count": 20,
   "metadata": {
    "colab": {
     "base_uri": "https://localhost:8080/"
    },
    "id": "gxr9Y4IJOZWW",
    "outputId": "68904c09-7d50-424d-e908-804489e84d05"
   },
   "outputs": [
    {
     "name": "stderr",
     "output_type": "stream",
     "text": [
      "C:\\Users\\chand\\AppData\\Local\\Temp\\ipykernel_10620\\4038699429.py:1: SettingWithCopyWarning: \n",
      "A value is trying to be set on a copy of a slice from a DataFrame.\n",
      "Try using .loc[row_indexer,col_indexer] = value instead\n",
      "\n",
      "See the caveats in the documentation: https://pandas.pydata.org/pandas-docs/stable/user_guide/indexing.html#returning-a-view-versus-a-copy\n",
      "  df_2023['actor_1_name'] = df_2023['Cast and crew'].map(lambda x: get_actor1(str(x)))\n"
     ]
    }
   ],
   "source": [
    "df_2023['actor_1_name'] = df_2023['Cast and crew'].map(lambda x: get_actor1(str(x)))"
   ]
  },
  {
   "cell_type": "code",
   "execution_count": 21,
   "metadata": {
    "id": "Qc7I49gVOZWX"
   },
   "outputs": [],
   "source": [
    "def get_actor2(x):\n",
    "    if len((x.split(\"screenplay); \")[-1]).split(\", \")) < 2:\n",
    "        return np.NaN\n",
    "    else:\n",
    "        return ((x.split(\"screenplay); \")[-1]).split(\", \")[1])"
   ]
  },
  {
   "cell_type": "code",
   "execution_count": 22,
   "metadata": {
    "id": "ipspWbjaOZWX"
   },
   "outputs": [],
   "source": [
    "df_2023['actor_2_name'] = df_2023['Cast and crew'].map(lambda x: get_actor2(str(x)))"
   ]
  },
  {
   "cell_type": "code",
   "execution_count": 23,
   "metadata": {
    "id": "pQmab5aiOZWX"
   },
   "outputs": [],
   "source": [
    "def get_actor3(x):\n",
    "    if len((x.split(\"screenplay); \")[-1]).split(\", \")) < 3:\n",
    "        return np.NaN\n",
    "    else:\n",
    "        return ((x.split(\"screenplay); \")[-1]).split(\", \")[2])"
   ]
  },
  {
   "cell_type": "code",
   "execution_count": 24,
   "metadata": {
    "id": "vWSs45LWOZWX"
   },
   "outputs": [],
   "source": [
    "df_2023['actor_3_name'] = df_2023['Cast and crew'].map(lambda x: get_actor3(str(x)))"
   ]
  },
  {
   "cell_type": "code",
   "execution_count": 25,
   "metadata": {
    "colab": {
     "base_uri": "https://localhost:8080/",
     "height": 406
    },
    "id": "2xDIRn7DOZWX",
    "outputId": "ad8d83b3-a608-43db-eeff-53a434ab3d4f"
   },
   "outputs": [
    {
     "data": {
      "text/html": [
       "<div>\n",
       "<style scoped>\n",
       "    .dataframe tbody tr th:only-of-type {\n",
       "        vertical-align: middle;\n",
       "    }\n",
       "\n",
       "    .dataframe tbody tr th {\n",
       "        vertical-align: top;\n",
       "    }\n",
       "\n",
       "    .dataframe thead th {\n",
       "        text-align: right;\n",
       "    }\n",
       "</style>\n",
       "<table border=\"1\" class=\"dataframe\">\n",
       "  <thead>\n",
       "    <tr style=\"text-align: right;\">\n",
       "      <th></th>\n",
       "      <th>Title</th>\n",
       "      <th>Cast and crew</th>\n",
       "      <th>genres</th>\n",
       "      <th>director_name</th>\n",
       "      <th>actor_1_name</th>\n",
       "      <th>actor_2_name</th>\n",
       "      <th>actor_3_name</th>\n",
       "    </tr>\n",
       "  </thead>\n",
       "  <tbody>\n",
       "    <tr>\n",
       "      <th>0</th>\n",
       "      <td>M3GAN</td>\n",
       "      <td>Gerard Johnstone (director); Akela Cooper (scr...</td>\n",
       "      <td>Science Fiction Horror</td>\n",
       "      <td>Gerard Johnstone</td>\n",
       "      <td>Allison Williams</td>\n",
       "      <td>Violet McGraw</td>\n",
       "      <td>Amie Donald</td>\n",
       "    </tr>\n",
       "    <tr>\n",
       "      <th>1</th>\n",
       "      <td>The Old Way</td>\n",
       "      <td>Brett Donowho (director); Carl W. Lucas (scree...</td>\n",
       "      <td>Western</td>\n",
       "      <td>Brett Donowho</td>\n",
       "      <td>Nicolas Cage</td>\n",
       "      <td>Ryan Kiera Armstrong</td>\n",
       "      <td>NaN</td>\n",
       "    </tr>\n",
       "    <tr>\n",
       "      <th>2</th>\n",
       "      <td>The Devil Conspiracy</td>\n",
       "      <td>Nathan Frankowski (director); Ed Alan (screenp...</td>\n",
       "      <td>Horror Fantasy Science Fiction Thriller</td>\n",
       "      <td>Nathan Frankowski</td>\n",
       "      <td>Alice Orr-Ewing</td>\n",
       "      <td>Joe Doyle</td>\n",
       "      <td>Eveline Hall</td>\n",
       "    </tr>\n",
       "    <tr>\n",
       "      <th>3</th>\n",
       "      <td>Plane</td>\n",
       "      <td>Jean-François Richet (director); Charles Cummi...</td>\n",
       "      <td>Action Adventure Thriller</td>\n",
       "      <td>Jean-François Richet</td>\n",
       "      <td>Gerard Butler</td>\n",
       "      <td>Mike Colter</td>\n",
       "      <td>Yoson An</td>\n",
       "    </tr>\n",
       "    <tr>\n",
       "      <th>4</th>\n",
       "      <td>House Party</td>\n",
       "      <td>Calmatic (director); Jamal Olori, Stephen Glov...</td>\n",
       "      <td>Comedy</td>\n",
       "      <td>Calmatic</td>\n",
       "      <td>Tosin Cole</td>\n",
       "      <td>Jacob Latimore</td>\n",
       "      <td>Karen Obilom</td>\n",
       "    </tr>\n",
       "    <tr>\n",
       "      <th>...</th>\n",
       "      <td>...</td>\n",
       "      <td>...</td>\n",
       "      <td>...</td>\n",
       "      <td>...</td>\n",
       "      <td>...</td>\n",
       "      <td>...</td>\n",
       "      <td>...</td>\n",
       "    </tr>\n",
       "    <tr>\n",
       "      <th>282</th>\n",
       "      <td>The Iron Claw</td>\n",
       "      <td>Sean Durkin (director/screenplay); Zac Efron, ...</td>\n",
       "      <td>Drama</td>\n",
       "      <td>Sean Durkin</td>\n",
       "      <td>Zac Efron</td>\n",
       "      <td>Jeremy Allen White</td>\n",
       "      <td>Harris Dickinson</td>\n",
       "    </tr>\n",
       "    <tr>\n",
       "      <th>283</th>\n",
       "      <td>The Color Purple</td>\n",
       "      <td>Blitz Bazawule (director), Marcus Gardley (scr...</td>\n",
       "      <td>Drama</td>\n",
       "      <td>Blitz Bazawule</td>\n",
       "      <td>Fantasia Barrino</td>\n",
       "      <td>Taraji P. Henson</td>\n",
       "      <td>Danielle Brooks</td>\n",
       "    </tr>\n",
       "    <tr>\n",
       "      <th>284</th>\n",
       "      <td>The Boys in the Boat</td>\n",
       "      <td>George Clooney (director), Mark L. Smith (scre...</td>\n",
       "      <td>Drama History</td>\n",
       "      <td>George Clooney</td>\n",
       "      <td>Callum Turner</td>\n",
       "      <td>Joel Edgerton</td>\n",
       "      <td>Peter Guinness</td>\n",
       "    </tr>\n",
       "    <tr>\n",
       "      <th>285</th>\n",
       "      <td>Ferrari</td>\n",
       "      <td>Michael Mann (director), Troy Kennedy Martin (...</td>\n",
       "      <td>Drama History</td>\n",
       "      <td>Michael Mann</td>\n",
       "      <td>Adam Driver</td>\n",
       "      <td>Penelope Cruz</td>\n",
       "      <td>Shailene Woodley</td>\n",
       "    </tr>\n",
       "    <tr>\n",
       "      <th>286</th>\n",
       "      <td>NaN</td>\n",
       "      <td>NaN</td>\n",
       "      <td>Drama Crime</td>\n",
       "      <td>nan</td>\n",
       "      <td>nan</td>\n",
       "      <td>NaN</td>\n",
       "      <td>NaN</td>\n",
       "    </tr>\n",
       "  </tbody>\n",
       "</table>\n",
       "<p>287 rows × 7 columns</p>\n",
       "</div>"
      ],
      "text/plain": [
       "                    Title                                      Cast and crew  \\\n",
       "0                   M3GAN  Gerard Johnstone (director); Akela Cooper (scr...   \n",
       "1             The Old Way  Brett Donowho (director); Carl W. Lucas (scree...   \n",
       "2    The Devil Conspiracy  Nathan Frankowski (director); Ed Alan (screenp...   \n",
       "3                   Plane  Jean-François Richet (director); Charles Cummi...   \n",
       "4             House Party  Calmatic (director); Jamal Olori, Stephen Glov...   \n",
       "..                    ...                                                ...   \n",
       "282         The Iron Claw  Sean Durkin (director/screenplay); Zac Efron, ...   \n",
       "283      The Color Purple  Blitz Bazawule (director), Marcus Gardley (scr...   \n",
       "284  The Boys in the Boat  George Clooney (director), Mark L. Smith (scre...   \n",
       "285               Ferrari  Michael Mann (director), Troy Kennedy Martin (...   \n",
       "286                   NaN                                                NaN   \n",
       "\n",
       "                                      genres         director_name  \\\n",
       "0                     Science Fiction Horror      Gerard Johnstone   \n",
       "1                                    Western         Brett Donowho   \n",
       "2    Horror Fantasy Science Fiction Thriller     Nathan Frankowski   \n",
       "3                  Action Adventure Thriller  Jean-François Richet   \n",
       "4                                     Comedy              Calmatic   \n",
       "..                                       ...                   ...   \n",
       "282                                    Drama           Sean Durkin   \n",
       "283                                    Drama        Blitz Bazawule   \n",
       "284                            Drama History        George Clooney   \n",
       "285                            Drama History          Michael Mann   \n",
       "286                              Drama Crime                   nan   \n",
       "\n",
       "         actor_1_name          actor_2_name      actor_3_name  \n",
       "0    Allison Williams         Violet McGraw       Amie Donald  \n",
       "1        Nicolas Cage  Ryan Kiera Armstrong               NaN  \n",
       "2     Alice Orr-Ewing             Joe Doyle      Eveline Hall  \n",
       "3       Gerard Butler           Mike Colter          Yoson An  \n",
       "4          Tosin Cole        Jacob Latimore      Karen Obilom  \n",
       "..                ...                   ...               ...  \n",
       "282         Zac Efron    Jeremy Allen White  Harris Dickinson  \n",
       "283  Fantasia Barrino      Taraji P. Henson   Danielle Brooks  \n",
       "284     Callum Turner         Joel Edgerton    Peter Guinness  \n",
       "285       Adam Driver         Penelope Cruz  Shailene Woodley  \n",
       "286               nan                   NaN               NaN  \n",
       "\n",
       "[287 rows x 7 columns]"
      ]
     },
     "execution_count": 25,
     "metadata": {},
     "output_type": "execute_result"
    }
   ],
   "source": [
    "df_2023"
   ]
  },
  {
   "cell_type": "code",
   "execution_count": 26,
   "metadata": {
    "id": "rBUUnUtfOZWX"
   },
   "outputs": [],
   "source": [
    "df_2023 = df_2023.rename(columns={'Title':'movie_title'})"
   ]
  },
  {
   "cell_type": "code",
   "execution_count": 27,
   "metadata": {
    "id": "_WCWVlAqOZWX"
   },
   "outputs": [],
   "source": [
    "new_df23 = df_2023.loc[:,['director_name','actor_1_name','actor_2_name','actor_3_name','genres','movie_title']]"
   ]
  },
  {
   "cell_type": "code",
   "execution_count": 28,
   "metadata": {
    "colab": {
     "base_uri": "https://localhost:8080/",
     "height": 406
    },
    "id": "i7KBDmu_OZWX",
    "outputId": "6b4de81e-b1ac-4fb0-d349-52ae7c210346"
   },
   "outputs": [
    {
     "data": {
      "text/html": [
       "<div>\n",
       "<style scoped>\n",
       "    .dataframe tbody tr th:only-of-type {\n",
       "        vertical-align: middle;\n",
       "    }\n",
       "\n",
       "    .dataframe tbody tr th {\n",
       "        vertical-align: top;\n",
       "    }\n",
       "\n",
       "    .dataframe thead th {\n",
       "        text-align: right;\n",
       "    }\n",
       "</style>\n",
       "<table border=\"1\" class=\"dataframe\">\n",
       "  <thead>\n",
       "    <tr style=\"text-align: right;\">\n",
       "      <th></th>\n",
       "      <th>director_name</th>\n",
       "      <th>actor_1_name</th>\n",
       "      <th>actor_2_name</th>\n",
       "      <th>actor_3_name</th>\n",
       "      <th>genres</th>\n",
       "      <th>movie_title</th>\n",
       "    </tr>\n",
       "  </thead>\n",
       "  <tbody>\n",
       "    <tr>\n",
       "      <th>0</th>\n",
       "      <td>Gerard Johnstone</td>\n",
       "      <td>Allison Williams</td>\n",
       "      <td>Violet McGraw</td>\n",
       "      <td>Amie Donald</td>\n",
       "      <td>Science Fiction Horror</td>\n",
       "      <td>M3GAN</td>\n",
       "    </tr>\n",
       "    <tr>\n",
       "      <th>1</th>\n",
       "      <td>Brett Donowho</td>\n",
       "      <td>Nicolas Cage</td>\n",
       "      <td>Ryan Kiera Armstrong</td>\n",
       "      <td>NaN</td>\n",
       "      <td>Western</td>\n",
       "      <td>The Old Way</td>\n",
       "    </tr>\n",
       "    <tr>\n",
       "      <th>2</th>\n",
       "      <td>Nathan Frankowski</td>\n",
       "      <td>Alice Orr-Ewing</td>\n",
       "      <td>Joe Doyle</td>\n",
       "      <td>Eveline Hall</td>\n",
       "      <td>Horror Fantasy Science Fiction Thriller</td>\n",
       "      <td>The Devil Conspiracy</td>\n",
       "    </tr>\n",
       "    <tr>\n",
       "      <th>3</th>\n",
       "      <td>Jean-François Richet</td>\n",
       "      <td>Gerard Butler</td>\n",
       "      <td>Mike Colter</td>\n",
       "      <td>Yoson An</td>\n",
       "      <td>Action Adventure Thriller</td>\n",
       "      <td>Plane</td>\n",
       "    </tr>\n",
       "    <tr>\n",
       "      <th>4</th>\n",
       "      <td>Calmatic</td>\n",
       "      <td>Tosin Cole</td>\n",
       "      <td>Jacob Latimore</td>\n",
       "      <td>Karen Obilom</td>\n",
       "      <td>Comedy</td>\n",
       "      <td>House Party</td>\n",
       "    </tr>\n",
       "    <tr>\n",
       "      <th>...</th>\n",
       "      <td>...</td>\n",
       "      <td>...</td>\n",
       "      <td>...</td>\n",
       "      <td>...</td>\n",
       "      <td>...</td>\n",
       "      <td>...</td>\n",
       "    </tr>\n",
       "    <tr>\n",
       "      <th>282</th>\n",
       "      <td>Sean Durkin</td>\n",
       "      <td>Zac Efron</td>\n",
       "      <td>Jeremy Allen White</td>\n",
       "      <td>Harris Dickinson</td>\n",
       "      <td>Drama</td>\n",
       "      <td>The Iron Claw</td>\n",
       "    </tr>\n",
       "    <tr>\n",
       "      <th>283</th>\n",
       "      <td>Blitz Bazawule</td>\n",
       "      <td>Fantasia Barrino</td>\n",
       "      <td>Taraji P. Henson</td>\n",
       "      <td>Danielle Brooks</td>\n",
       "      <td>Drama</td>\n",
       "      <td>The Color Purple</td>\n",
       "    </tr>\n",
       "    <tr>\n",
       "      <th>284</th>\n",
       "      <td>George Clooney</td>\n",
       "      <td>Callum Turner</td>\n",
       "      <td>Joel Edgerton</td>\n",
       "      <td>Peter Guinness</td>\n",
       "      <td>Drama History</td>\n",
       "      <td>The Boys in the Boat</td>\n",
       "    </tr>\n",
       "    <tr>\n",
       "      <th>285</th>\n",
       "      <td>Michael Mann</td>\n",
       "      <td>Adam Driver</td>\n",
       "      <td>Penelope Cruz</td>\n",
       "      <td>Shailene Woodley</td>\n",
       "      <td>Drama History</td>\n",
       "      <td>Ferrari</td>\n",
       "    </tr>\n",
       "    <tr>\n",
       "      <th>286</th>\n",
       "      <td>nan</td>\n",
       "      <td>nan</td>\n",
       "      <td>NaN</td>\n",
       "      <td>NaN</td>\n",
       "      <td>Drama Crime</td>\n",
       "      <td>NaN</td>\n",
       "    </tr>\n",
       "  </tbody>\n",
       "</table>\n",
       "<p>287 rows × 6 columns</p>\n",
       "</div>"
      ],
      "text/plain": [
       "            director_name      actor_1_name          actor_2_name  \\\n",
       "0        Gerard Johnstone  Allison Williams         Violet McGraw   \n",
       "1           Brett Donowho      Nicolas Cage  Ryan Kiera Armstrong   \n",
       "2       Nathan Frankowski   Alice Orr-Ewing             Joe Doyle   \n",
       "3    Jean-François Richet     Gerard Butler           Mike Colter   \n",
       "4                Calmatic        Tosin Cole        Jacob Latimore   \n",
       "..                    ...               ...                   ...   \n",
       "282           Sean Durkin         Zac Efron    Jeremy Allen White   \n",
       "283        Blitz Bazawule  Fantasia Barrino      Taraji P. Henson   \n",
       "284        George Clooney     Callum Turner         Joel Edgerton   \n",
       "285          Michael Mann       Adam Driver         Penelope Cruz   \n",
       "286                   nan               nan                   NaN   \n",
       "\n",
       "         actor_3_name                                   genres  \\\n",
       "0         Amie Donald                   Science Fiction Horror   \n",
       "1                 NaN                                  Western   \n",
       "2        Eveline Hall  Horror Fantasy Science Fiction Thriller   \n",
       "3            Yoson An                Action Adventure Thriller   \n",
       "4        Karen Obilom                                   Comedy   \n",
       "..                ...                                      ...   \n",
       "282  Harris Dickinson                                    Drama   \n",
       "283   Danielle Brooks                                    Drama   \n",
       "284    Peter Guinness                            Drama History   \n",
       "285  Shailene Woodley                            Drama History   \n",
       "286               NaN                              Drama Crime   \n",
       "\n",
       "              movie_title  \n",
       "0                   M3GAN  \n",
       "1             The Old Way  \n",
       "2    The Devil Conspiracy  \n",
       "3                   Plane  \n",
       "4             House Party  \n",
       "..                    ...  \n",
       "282         The Iron Claw  \n",
       "283      The Color Purple  \n",
       "284  The Boys in the Boat  \n",
       "285               Ferrari  \n",
       "286                   NaN  \n",
       "\n",
       "[287 rows x 6 columns]"
      ]
     },
     "execution_count": 28,
     "metadata": {},
     "output_type": "execute_result"
    }
   ],
   "source": [
    "new_df23"
   ]
  },
  {
   "cell_type": "code",
   "execution_count": 29,
   "metadata": {
    "id": "0s7XMhqzOZWY"
   },
   "outputs": [],
   "source": [
    "new_df23['comb'] = new_df23['actor_1_name'] + ' ' + new_df23['actor_2_name'] + ' '+ new_df23['actor_3_name'] + ' '+ new_df23['director_name'] +' ' + new_df23['genres']"
   ]
  },
  {
   "cell_type": "code",
   "execution_count": 30,
   "metadata": {
    "colab": {
     "base_uri": "https://localhost:8080/"
    },
    "id": "ta_KcPQJOZWY",
    "outputId": "ac6aa7b7-c156-49b2-9e95-3a76f971f5b1"
   },
   "outputs": [
    {
     "data": {
      "text/plain": [
       "director_name     0\n",
       "actor_1_name      0\n",
       "actor_2_name      5\n",
       "actor_3_name     20\n",
       "genres            0\n",
       "movie_title       2\n",
       "comb             20\n",
       "dtype: int64"
      ]
     },
     "execution_count": 30,
     "metadata": {},
     "output_type": "execute_result"
    }
   ],
   "source": [
    "new_df23.isna().sum()"
   ]
  },
  {
   "cell_type": "code",
   "execution_count": 31,
   "metadata": {
    "id": "DkKroG5GOZWY"
   },
   "outputs": [],
   "source": [
    "new_df23 = new_df23.dropna(how='any')"
   ]
  },
  {
   "cell_type": "code",
   "execution_count": 32,
   "metadata": {
    "colab": {
     "base_uri": "https://localhost:8080/"
    },
    "id": "YOIv1wvhOZWY",
    "outputId": "c3ad579e-16e2-4d8c-d4a0-71891d71b986"
   },
   "outputs": [
    {
     "data": {
      "text/plain": [
       "director_name    0\n",
       "actor_1_name     0\n",
       "actor_2_name     0\n",
       "actor_3_name     0\n",
       "genres           0\n",
       "movie_title      0\n",
       "comb             0\n",
       "dtype: int64"
      ]
     },
     "execution_count": 32,
     "metadata": {},
     "output_type": "execute_result"
    }
   ],
   "source": [
    "new_df23.isna().sum()"
   ]
  },
  {
   "cell_type": "code",
   "execution_count": 33,
   "metadata": {
    "colab": {
     "base_uri": "https://localhost:8080/"
    },
    "id": "IB3YmNWROZWY",
    "outputId": "8abccee1-4b9e-436b-de18-eb97298d73a9"
   },
   "outputs": [
    {
     "name": "stderr",
     "output_type": "stream",
     "text": [
      "C:\\Users\\chand\\AppData\\Local\\Temp\\ipykernel_10620\\3055323516.py:1: SettingWithCopyWarning: \n",
      "A value is trying to be set on a copy of a slice from a DataFrame.\n",
      "Try using .loc[row_indexer,col_indexer] = value instead\n",
      "\n",
      "See the caveats in the documentation: https://pandas.pydata.org/pandas-docs/stable/user_guide/indexing.html#returning-a-view-versus-a-copy\n",
      "  new_df23['movie_title'] = new_df23['movie_title'].str.lower()\n"
     ]
    }
   ],
   "source": [
    "new_df23['movie_title'] = new_df23['movie_title'].str.lower()"
   ]
  },
  {
   "cell_type": "code",
   "execution_count": 34,
   "metadata": {
    "colab": {
     "base_uri": "https://localhost:8080/",
     "height": 406
    },
    "id": "3e3NnY70OZWZ",
    "outputId": "cf4351f9-93f7-40bc-cc24-ab9e45bd8358"
   },
   "outputs": [
    {
     "data": {
      "text/html": [
       "<div>\n",
       "<style scoped>\n",
       "    .dataframe tbody tr th:only-of-type {\n",
       "        vertical-align: middle;\n",
       "    }\n",
       "\n",
       "    .dataframe tbody tr th {\n",
       "        vertical-align: top;\n",
       "    }\n",
       "\n",
       "    .dataframe thead th {\n",
       "        text-align: right;\n",
       "    }\n",
       "</style>\n",
       "<table border=\"1\" class=\"dataframe\">\n",
       "  <thead>\n",
       "    <tr style=\"text-align: right;\">\n",
       "      <th></th>\n",
       "      <th>director_name</th>\n",
       "      <th>actor_1_name</th>\n",
       "      <th>actor_2_name</th>\n",
       "      <th>actor_3_name</th>\n",
       "      <th>genres</th>\n",
       "      <th>movie_title</th>\n",
       "      <th>comb</th>\n",
       "    </tr>\n",
       "  </thead>\n",
       "  <tbody>\n",
       "    <tr>\n",
       "      <th>0</th>\n",
       "      <td>Gerard Johnstone</td>\n",
       "      <td>Allison Williams</td>\n",
       "      <td>Violet McGraw</td>\n",
       "      <td>Amie Donald</td>\n",
       "      <td>Science Fiction Horror</td>\n",
       "      <td>m3gan</td>\n",
       "      <td>Allison Williams Violet McGraw Amie Donald Ger...</td>\n",
       "    </tr>\n",
       "    <tr>\n",
       "      <th>2</th>\n",
       "      <td>Nathan Frankowski</td>\n",
       "      <td>Alice Orr-Ewing</td>\n",
       "      <td>Joe Doyle</td>\n",
       "      <td>Eveline Hall</td>\n",
       "      <td>Horror Fantasy Science Fiction Thriller</td>\n",
       "      <td>the devil conspiracy</td>\n",
       "      <td>Alice Orr-Ewing Joe Doyle Eveline Hall Nathan ...</td>\n",
       "    </tr>\n",
       "    <tr>\n",
       "      <th>3</th>\n",
       "      <td>Jean-François Richet</td>\n",
       "      <td>Gerard Butler</td>\n",
       "      <td>Mike Colter</td>\n",
       "      <td>Yoson An</td>\n",
       "      <td>Action Adventure Thriller</td>\n",
       "      <td>plane</td>\n",
       "      <td>Gerard Butler Mike Colter Yoson An Jean-Franço...</td>\n",
       "    </tr>\n",
       "    <tr>\n",
       "      <th>4</th>\n",
       "      <td>Calmatic</td>\n",
       "      <td>Tosin Cole</td>\n",
       "      <td>Jacob Latimore</td>\n",
       "      <td>Karen Obilom</td>\n",
       "      <td>Comedy</td>\n",
       "      <td>house party</td>\n",
       "      <td>Tosin Cole Jacob Latimore Karen Obilom Calmati...</td>\n",
       "    </tr>\n",
       "    <tr>\n",
       "      <th>5</th>\n",
       "      <td>John Hyams</td>\n",
       "      <td>Gideon Adlon</td>\n",
       "      <td>Bethlehem Million</td>\n",
       "      <td>Marc Menchaca</td>\n",
       "      <td>Horror Thriller</td>\n",
       "      <td>sick</td>\n",
       "      <td>Gideon Adlon Bethlehem Million Marc Menchaca J...</td>\n",
       "    </tr>\n",
       "    <tr>\n",
       "      <th>...</th>\n",
       "      <td>...</td>\n",
       "      <td>...</td>\n",
       "      <td>...</td>\n",
       "      <td>...</td>\n",
       "      <td>...</td>\n",
       "      <td>...</td>\n",
       "      <td>...</td>\n",
       "    </tr>\n",
       "    <tr>\n",
       "      <th>281</th>\n",
       "      <td>Zack Snyder</td>\n",
       "      <td>Sofia Boutella</td>\n",
       "      <td>Charlie Hunnam</td>\n",
       "      <td>Michiel Huisman</td>\n",
       "      <td>Action Science Fiction Adventure</td>\n",
       "      <td>rebel moon</td>\n",
       "      <td>Sofia Boutella Charlie Hunnam Michiel Huisman ...</td>\n",
       "    </tr>\n",
       "    <tr>\n",
       "      <th>282</th>\n",
       "      <td>Sean Durkin</td>\n",
       "      <td>Zac Efron</td>\n",
       "      <td>Jeremy Allen White</td>\n",
       "      <td>Harris Dickinson</td>\n",
       "      <td>Drama</td>\n",
       "      <td>the iron claw</td>\n",
       "      <td>Zac Efron Jeremy Allen White Harris Dickinson ...</td>\n",
       "    </tr>\n",
       "    <tr>\n",
       "      <th>283</th>\n",
       "      <td>Blitz Bazawule</td>\n",
       "      <td>Fantasia Barrino</td>\n",
       "      <td>Taraji P. Henson</td>\n",
       "      <td>Danielle Brooks</td>\n",
       "      <td>Drama</td>\n",
       "      <td>the color purple</td>\n",
       "      <td>Fantasia Barrino Taraji P. Henson Danielle Bro...</td>\n",
       "    </tr>\n",
       "    <tr>\n",
       "      <th>284</th>\n",
       "      <td>George Clooney</td>\n",
       "      <td>Callum Turner</td>\n",
       "      <td>Joel Edgerton</td>\n",
       "      <td>Peter Guinness</td>\n",
       "      <td>Drama History</td>\n",
       "      <td>the boys in the boat</td>\n",
       "      <td>Callum Turner Joel Edgerton Peter Guinness Geo...</td>\n",
       "    </tr>\n",
       "    <tr>\n",
       "      <th>285</th>\n",
       "      <td>Michael Mann</td>\n",
       "      <td>Adam Driver</td>\n",
       "      <td>Penelope Cruz</td>\n",
       "      <td>Shailene Woodley</td>\n",
       "      <td>Drama History</td>\n",
       "      <td>ferrari</td>\n",
       "      <td>Adam Driver Penelope Cruz Shailene Woodley Mic...</td>\n",
       "    </tr>\n",
       "  </tbody>\n",
       "</table>\n",
       "<p>267 rows × 7 columns</p>\n",
       "</div>"
      ],
      "text/plain": [
       "            director_name      actor_1_name        actor_2_name  \\\n",
       "0        Gerard Johnstone  Allison Williams       Violet McGraw   \n",
       "2       Nathan Frankowski   Alice Orr-Ewing           Joe Doyle   \n",
       "3    Jean-François Richet     Gerard Butler         Mike Colter   \n",
       "4                Calmatic        Tosin Cole      Jacob Latimore   \n",
       "5              John Hyams      Gideon Adlon   Bethlehem Million   \n",
       "..                    ...               ...                 ...   \n",
       "281           Zack Snyder    Sofia Boutella      Charlie Hunnam   \n",
       "282           Sean Durkin         Zac Efron  Jeremy Allen White   \n",
       "283        Blitz Bazawule  Fantasia Barrino    Taraji P. Henson   \n",
       "284        George Clooney     Callum Turner       Joel Edgerton   \n",
       "285          Michael Mann       Adam Driver       Penelope Cruz   \n",
       "\n",
       "         actor_3_name                                   genres  \\\n",
       "0         Amie Donald                   Science Fiction Horror   \n",
       "2        Eveline Hall  Horror Fantasy Science Fiction Thriller   \n",
       "3            Yoson An                Action Adventure Thriller   \n",
       "4        Karen Obilom                                   Comedy   \n",
       "5       Marc Menchaca                          Horror Thriller   \n",
       "..                ...                                      ...   \n",
       "281   Michiel Huisman         Action Science Fiction Adventure   \n",
       "282  Harris Dickinson                                    Drama   \n",
       "283   Danielle Brooks                                    Drama   \n",
       "284    Peter Guinness                            Drama History   \n",
       "285  Shailene Woodley                            Drama History   \n",
       "\n",
       "              movie_title                                               comb  \n",
       "0                   m3gan  Allison Williams Violet McGraw Amie Donald Ger...  \n",
       "2    the devil conspiracy  Alice Orr-Ewing Joe Doyle Eveline Hall Nathan ...  \n",
       "3                   plane  Gerard Butler Mike Colter Yoson An Jean-Franço...  \n",
       "4             house party  Tosin Cole Jacob Latimore Karen Obilom Calmati...  \n",
       "5                    sick  Gideon Adlon Bethlehem Million Marc Menchaca J...  \n",
       "..                    ...                                                ...  \n",
       "281            rebel moon  Sofia Boutella Charlie Hunnam Michiel Huisman ...  \n",
       "282         the iron claw  Zac Efron Jeremy Allen White Harris Dickinson ...  \n",
       "283      the color purple  Fantasia Barrino Taraji P. Henson Danielle Bro...  \n",
       "284  the boys in the boat  Callum Turner Joel Edgerton Peter Guinness Geo...  \n",
       "285               ferrari  Adam Driver Penelope Cruz Shailene Woodley Mic...  \n",
       "\n",
       "[267 rows x 7 columns]"
      ]
     },
     "execution_count": 34,
     "metadata": {},
     "output_type": "execute_result"
    }
   ],
   "source": [
    "new_df23"
   ]
  },
  {
   "cell_type": "code",
   "execution_count": 35,
   "metadata": {
    "id": "BCf9fH_4OZWZ"
   },
   "outputs": [],
   "source": [
    "old_df = pd.read_csv('final_data.csv')"
   ]
  },
  {
   "cell_type": "code",
   "execution_count": 36,
   "metadata": {
    "id": "ce2e426yOZWZ",
    "outputId": "7d2c0bd7-6907-4398-c385-829b04ad921e"
   },
   "outputs": [
    {
     "data": {
      "text/html": [
       "<div>\n",
       "<style scoped>\n",
       "    .dataframe tbody tr th:only-of-type {\n",
       "        vertical-align: middle;\n",
       "    }\n",
       "\n",
       "    .dataframe tbody tr th {\n",
       "        vertical-align: top;\n",
       "    }\n",
       "\n",
       "    .dataframe thead th {\n",
       "        text-align: right;\n",
       "    }\n",
       "</style>\n",
       "<table border=\"1\" class=\"dataframe\">\n",
       "  <thead>\n",
       "    <tr style=\"text-align: right;\">\n",
       "      <th></th>\n",
       "      <th>director_name</th>\n",
       "      <th>actor_1_name</th>\n",
       "      <th>actor_2_name</th>\n",
       "      <th>actor_3_name</th>\n",
       "      <th>genres</th>\n",
       "      <th>movie_title</th>\n",
       "      <th>comb</th>\n",
       "    </tr>\n",
       "  </thead>\n",
       "  <tbody>\n",
       "    <tr>\n",
       "      <th>0</th>\n",
       "      <td>James Cameron</td>\n",
       "      <td>CCH Pounder</td>\n",
       "      <td>Joel David Moore</td>\n",
       "      <td>Wes Studi</td>\n",
       "      <td>Action Adventure Fantasy Sci-Fi</td>\n",
       "      <td>avatar</td>\n",
       "      <td>CCH Pounder Joel David Moore Wes Studi James C...</td>\n",
       "    </tr>\n",
       "    <tr>\n",
       "      <th>1</th>\n",
       "      <td>Gore Verbinski</td>\n",
       "      <td>Johnny Depp</td>\n",
       "      <td>Orlando Bloom</td>\n",
       "      <td>Jack Davenport</td>\n",
       "      <td>Action Adventure Fantasy</td>\n",
       "      <td>pirates of the caribbean: at world's end</td>\n",
       "      <td>Johnny Depp Orlando Bloom Jack Davenport Gore ...</td>\n",
       "    </tr>\n",
       "    <tr>\n",
       "      <th>2</th>\n",
       "      <td>Sam Mendes</td>\n",
       "      <td>Christoph Waltz</td>\n",
       "      <td>Rory Kinnear</td>\n",
       "      <td>Stephanie Sigman</td>\n",
       "      <td>Action Adventure Thriller</td>\n",
       "      <td>spectre</td>\n",
       "      <td>Christoph Waltz Rory Kinnear Stephanie Sigman ...</td>\n",
       "    </tr>\n",
       "    <tr>\n",
       "      <th>3</th>\n",
       "      <td>Christopher Nolan</td>\n",
       "      <td>Tom Hardy</td>\n",
       "      <td>Christian Bale</td>\n",
       "      <td>Joseph Gordon-Levitt</td>\n",
       "      <td>Action Thriller</td>\n",
       "      <td>the dark knight rises</td>\n",
       "      <td>Tom Hardy Christian Bale Joseph Gordon-Levitt ...</td>\n",
       "    </tr>\n",
       "    <tr>\n",
       "      <th>4</th>\n",
       "      <td>Doug Walker</td>\n",
       "      <td>Doug Walker</td>\n",
       "      <td>Rob Walker</td>\n",
       "      <td>unknown</td>\n",
       "      <td>Documentary</td>\n",
       "      <td>star wars: episode vii - the force awakens    ...</td>\n",
       "      <td>Doug Walker Rob Walker unknown Doug Walker Doc...</td>\n",
       "    </tr>\n",
       "    <tr>\n",
       "      <th>...</th>\n",
       "      <td>...</td>\n",
       "      <td>...</td>\n",
       "      <td>...</td>\n",
       "      <td>...</td>\n",
       "      <td>...</td>\n",
       "      <td>...</td>\n",
       "      <td>...</td>\n",
       "    </tr>\n",
       "    <tr>\n",
       "      <th>5864</th>\n",
       "      <td>Greta Gerwig</td>\n",
       "      <td>Saoirse Ronan</td>\n",
       "      <td>Emma Watson</td>\n",
       "      <td>Florence Pugh</td>\n",
       "      <td>Drama Romance</td>\n",
       "      <td>little women</td>\n",
       "      <td>Saoirse Ronan Emma Watson Florence Pugh Greta ...</td>\n",
       "    </tr>\n",
       "    <tr>\n",
       "      <th>5865</th>\n",
       "      <td>Sam Mendes</td>\n",
       "      <td>George MacKay</td>\n",
       "      <td>Dean-Charles Chapman</td>\n",
       "      <td>Mark Strong</td>\n",
       "      <td>War Drama Action History</td>\n",
       "      <td>1917</td>\n",
       "      <td>George MacKay Dean-Charles Chapman Mark Strong...</td>\n",
       "    </tr>\n",
       "    <tr>\n",
       "      <th>5866</th>\n",
       "      <td>Destin Daniel Cretton</td>\n",
       "      <td>Michael B. Jordan</td>\n",
       "      <td>Jamie Foxx</td>\n",
       "      <td>Brie Larson</td>\n",
       "      <td>Drama Crime</td>\n",
       "      <td>just mercy</td>\n",
       "      <td>Michael B. Jordan Jamie Foxx Brie Larson Desti...</td>\n",
       "    </tr>\n",
       "    <tr>\n",
       "      <th>5867</th>\n",
       "      <td>Chinonye Chukwu</td>\n",
       "      <td>Alfre Woodard</td>\n",
       "      <td>Wendell Pierce</td>\n",
       "      <td>Aldis Hodge</td>\n",
       "      <td>Drama</td>\n",
       "      <td>clemency</td>\n",
       "      <td>Alfre Woodard Wendell Pierce Aldis Hodge Chino...</td>\n",
       "    </tr>\n",
       "    <tr>\n",
       "      <th>5868</th>\n",
       "      <td>Waymon Boone</td>\n",
       "      <td>Mena Suvari</td>\n",
       "      <td>Kevin Pollak</td>\n",
       "      <td>unknown</td>\n",
       "      <td>Horror Thriller</td>\n",
       "      <td>apparition</td>\n",
       "      <td>Mena Suvari Kevin Pollak unknown Waymon Boone ...</td>\n",
       "    </tr>\n",
       "  </tbody>\n",
       "</table>\n",
       "<p>5869 rows × 7 columns</p>\n",
       "</div>"
      ],
      "text/plain": [
       "              director_name       actor_1_name          actor_2_name  \\\n",
       "0             James Cameron        CCH Pounder      Joel David Moore   \n",
       "1            Gore Verbinski        Johnny Depp         Orlando Bloom   \n",
       "2                Sam Mendes    Christoph Waltz          Rory Kinnear   \n",
       "3         Christopher Nolan          Tom Hardy        Christian Bale   \n",
       "4               Doug Walker        Doug Walker            Rob Walker   \n",
       "...                     ...                ...                   ...   \n",
       "5864           Greta Gerwig      Saoirse Ronan           Emma Watson   \n",
       "5865             Sam Mendes      George MacKay  Dean-Charles Chapman   \n",
       "5866  Destin Daniel Cretton  Michael B. Jordan            Jamie Foxx   \n",
       "5867        Chinonye Chukwu      Alfre Woodard        Wendell Pierce   \n",
       "5868           Waymon Boone        Mena Suvari          Kevin Pollak   \n",
       "\n",
       "              actor_3_name                           genres  \\\n",
       "0                Wes Studi  Action Adventure Fantasy Sci-Fi   \n",
       "1           Jack Davenport         Action Adventure Fantasy   \n",
       "2         Stephanie Sigman        Action Adventure Thriller   \n",
       "3     Joseph Gordon-Levitt                  Action Thriller   \n",
       "4                  unknown                      Documentary   \n",
       "...                    ...                              ...   \n",
       "5864         Florence Pugh                    Drama Romance   \n",
       "5865           Mark Strong         War Drama Action History   \n",
       "5866           Brie Larson                      Drama Crime   \n",
       "5867           Aldis Hodge                            Drama   \n",
       "5868               unknown                  Horror Thriller   \n",
       "\n",
       "                                            movie_title  \\\n",
       "0                                                avatar   \n",
       "1              pirates of the caribbean: at world's end   \n",
       "2                                               spectre   \n",
       "3                                 the dark knight rises   \n",
       "4     star wars: episode vii - the force awakens    ...   \n",
       "...                                                 ...   \n",
       "5864                                       little women   \n",
       "5865                                               1917   \n",
       "5866                                         just mercy   \n",
       "5867                                           clemency   \n",
       "5868                                         apparition   \n",
       "\n",
       "                                                   comb  \n",
       "0     CCH Pounder Joel David Moore Wes Studi James C...  \n",
       "1     Johnny Depp Orlando Bloom Jack Davenport Gore ...  \n",
       "2     Christoph Waltz Rory Kinnear Stephanie Sigman ...  \n",
       "3     Tom Hardy Christian Bale Joseph Gordon-Levitt ...  \n",
       "4     Doug Walker Rob Walker unknown Doug Walker Doc...  \n",
       "...                                                 ...  \n",
       "5864  Saoirse Ronan Emma Watson Florence Pugh Greta ...  \n",
       "5865  George MacKay Dean-Charles Chapman Mark Strong...  \n",
       "5866  Michael B. Jordan Jamie Foxx Brie Larson Desti...  \n",
       "5867  Alfre Woodard Wendell Pierce Aldis Hodge Chino...  \n",
       "5868  Mena Suvari Kevin Pollak unknown Waymon Boone ...  \n",
       "\n",
       "[5869 rows x 7 columns]"
      ]
     },
     "execution_count": 36,
     "metadata": {},
     "output_type": "execute_result"
    }
   ],
   "source": [
    "old_df"
   ]
  },
  {
   "cell_type": "code",
   "execution_count": 37,
   "metadata": {
    "id": "P14B9e3GOZWZ"
   },
   "outputs": [
    {
     "name": "stderr",
     "output_type": "stream",
     "text": [
      "C:\\Users\\chand\\AppData\\Local\\Temp\\ipykernel_10620\\2740235243.py:1: FutureWarning: The frame.append method is deprecated and will be removed from pandas in a future version. Use pandas.concat instead.\n",
      "  final_df = old_df.append(new_df23,ignore_index=True)\n"
     ]
    }
   ],
   "source": [
    "final_df = old_df.append(new_df23,ignore_index=True)"
   ]
  },
  {
   "cell_type": "code",
   "execution_count": 38,
   "metadata": {
    "id": "0RAVcY-jOZWZ",
    "outputId": "0e87fe5f-5a7a-4792-edf3-a5027e667af0"
   },
   "outputs": [
    {
     "data": {
      "text/html": [
       "<div>\n",
       "<style scoped>\n",
       "    .dataframe tbody tr th:only-of-type {\n",
       "        vertical-align: middle;\n",
       "    }\n",
       "\n",
       "    .dataframe tbody tr th {\n",
       "        vertical-align: top;\n",
       "    }\n",
       "\n",
       "    .dataframe thead th {\n",
       "        text-align: right;\n",
       "    }\n",
       "</style>\n",
       "<table border=\"1\" class=\"dataframe\">\n",
       "  <thead>\n",
       "    <tr style=\"text-align: right;\">\n",
       "      <th></th>\n",
       "      <th>director_name</th>\n",
       "      <th>actor_1_name</th>\n",
       "      <th>actor_2_name</th>\n",
       "      <th>actor_3_name</th>\n",
       "      <th>genres</th>\n",
       "      <th>movie_title</th>\n",
       "      <th>comb</th>\n",
       "    </tr>\n",
       "  </thead>\n",
       "  <tbody>\n",
       "    <tr>\n",
       "      <th>0</th>\n",
       "      <td>James Cameron</td>\n",
       "      <td>CCH Pounder</td>\n",
       "      <td>Joel David Moore</td>\n",
       "      <td>Wes Studi</td>\n",
       "      <td>Action Adventure Fantasy Sci-Fi</td>\n",
       "      <td>avatar</td>\n",
       "      <td>CCH Pounder Joel David Moore Wes Studi James C...</td>\n",
       "    </tr>\n",
       "    <tr>\n",
       "      <th>1</th>\n",
       "      <td>Gore Verbinski</td>\n",
       "      <td>Johnny Depp</td>\n",
       "      <td>Orlando Bloom</td>\n",
       "      <td>Jack Davenport</td>\n",
       "      <td>Action Adventure Fantasy</td>\n",
       "      <td>pirates of the caribbean: at world's end</td>\n",
       "      <td>Johnny Depp Orlando Bloom Jack Davenport Gore ...</td>\n",
       "    </tr>\n",
       "    <tr>\n",
       "      <th>2</th>\n",
       "      <td>Sam Mendes</td>\n",
       "      <td>Christoph Waltz</td>\n",
       "      <td>Rory Kinnear</td>\n",
       "      <td>Stephanie Sigman</td>\n",
       "      <td>Action Adventure Thriller</td>\n",
       "      <td>spectre</td>\n",
       "      <td>Christoph Waltz Rory Kinnear Stephanie Sigman ...</td>\n",
       "    </tr>\n",
       "    <tr>\n",
       "      <th>3</th>\n",
       "      <td>Christopher Nolan</td>\n",
       "      <td>Tom Hardy</td>\n",
       "      <td>Christian Bale</td>\n",
       "      <td>Joseph Gordon-Levitt</td>\n",
       "      <td>Action Thriller</td>\n",
       "      <td>the dark knight rises</td>\n",
       "      <td>Tom Hardy Christian Bale Joseph Gordon-Levitt ...</td>\n",
       "    </tr>\n",
       "    <tr>\n",
       "      <th>4</th>\n",
       "      <td>Doug Walker</td>\n",
       "      <td>Doug Walker</td>\n",
       "      <td>Rob Walker</td>\n",
       "      <td>unknown</td>\n",
       "      <td>Documentary</td>\n",
       "      <td>star wars: episode vii - the force awakens    ...</td>\n",
       "      <td>Doug Walker Rob Walker unknown Doug Walker Doc...</td>\n",
       "    </tr>\n",
       "    <tr>\n",
       "      <th>...</th>\n",
       "      <td>...</td>\n",
       "      <td>...</td>\n",
       "      <td>...</td>\n",
       "      <td>...</td>\n",
       "      <td>...</td>\n",
       "      <td>...</td>\n",
       "      <td>...</td>\n",
       "    </tr>\n",
       "    <tr>\n",
       "      <th>6131</th>\n",
       "      <td>Zack Snyder</td>\n",
       "      <td>Sofia Boutella</td>\n",
       "      <td>Charlie Hunnam</td>\n",
       "      <td>Michiel Huisman</td>\n",
       "      <td>Action Science Fiction Adventure</td>\n",
       "      <td>rebel moon</td>\n",
       "      <td>Sofia Boutella Charlie Hunnam Michiel Huisman ...</td>\n",
       "    </tr>\n",
       "    <tr>\n",
       "      <th>6132</th>\n",
       "      <td>Sean Durkin</td>\n",
       "      <td>Zac Efron</td>\n",
       "      <td>Jeremy Allen White</td>\n",
       "      <td>Harris Dickinson</td>\n",
       "      <td>Drama</td>\n",
       "      <td>the iron claw</td>\n",
       "      <td>Zac Efron Jeremy Allen White Harris Dickinson ...</td>\n",
       "    </tr>\n",
       "    <tr>\n",
       "      <th>6133</th>\n",
       "      <td>Blitz Bazawule</td>\n",
       "      <td>Fantasia Barrino</td>\n",
       "      <td>Taraji P. Henson</td>\n",
       "      <td>Danielle Brooks</td>\n",
       "      <td>Drama</td>\n",
       "      <td>the color purple</td>\n",
       "      <td>Fantasia Barrino Taraji P. Henson Danielle Bro...</td>\n",
       "    </tr>\n",
       "    <tr>\n",
       "      <th>6134</th>\n",
       "      <td>George Clooney</td>\n",
       "      <td>Callum Turner</td>\n",
       "      <td>Joel Edgerton</td>\n",
       "      <td>Peter Guinness</td>\n",
       "      <td>Drama History</td>\n",
       "      <td>the boys in the boat</td>\n",
       "      <td>Callum Turner Joel Edgerton Peter Guinness Geo...</td>\n",
       "    </tr>\n",
       "    <tr>\n",
       "      <th>6135</th>\n",
       "      <td>Michael Mann</td>\n",
       "      <td>Adam Driver</td>\n",
       "      <td>Penelope Cruz</td>\n",
       "      <td>Shailene Woodley</td>\n",
       "      <td>Drama History</td>\n",
       "      <td>ferrari</td>\n",
       "      <td>Adam Driver Penelope Cruz Shailene Woodley Mic...</td>\n",
       "    </tr>\n",
       "  </tbody>\n",
       "</table>\n",
       "<p>6136 rows × 7 columns</p>\n",
       "</div>"
      ],
      "text/plain": [
       "          director_name      actor_1_name        actor_2_name  \\\n",
       "0         James Cameron       CCH Pounder    Joel David Moore   \n",
       "1        Gore Verbinski       Johnny Depp       Orlando Bloom   \n",
       "2            Sam Mendes   Christoph Waltz        Rory Kinnear   \n",
       "3     Christopher Nolan         Tom Hardy      Christian Bale   \n",
       "4           Doug Walker       Doug Walker          Rob Walker   \n",
       "...                 ...               ...                 ...   \n",
       "6131        Zack Snyder    Sofia Boutella      Charlie Hunnam   \n",
       "6132        Sean Durkin         Zac Efron  Jeremy Allen White   \n",
       "6133     Blitz Bazawule  Fantasia Barrino    Taraji P. Henson   \n",
       "6134     George Clooney     Callum Turner       Joel Edgerton   \n",
       "6135       Michael Mann       Adam Driver       Penelope Cruz   \n",
       "\n",
       "              actor_3_name                            genres  \\\n",
       "0                Wes Studi   Action Adventure Fantasy Sci-Fi   \n",
       "1           Jack Davenport          Action Adventure Fantasy   \n",
       "2         Stephanie Sigman         Action Adventure Thriller   \n",
       "3     Joseph Gordon-Levitt                   Action Thriller   \n",
       "4                  unknown                       Documentary   \n",
       "...                    ...                               ...   \n",
       "6131       Michiel Huisman  Action Science Fiction Adventure   \n",
       "6132      Harris Dickinson                             Drama   \n",
       "6133       Danielle Brooks                             Drama   \n",
       "6134        Peter Guinness                     Drama History   \n",
       "6135      Shailene Woodley                     Drama History   \n",
       "\n",
       "                                            movie_title  \\\n",
       "0                                                avatar   \n",
       "1              pirates of the caribbean: at world's end   \n",
       "2                                               spectre   \n",
       "3                                 the dark knight rises   \n",
       "4     star wars: episode vii - the force awakens    ...   \n",
       "...                                                 ...   \n",
       "6131                                         rebel moon   \n",
       "6132                                      the iron claw   \n",
       "6133                                   the color purple   \n",
       "6134                               the boys in the boat   \n",
       "6135                                            ferrari   \n",
       "\n",
       "                                                   comb  \n",
       "0     CCH Pounder Joel David Moore Wes Studi James C...  \n",
       "1     Johnny Depp Orlando Bloom Jack Davenport Gore ...  \n",
       "2     Christoph Waltz Rory Kinnear Stephanie Sigman ...  \n",
       "3     Tom Hardy Christian Bale Joseph Gordon-Levitt ...  \n",
       "4     Doug Walker Rob Walker unknown Doug Walker Doc...  \n",
       "...                                                 ...  \n",
       "6131  Sofia Boutella Charlie Hunnam Michiel Huisman ...  \n",
       "6132  Zac Efron Jeremy Allen White Harris Dickinson ...  \n",
       "6133  Fantasia Barrino Taraji P. Henson Danielle Bro...  \n",
       "6134  Callum Turner Joel Edgerton Peter Guinness Geo...  \n",
       "6135  Adam Driver Penelope Cruz Shailene Woodley Mic...  \n",
       "\n",
       "[6136 rows x 7 columns]"
      ]
     },
     "execution_count": 38,
     "metadata": {},
     "output_type": "execute_result"
    }
   ],
   "source": [
    "final_df"
   ]
  },
  {
   "cell_type": "code",
   "execution_count": 39,
   "metadata": {
    "id": "gCTWwaOiOZWZ"
   },
   "outputs": [],
   "source": [
    "final_df.to_csv('main_data.csv',index=False)"
   ]
  }
 ],
 "metadata": {
  "colab": {
   "collapsed_sections": [],
   "name": "preprocessing 4.ipynb",
   "provenance": []
  },
  "kernelspec": {
   "display_name": "Python 3 (ipykernel)",
   "language": "python",
   "name": "python3"
  },
  "language_info": {
   "codemirror_mode": {
    "name": "ipython",
    "version": 3
   },
   "file_extension": ".py",
   "mimetype": "text/x-python",
   "name": "python",
   "nbconvert_exporter": "python",
   "pygments_lexer": "ipython3",
   "version": "3.10.11"
  }
 },
 "nbformat": 4,
 "nbformat_minor": 1
}
