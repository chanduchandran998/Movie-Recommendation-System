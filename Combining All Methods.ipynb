{
 "cells": [
  {
   "cell_type": "markdown",
   "id": "d9e80fe4",
   "metadata": {},
   "source": [
    "# Combining All Methods"
   ]
  },
  {
   "cell_type": "code",
   "execution_count": null,
   "id": "df2b0303",
   "metadata": {},
   "outputs": [],
   "source": [
    "import requests\n",
    "from bs4 import BeautifulSoup\n",
    "import pandas as pd\n",
    "from sklearn.feature_extraction.text import TfidfVectorizer\n",
    "from sklearn.metrics.pairwise import cosine_similarity\n",
    "from sklearn.naive_bayes import MultinomialNB\n",
    "from sklearn.model_selection import train_test_split\n",
    "from sklearn.metrics import accuracy_score\n",
    "import nltk\n",
    "from nltk.corpus import stopwords\n",
    "from nltk.tokenize import word_tokenize\n",
    "from nltk.stem import PorterStemmer"
   ]
  },
  {
   "cell_type": "code",
   "execution_count": null,
   "id": "69f1ec3a",
   "metadata": {},
   "outputs": [],
   "source": [
    "# Function to fetch movie data from TMDb\n",
    "def fetch_movie_data(movie_title, api_key):\n",
    "    base_url = 'https://api.themoviedb.org/3'\n",
    "    search_url = f'{base_url}/search/movie'\n",
    "    params = {\n",
    "        'api_key': api_key,\n",
    "        'query': movie_title\n",
    "    }\n",
    "\n",
    "    response = requests.get(search_url, params=params)\n",
    "    if response.status_code == 200:\n",
    "        data = response.json()\n",
    "        return data.get('results', [])\n",
    "    else:\n",
    "        print(f\"Error fetching movie data: {response.status_code}\")\n",
    "        return []"
   ]
  },
  {
   "cell_type": "code",
   "execution_count": null,
   "id": "5ba17a2c",
   "metadata": {},
   "outputs": [],
   "source": [
    "# Function to scrape IMDb movie reviews\n",
    "def scrape_imdb_reviews(imdb_url):\n",
    "    page = requests.get(imdb_url)\n",
    "    soup = BeautifulSoup(page.content, 'html.parser')\n",
    "    reviews = []\n",
    "    for review in soup.find_all('div', class_='text show-more__control'):\n",
    "        text = review.get_text()\n",
    "        reviews.append(text)\n",
    "    return reviews"
   ]
  },
  {
   "cell_type": "code",
   "execution_count": null,
   "id": "67006d9d",
   "metadata": {},
   "outputs": [],
   "source": [
    "# Function to preprocess text\n",
    "def preprocess_text(text):\n",
    "    stop_words = set(stopwords.words('english'))\n",
    "    stemmer = PorterStemmer()\n",
    "    words = word_tokenize(text)\n",
    "    words = [word.lower() for word in words if word.isalpha() and word.lower() not in stop_words]\n",
    "    words = [stemmer.stem(word) for word in words]\n",
    "    return ' '.join(words)"
   ]
  },
  {
   "cell_type": "code",
   "execution_count": null,
   "id": "1185edef",
   "metadata": {},
   "outputs": [],
   "source": [
    "# Main function\n",
    "def main():\n",
    "    # Replace 'YOUR_TMDB_API_KEY' with your actual TMDb API key\n",
    "    tmdb_api_key = '703a12952f3292e9958bc4d2d904a228'\n",
    "    \n",
    "    movie_title = 'Inception'  # Replace with the movie title you want to search for"
   ]
  },
  {
   "cell_type": "code",
   "execution_count": null,
   "id": "74ffdacc",
   "metadata": {},
   "outputs": [],
   "source": [
    "# Fetch movie data from TMDb\n",
    "    movie_data = fetch_movie_data(movie_title, tmdb_api_key)\n",
    "\n",
    "    if not movie_data:\n",
    "        print(f\"No movie found for '{movie_title}'\")\n",
    "        return"
   ]
  },
  {
   "cell_type": "code",
   "execution_count": null,
   "id": "4b114c21",
   "metadata": {},
   "outputs": [],
   "source": [
    "    # Get the first movie's description from TMDb data\n",
    "    movie_description = movie_data[0]['overview']"
   ]
  },
  {
   "cell_type": "code",
   "execution_count": null,
   "id": "20c7314f",
   "metadata": {},
   "outputs": [],
   "source": [
    "    # Scrape IMDb movie reviews for the same movie\n",
    "    imdb_url = 'https://www.imdb.com/title/' + movie_data[0]['id']\n",
    "    imdb_reviews = scrape_imdb_reviews(imdb_url)"
   ]
  },
  {
   "cell_type": "code",
   "execution_count": null,
   "id": "7a4f42d0",
   "metadata": {},
   "outputs": [],
   "source": [
    "    # Preprocess IMDb reviews and movie description\n",
    "    preprocessed_reviews = [preprocess_text(review) for review in imdb_reviews]\n",
    "    preprocessed_description = preprocess_text(movie_description)"
   ]
  },
  {
   "cell_type": "code",
   "execution_count": null,
   "id": "c77218ee",
   "metadata": {},
   "outputs": [],
   "source": [
    "    # Create TF-IDF vectors for reviews and movie description\n",
    "    vectorizer = TfidfVectorizer()\n",
    "    tfidf_reviews = vectorizer.fit_transform(preprocessed_reviews)\n",
    "    tfidf_description = vectorizer.transform([preprocessed_description])"
   ]
  },
  {
   "cell_type": "code",
   "execution_count": null,
   "id": "6ee53aa5",
   "metadata": {},
   "outputs": [],
   "source": [
    "    # Calculate cosine similarity between IMDb reviews and movie description\n",
    "    cosine_similarities = cosine_similarity(tfidf_reviews, tfidf_description)"
   ]
  },
  {
   "cell_type": "code",
   "execution_count": null,
   "id": "573d8677",
   "metadata": {},
   "outputs": [],
   "source": [
    "    # Perform sentiment analysis on IMDb reviews using a Naive Bayes classifier\n",
    "    # Sample labels (you can label the reviews according to your own criteria)\n",
    "    labels = [\"Positive\", \"Negative\", \"Positive\", \"Negative\", \"Positive\"]"
   ]
  },
  {
   "cell_type": "code",
   "execution_count": null,
   "id": "a343f905",
   "metadata": {},
   "outputs": [],
   "source": [
    "    # Split data into training and testing sets\n",
    "    X_train, X_test, y_train, y_test = train_test_split(imdb_reviews, labels, test_size=0.2, random_state=42)"
   ]
  },
  {
   "cell_type": "code",
   "execution_count": null,
   "id": "9fdc5995",
   "metadata": {},
   "outputs": [],
   "source": [
    "    # Create TF-IDF vectors for reviews\n",
    "    tfidf_vectorizer = TfidfVectorizer()\n",
    "    X_train_tfidf = tfidf_vectorizer.fit_transform(X_train)\n",
    "    X_test_tfidf = tfidf_vectorizer.transform(X_test)"
   ]
  },
  {
   "cell_type": "code",
   "execution_count": null,
   "id": "1439cedb",
   "metadata": {},
   "outputs": [],
   "source": [
    "    # Train a Naive Bayes classifier\n",
    "    clf = MultinomialNB()\n",
    "    clf.fit(X_train_tfidf, y_train)\n",
    "    y_pred = clf.predict(X_test_tfidf)"
   ]
  },
  {
   "cell_type": "code",
   "execution_count": null,
   "id": "cb66078d",
   "metadata": {},
   "outputs": [],
   "source": [
    "    # Calculate accuracy\n",
    "    accuracy = accuracy_score(y_test, y_pred)\n",
    "    print(f\"Naive Bayes Accuracy: {accuracy:.2f}\")"
   ]
  },
  {
   "cell_type": "code",
   "execution_count": null,
   "id": "7185e8b0",
   "metadata": {},
   "outputs": [],
   "source": [
    "    # Output recommendations based on cosine similarity and sentiment analysis\n",
    "    print(\"Movie Description:\")\n",
    "    print(movie_description)\n",
    "    print(\"\\nIMDb Reviews:\")\n",
    "    for i, review in enumerate(imdb_reviews):\n",
    "        print(f\"Review {i+1}: {review} (Sentiment: {labels[i]})\")\n",
    "    print(\"\\nCosine Similarity Scores:\")\n",
    "    for i, similarity_score in enumerate(cosine_similarities):\n",
    "        print(f\"Review {i+1}: {similarity_score[0]:.4f} (Sentiment: {labels[i]})\")\n",
    "\n",
    "if __name__ == \"__main__\":\n",
    "    main()"
   ]
  }
 ],
 "metadata": {
  "kernelspec": {
   "display_name": "Python 3 (ipykernel)",
   "language": "python",
   "name": "python3"
  },
  "language_info": {
   "codemirror_mode": {
    "name": "ipython",
    "version": 3
   },
   "file_extension": ".py",
   "mimetype": "text/x-python",
   "name": "python",
   "nbconvert_exporter": "python",
   "pygments_lexer": "ipython3",
   "version": "3.10.11"
  }
 },
 "nbformat": 4,
 "nbformat_minor": 5
}
