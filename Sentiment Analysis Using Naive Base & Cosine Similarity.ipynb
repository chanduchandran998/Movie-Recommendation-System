{
 "cells": [
  {
   "cell_type": "markdown",
   "id": "c9712d41",
   "metadata": {},
   "source": [
    "# Sentiment Analysis Using Naive Base & Cosine Similarity"
   ]
  },
  {
   "cell_type": "code",
   "execution_count": null,
   "id": "2a62bbe3",
   "metadata": {},
   "outputs": [],
   "source": [
    "import requests\n",
    "from bs4 import BeautifulSoup\n",
    "import nltk\n",
    "from nltk.corpus import stopwords\n",
    "from nltk.tokenize import word_tokenize\n",
    "from nltk.stem import PorterStemmer\n",
    "from sklearn.feature_extraction.text import TfidfVectorizer\n",
    "from sklearn.naive_bayes import MultinomialNB\n",
    "from sklearn.model_selection import train_test_split\n",
    "from sklearn.metrics import accuracy_score\n",
    "import numpy as np"
   ]
  },
  {
   "cell_type": "code",
   "execution_count": null,
   "id": "937e2f91",
   "metadata": {},
   "outputs": [],
   "source": [
    "# Define IMDb movie review URL\n",
    "url = \"https://www.imdb.com/title/tt0111161/reviews\""
   ]
  },
  {
   "cell_type": "code",
   "execution_count": null,
   "id": "5af8d621",
   "metadata": {},
   "outputs": [],
   "source": [
    "# Function to scrape IMDb movie reviews\n",
    "def scrape_imdb_reviews(url):\n",
    "    page = requests.get(url)\n",
    "    soup = BeautifulSoup(page.content, 'html.parser')\n",
    "    reviews = []\n",
    "    for review in soup.find_all('div', class_='text show-more__control'):\n",
    "        text = review.get_text()\n",
    "        reviews.append(text)\n",
    "    return reviews"
   ]
  },
  {
   "cell_type": "code",
   "execution_count": null,
   "id": "9de909f7",
   "metadata": {},
   "outputs": [],
   "source": [
    "# Scrape IMDb movie reviews\n",
    "reviews = scrape_imdb_reviews(url)"
   ]
  },
  {
   "cell_type": "code",
   "execution_count": null,
   "id": "3104a2d4",
   "metadata": {},
   "outputs": [],
   "source": [
    "# Sample positive and negative words for sentiment analysis\n",
    "positive_words = [\"good\", \"great\", \"excellent\", \"wonderful\"]\n",
    "negative_words = [\"bad\", \"poor\", \"awful\", \"terrible\"]"
   ]
  },
  {
   "cell_type": "code",
   "execution_count": null,
   "id": "629a415d",
   "metadata": {},
   "outputs": [],
   "source": [
    "# Function to perform sentiment analysis using cosine similarity\n",
    "def sentiment_analysis_cosine(reviews, positive_words, negative_words):"
   ]
  },
  {
   "cell_type": "code",
   "execution_count": null,
   "id": "6fb1dc64",
   "metadata": {},
   "outputs": [],
   "source": [
    "# Tokenize and preprocess reviews\n",
    "    nltk.download('punkt')\n",
    "    nltk.download('stopwords')\n",
    "    stop_words = set(stopwords.words('english'))\n",
    "    stemmer = PorterStemmer()\n",
    "    \n",
    "    def preprocess_text(text):\n",
    "        words = word_tokenize(text)\n",
    "        words = [word.lower() for word in words if word.isalpha() and word.lower() not in stop_words]\n",
    "        words = [stemmer.stem(word) for word in words]\n",
    "        return ' '.join(words)\n",
    "    \n",
    "    preprocessed_reviews = [preprocess_text(review) for review in reviews]"
   ]
  },
  {
   "cell_type": "code",
   "execution_count": null,
   "id": "633c7ea1",
   "metadata": {},
   "outputs": [],
   "source": [
    "    # Create TF-IDF vectors\n",
    "    vectorizer = TfidfVectorizer()\n",
    "    tfidf_matrix = vectorizer.fit_transform(preprocessed_reviews)"
   ]
  },
  {
   "cell_type": "code",
   "execution_count": null,
   "id": "4dbf1644",
   "metadata": {},
   "outputs": [],
   "source": [
    "    # Calculate cosine similarity\n",
    "    cosine_sim = np.dot(tfidf_matrix, tfidf_matrix.T)"
   ]
  },
  {
   "cell_type": "code",
   "execution_count": null,
   "id": "96684828",
   "metadata": {},
   "outputs": [],
   "source": [
    "    # Classify reviews as positive or negative\n",
    "    sentiments = []\n",
    "    for i in range(len(reviews)):\n",
    "        pos_sim = np.mean(cosine_sim[i, [positive_words.index(word) for word in preprocessed_reviews[i].split() if word in positive_words]])\n",
    "        neg_sim = np.mean(cosine_sim[i, [negative_words.index(word) for word in preprocessed_reviews[i].split() if word in negative_words]])\n",
    "        \n",
    "        if pos_sim > neg_sim:\n",
    "            sentiments.append(\"Positive\")\n",
    "        else:\n",
    "            sentiments.append(\"Negative\")\n",
    "\n",
    "    return sentiments"
   ]
  },
  {
   "cell_type": "code",
   "execution_count": null,
   "id": "fd3db0ac",
   "metadata": {},
   "outputs": [],
   "source": [
    "# Perform sentiment analysis\n",
    "sentiments = sentiment_analysis_cosine(reviews, positive_words, negative_words)"
   ]
  },
  {
   "cell_type": "code",
   "execution_count": null,
   "id": "3b95e07b",
   "metadata": {},
   "outputs": [],
   "source": [
    "# Print the sentiments for each review\n",
    "for i in range(len(reviews)):\n",
    "    print(f\"Review {i+1}: {sentiments[i]}\")"
   ]
  },
  {
   "cell_type": "code",
   "execution_count": null,
   "id": "ab38921a",
   "metadata": {},
   "outputs": [],
   "source": [
    "# Sample labels for reviews (you can label your reviews accordingly)\n",
    "labels = [\"Positive\", \"Negative\", \"Positive\", \"Negative\", \"Positive\"]"
   ]
  },
  {
   "cell_type": "code",
   "execution_count": null,
   "id": "a7e177ae",
   "metadata": {},
   "outputs": [],
   "source": [
    "# Split data into training and testing sets\n",
    "X_train, X_test, y_train, y_test = train_test_split(reviews, labels, test_size=0.2, random_state=42)"
   ]
  },
  {
   "cell_type": "code",
   "execution_count": null,
   "id": "bf99edb5",
   "metadata": {},
   "outputs": [],
   "source": [
    "# Function to perform sentiment analysis using Naive Bayes\n",
    "def sentiment_analysis_naive_bayes(X_train, y_train, X_test):\n",
    "    vectorizer = TfidfVectorizer()\n",
    "    X_train_tfidf = vectorizer.fit_transform(X_train)\n",
    "    X_test_tfidf = vectorizer.transform(X_test)\n",
    "\n",
    "    clf = MultinomialNB()\n",
    "    clf.fit(X_train_tfidf, y_train)\n",
    "    y_pred = clf.predict(X_test_tfidf)\n",
    "\n",
    "    return y_pred"
   ]
  },
  {
   "cell_type": "code",
   "execution_count": null,
   "id": "83925509",
   "metadata": {},
   "outputs": [],
   "source": [
    "# Perform sentiment analysis using Naive Bayes\n",
    "y_pred = sentiment_analysis_naive_bayes(X_train, y_train, X_test)"
   ]
  },
  {
   "cell_type": "code",
   "execution_count": null,
   "id": "c6c2a037",
   "metadata": {},
   "outputs": [],
   "source": [
    "# Calculate accuracy\n",
    "accuracy = accuracy_score(y_test, y_pred)\n",
    "print(f\"Naive Bayes Accuracy: {accuracy:.2f}\")"
   ]
  }
 ],
 "metadata": {
  "kernelspec": {
   "display_name": "Python 3 (ipykernel)",
   "language": "python",
   "name": "python3"
  },
  "language_info": {
   "codemirror_mode": {
    "name": "ipython",
    "version": 3
   },
   "file_extension": ".py",
   "mimetype": "text/x-python",
   "name": "python",
   "nbconvert_exporter": "python",
   "pygments_lexer": "ipython3",
   "version": "3.10.11"
  }
 },
 "nbformat": 4,
 "nbformat_minor": 5
}
