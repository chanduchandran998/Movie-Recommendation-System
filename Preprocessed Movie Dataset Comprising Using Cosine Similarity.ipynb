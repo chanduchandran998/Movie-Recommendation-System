{
 "cells": [
  {
   "cell_type": "markdown",
   "id": "75f641b1",
   "metadata": {},
   "source": [
    "# Preprocessed Movie Dataset Comprising Using Cosine Similarity"
   ]
  },
  {
   "cell_type": "code",
   "execution_count": null,
   "id": "bb2abf6d",
   "metadata": {},
   "outputs": [],
   "source": [
    "import pandas as pd\n",
    "from sklearn.feature_extraction.text import TfidfVectorizer\n",
    "from sklearn.metrics.pairwise import cosine_similarity\n",
    "import nltk\n",
    "from nltk.corpus import stopwords\n",
    "from nltk.tokenize import word_tokenize\n",
    "from nltk.stem import PorterStemmer"
   ]
  },
  {
   "cell_type": "code",
   "execution_count": null,
   "id": "cad69760",
   "metadata": {},
   "outputs": [],
   "source": [
    "# Sample movie dataset\n",
    "data = {\n",
    "    'Title': ['Movie A', 'Movie B', 'Movie C', 'Movie D'],\n",
    "    'Description': [\n",
    "        'A story about adventure and friendship.',\n",
    "        'A comedy film with lots of laughs.',\n",
    "        'A romantic drama with a heartfelt story.',\n",
    "        'An action-packed thriller with suspense.'\n",
    "    ]\n",
    "}"
   ]
  },
  {
   "cell_type": "code",
   "execution_count": null,
   "id": "04e0d1fd",
   "metadata": {},
   "outputs": [],
   "source": [
    "# Create a DataFrame from the sample data\n",
    "df = pd.DataFrame(data)"
   ]
  },
  {
   "cell_type": "code",
   "execution_count": null,
   "id": "efebcfd5",
   "metadata": {},
   "outputs": [],
   "source": [
    "# Tokenization and preprocessing\n",
    "nltk.download('punkt')\n",
    "nltk.download('stopwords')\n",
    "stop_words = set(stopwords.words('english'))\n",
    "stemmer = PorterStemmer()"
   ]
  },
  {
   "cell_type": "code",
   "execution_count": null,
   "id": "8d6d2373",
   "metadata": {},
   "outputs": [],
   "source": [
    "def preprocess_text(text):\n",
    "    words = word_tokenize(text)\n",
    "    words = [word.lower() for word in words if word.isalpha() and word.lower() not in stop_words]\n",
    "    words = [stemmer.stem(word) for word in words]\n",
    "    return ' '.join(words)"
   ]
  },
  {
   "cell_type": "code",
   "execution_count": null,
   "id": "33bb3495",
   "metadata": {},
   "outputs": [],
   "source": [
    "df['Preprocessed_Description'] = df['Description'].apply(preprocess_text)"
   ]
  },
  {
   "cell_type": "code",
   "execution_count": null,
   "id": "8a99e367",
   "metadata": {},
   "outputs": [],
   "source": [
    "# Calculate TF-IDF vectors\n",
    "tfidf_vectorizer = TfidfVectorizer()\n",
    "tfidf_matrix = tfidf_vectorizer.fit_transform(df['Preprocessed_Description'])"
   ]
  },
  {
   "cell_type": "code",
   "execution_count": null,
   "id": "cc4f0b31",
   "metadata": {},
   "outputs": [],
   "source": [
    "# Calculate cosine similarity\n",
    "cosine_sim = cosine_similarity(tfidf_matrix, tfidf_matrix)"
   ]
  },
  {
   "cell_type": "code",
   "execution_count": null,
   "id": "b72c29de",
   "metadata": {},
   "outputs": [],
   "source": [
    "# Create a DataFrame for cosine similarity scores\n",
    "cosine_sim_df = pd.DataFrame(cosine_sim, columns=df['Title'], index=df['Title'])"
   ]
  },
  {
   "cell_type": "code",
   "execution_count": null,
   "id": "eea5e56d",
   "metadata": {},
   "outputs": [],
   "source": [
    "# Print the cosine similarity matrix\n",
    "print(\"Cosine Similarity Matrix:\")\n",
    "print(cosine_sim_df)"
   ]
  }
 ],
 "metadata": {
  "kernelspec": {
   "display_name": "Python 3 (ipykernel)",
   "language": "python",
   "name": "python3"
  },
  "language_info": {
   "codemirror_mode": {
    "name": "ipython",
    "version": 3
   },
   "file_extension": ".py",
   "mimetype": "text/x-python",
   "name": "python",
   "nbconvert_exporter": "python",
   "pygments_lexer": "ipython3",
   "version": "3.10.11"
  }
 },
 "nbformat": 4,
 "nbformat_minor": 5
}
