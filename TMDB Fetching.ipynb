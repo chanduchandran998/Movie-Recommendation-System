{
 "cells": [
  {
   "cell_type": "markdown",
   "id": "e924ace9",
   "metadata": {},
   "source": [
    "# TMDB Fetching"
   ]
  },
  {
   "cell_type": "code",
   "execution_count": null,
   "id": "8200d1eb",
   "metadata": {},
   "outputs": [],
   "source": [
    "import requests\n",
    "\n",
    "# Replace 'YOUR_API_KEY' with your actual TMDb API key\n",
    "api_key = ''703a12952f3292e9958bc4d2d904a228''"
   ]
  },
  {
   "cell_type": "code",
   "execution_count": null,
   "id": "7306e0b0",
   "metadata": {},
   "outputs": [],
   "source": [
    "# Base URL for TMDb API\n",
    "base_url = 'https://api.themoviedb.org/3'"
   ]
  },
  {
   "cell_type": "code",
   "execution_count": null,
   "id": "79a3305e",
   "metadata": {},
   "outputs": [],
   "source": [
    "# Function to search for movies by title\n",
    "def search_movies(query):\n",
    "    url = f'{base_url}/search/movie'\n",
    "    params = {\n",
    "        'api_key': api_key,\n",
    "        'query': query\n",
    "    }\n",
    "    response = requests.get(url, params=params)\n",
    "    if response.status_code == 200:\n",
    "        data = response.json()\n",
    "        return data.get('results', [])\n",
    "    else:\n",
    "        print(f\"Error: {response.status_code}\")\n",
    "        return []"
   ]
  },
  {
   "cell_type": "code",
   "execution_count": null,
   "id": "ecb130ba",
   "metadata": {},
   "outputs": [],
   "source": [
    "# Function to get movie details by ID\n",
    "def get_movie_details(movie_id):\n",
    "    url = f'{base_url}/movie/{movie_id}'\n",
    "    params = {\n",
    "        'api_key': api_key\n",
    "    }\n",
    "    response = requests.get(url, params=params)\n",
    "    if response.status_code == 200:\n",
    "        data = response.json()\n",
    "        return data\n",
    "    else:\n",
    "        print(f\"Error: {response.status_code}\")\n",
    "        return None"
   ]
  },
  {
   "cell_type": "code",
   "execution_count": null,
   "id": "e56f3b00",
   "metadata": {},
   "outputs": [],
   "source": [
    "# Example usage:\n",
    "query = 'Inception'  # Replace with the movie title you want to search for\n",
    "movies = search_movies(query)\n",
    "\n",
    "if movies:\n",
    "    for movie in movies:\n",
    "        print(f\"Title: {movie['title']}\")\n",
    "        print(f\"Release Date: {movie['release_date']}\")\n",
    "        print(f\"Overview: {movie['overview']}\")\n",
    "        print(\"\\n\")"
   ]
  },
  {
   "cell_type": "code",
   "execution_count": null,
   "id": "73e78d35",
   "metadata": {},
   "outputs": [],
   "source": [
    "    # Get detailed information for the first movie in the search results\n",
    "    first_movie_id = movies[0]['id']\n",
    "    movie_details = get_movie_details(first_movie_id)\n",
    "    if movie_details:\n",
    "        print(\"Detailed Information:\")\n",
    "        print(f\"Title: {movie_details['title']}\")\n",
    "        print(f\"Tagline: {movie_details['tagline']}\")\n",
    "        print(f\"Budget: ${movie_details['budget']}\")\n",
    "        print(f\"Revenue: ${movie_details['revenue']}\")\n",
    "        print(f\"Genres: {', '.join([genre['name'] for genre in movie_details['genres']])}\")\n",
    "else:\n",
    "    print(f\"No movies found for '{query}'.\")"
   ]
  }
 ],
 "metadata": {
  "kernelspec": {
   "display_name": "Python 3 (ipykernel)",
   "language": "python",
   "name": "python3"
  },
  "language_info": {
   "codemirror_mode": {
    "name": "ipython",
    "version": 3
   },
   "file_extension": ".py",
   "mimetype": "text/x-python",
   "name": "python",
   "nbconvert_exporter": "python",
   "pygments_lexer": "ipython3",
   "version": "3.10.11"
  }
 },
 "nbformat": 4,
 "nbformat_minor": 5
}
