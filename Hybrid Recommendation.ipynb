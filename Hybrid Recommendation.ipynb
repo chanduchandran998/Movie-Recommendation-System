{
 "cells": [
  {
   "cell_type": "markdown",
   "id": "86ed33eb",
   "metadata": {},
   "source": [
    "# Hybrid Recommendation"
   ]
  },
  {
   "cell_type": "code",
   "execution_count": 1,
   "id": "f16dc095",
   "metadata": {},
   "outputs": [],
   "source": [
    "import pandas as pd\n",
    "from sklearn.metrics.pairwise import cosine_similarity\n",
    "from sklearn.feature_extraction.text import TfidfVectorizer\n",
    "from sklearn.metrics import pairwise_distances\n",
    "from scipy.sparse import csr_matrix\n",
    "from sklearn.neighbors import NearestNeighbors"
   ]
  },
  {
   "cell_type": "code",
   "execution_count": null,
   "id": "aab2e036",
   "metadata": {},
   "outputs": [],
   "source": [
    "# Load the MovieLens dataset (you can download it from https://grouplens.org/datasets/movielens/)\n",
    "movies = pd.read_csv('movies.csv')\n",
    "ratings = pd.read_csv('ratings.csv')"
   ]
  },
  {
   "cell_type": "code",
   "execution_count": null,
   "id": "b1acf9d2",
   "metadata": {},
   "outputs": [],
   "source": [
    "# Merge movie and rating data\n",
    "movie_ratings = pd.merge(movies, ratings, on='movieId')"
   ]
  },
  {
   "cell_type": "markdown",
   "id": "c49cb02b",
   "metadata": {},
   "source": [
    "## Content-Based Recommendation"
   ]
  },
  {
   "cell_type": "code",
   "execution_count": null,
   "id": "b9677930",
   "metadata": {},
   "outputs": [],
   "source": [
    "# TF-IDF vectorization of movie genres\n",
    "tfidf_vectorizer = TfidfVectorizer(stop_words='english')\n",
    "tfidf_matrix = tfidf_vectorizer.fit_transform(movies['genres'])"
   ]
  },
  {
   "cell_type": "code",
   "execution_count": null,
   "id": "5889842f",
   "metadata": {},
   "outputs": [],
   "source": [
    "# Calculate cosine similarity between movies based on genres\n",
    "content_similarity = cosine_similarity(tfidf_matrix, tfidf_matrix)"
   ]
  },
  {
   "cell_type": "markdown",
   "id": "578c2d51",
   "metadata": {},
   "source": [
    "## Collaborative Filtering Recommendation"
   ]
  },
  {
   "cell_type": "code",
   "execution_count": null,
   "id": "0bdd2023",
   "metadata": {},
   "outputs": [],
   "source": [
    "# Create a user-item matrix\n",
    "user_item_matrix = movie_ratings.pivot_table(index='userId', columns='title', values='rating')"
   ]
  },
  {
   "cell_type": "code",
   "execution_count": null,
   "id": "070e099f",
   "metadata": {},
   "outputs": [],
   "source": [
    "# Fill missing values with 0\n",
    "user_item_matrix = user_item_matrix.fillna(0)"
   ]
  },
  {
   "cell_type": "code",
   "execution_count": null,
   "id": "dc452258",
   "metadata": {},
   "outputs": [],
   "source": [
    "# Convert to sparse matrix\n",
    "sparse_matrix = csr_matrix(user_item_matrix)"
   ]
  },
  {
   "cell_type": "code",
   "execution_count": null,
   "id": "e14c6a58",
   "metadata": {},
   "outputs": [],
   "source": [
    "def recommend_movies(movie_title):\n",
    "    # Find the index of the movie in the dataset\n",
    "    movie_idx = movies.index[movies['title'] == movie_title].tolist()[0]"
   ]
  },
  {
   "cell_type": "code",
   "execution_count": null,
   "id": "992b4922",
   "metadata": {},
   "outputs": [],
   "source": [
    "    # Calculate content-based and collaborative filtering scores\n",
    "    content_scores = list(enumerate(content_similarity[movie_idx]))\n",
    "    collab_scores = list(enumerate(knn_model.kneighbors([sparse_matrix[movie_idx]], n_neighbors=10)[1][0]))"
   ]
  },
  {
   "cell_type": "code",
   "execution_count": null,
   "id": "e46da846",
   "metadata": {},
   "outputs": [],
   "source": [
    "    # Sort by scores in descending order\n",
    "    content_scores = sorted(content_scores, key=lambda x: x[1], reverse=True)\n",
    "    collab_scores = sorted(collab_scores, key=lambda x: x[1])"
   ]
  },
  {
   "cell_type": "code",
   "execution_count": null,
   "id": "9432d9f2",
   "metadata": {},
   "outputs": [],
   "source": [
    "    # Get movie IDs from the sorted lists\n",
    "    content_movie_indices = [i[0] for i in content_scores]\n",
    "    collab_movie_indices = [i[0] for i in collab_scores]"
   ]
  },
  {
   "cell_type": "code",
   "execution_count": null,
   "id": "5936c53a",
   "metadata": {},
   "outputs": [],
   "source": [
    "    # Recommend movies based on a combination of content-based and collaborative filtering\n",
    "    recommended_movies = movies.iloc[collab_movie_indices[:5]]  # Get top 5 collaborative filtering recommendations\n",
    "    recommended_movies = recommended_movies.append(movies.iloc[content_movie_indices[:5]])  # Add top 5 content-based recommendations\n",
    "    return recommended_movies"
   ]
  },
  {
   "cell_type": "code",
   "execution_count": null,
   "id": "79da8b4a",
   "metadata": {},
   "outputs": [],
   "source": [
    "# Example usage:\n",
    "movie_to_recommend = \"Toy Story (1995)\"\n",
    "recommended_movies = recommend_movies(movie_to_recommend)\n",
    "print(\"Recommended Movies for '{}':\".format(movie_to_recommend))\n",
    "print(recommended_movies[['title', 'genres']])"
   ]
  }
 ],
 "metadata": {
  "kernelspec": {
   "display_name": "Python 3 (ipykernel)",
   "language": "python",
   "name": "python3"
  },
  "language_info": {
   "codemirror_mode": {
    "name": "ipython",
    "version": 3
   },
   "file_extension": ".py",
   "mimetype": "text/x-python",
   "name": "python",
   "nbconvert_exporter": "python",
   "pygments_lexer": "ipython3",
   "version": "3.10.11"
  }
 },
 "nbformat": 4,
 "nbformat_minor": 5
}
