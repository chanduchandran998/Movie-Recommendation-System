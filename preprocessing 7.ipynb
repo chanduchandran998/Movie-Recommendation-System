{
 "cells": [
  {
   "cell_type": "code",
   "execution_count": 1,
   "metadata": {
    "id": "gZhqxpznOZWS"
   },
   "outputs": [],
   "source": [
    "import pandas as pd\n",
    "import numpy as np\n",
    "import requests\n",
    "import bs4 as bs\n",
    "import urllib.request"
   ]
  },
  {
   "cell_type": "markdown",
   "metadata": {
    "id": "xhXPbpjhOZWT"
   },
   "source": [
    "## Extracting features of 2018 movies from Wikipedia"
   ]
  },
  {
   "cell_type": "code",
   "execution_count": 2,
   "metadata": {
    "id": "1o9WJASWOZWT"
   },
   "outputs": [],
   "source": [
    "link = \"https://en.wikipedia.org/wiki/List_of_American_films_of_2018\""
   ]
  },
  {
   "cell_type": "code",
   "execution_count": 3,
   "metadata": {
    "id": "TIlfZhgwOZWT"
   },
   "outputs": [],
   "source": [
    "source = urllib.request.urlopen(link).read()\n",
    "soup = bs.BeautifulSoup(source,'lxml')"
   ]
  },
  {
   "cell_type": "code",
   "execution_count": 4,
   "metadata": {
    "id": "LFytQ2MaOZWT"
   },
   "outputs": [],
   "source": [
    "tables = soup.find_all('table',class_='wikitable sortable')"
   ]
  },
  {
   "cell_type": "code",
   "execution_count": 5,
   "metadata": {
    "colab": {
     "base_uri": "https://localhost:8080/"
    },
    "id": "CdSLuBzGOZWT",
    "outputId": "a59c27fc-00d2-4acd-e5c8-3dd746d78baa"
   },
   "outputs": [
    {
     "data": {
      "text/plain": [
       "4"
      ]
     },
     "execution_count": 5,
     "metadata": {},
     "output_type": "execute_result"
    }
   ],
   "source": [
    "len(tables)"
   ]
  },
  {
   "cell_type": "code",
   "execution_count": 6,
   "metadata": {
    "colab": {
     "base_uri": "https://localhost:8080/"
    },
    "id": "VoX7c9O-OZWU",
    "outputId": "78637bfa-e750-4c01-df0a-c791c80097b3"
   },
   "outputs": [
    {
     "data": {
      "text/plain": [
       "bs4.element.Tag"
      ]
     },
     "execution_count": 6,
     "metadata": {},
     "output_type": "execute_result"
    }
   ],
   "source": [
    "type(tables[0])"
   ]
  },
  {
   "cell_type": "code",
   "execution_count": 7,
   "metadata": {
    "id": "1y2cECOMOZWU"
   },
   "outputs": [],
   "source": [
    "df1 = pd.read_html(str(tables[0]))[0]\n",
    "df2 = pd.read_html(str(tables[1]))[0]\n",
    "df3 = pd.read_html(str(tables[2]))[0]\n",
    "df4 = pd.read_html(str(tables[3]).replace(\"'1\\\"\\'\",'\"1\"'))[0] # avoided \"ValueError: invalid literal for int() with base 10: '1\"'"
   ]
  },
  {
   "cell_type": "code",
   "execution_count": 8,
   "metadata": {
    "id": "t4MN1gZbOZWU"
   },
   "outputs": [
    {
     "name": "stderr",
     "output_type": "stream",
     "text": [
      "C:\\Users\\chand\\AppData\\Local\\Temp\\ipykernel_13752\\1752420719.py:1: FutureWarning: The frame.append method is deprecated and will be removed from pandas in a future version. Use pandas.concat instead.\n",
      "  df = df1.append(df2.append(df3.append(df4,ignore_index=True),ignore_index=True),ignore_index=True)\n"
     ]
    }
   ],
   "source": [
    "df = df1.append(df2.append(df3.append(df4,ignore_index=True),ignore_index=True),ignore_index=True)"
   ]
  },
  {
   "cell_type": "code",
   "execution_count": 9,
   "metadata": {
    "colab": {
     "base_uri": "https://localhost:8080/",
     "height": 406
    },
    "id": "4CCunB-rOZWU",
    "outputId": "a4d69bcd-088c-4655-a445-e8ebafdb10e6"
   },
   "outputs": [
    {
     "data": {
      "text/html": [
       "<div>\n",
       "<style scoped>\n",
       "    .dataframe tbody tr th:only-of-type {\n",
       "        vertical-align: middle;\n",
       "    }\n",
       "\n",
       "    .dataframe tbody tr th {\n",
       "        vertical-align: top;\n",
       "    }\n",
       "\n",
       "    .dataframe thead th {\n",
       "        text-align: right;\n",
       "    }\n",
       "</style>\n",
       "<table border=\"1\" class=\"dataframe\">\n",
       "  <thead>\n",
       "    <tr style=\"text-align: right;\">\n",
       "      <th></th>\n",
       "      <th>Opening</th>\n",
       "      <th>Opening.1</th>\n",
       "      <th>Title</th>\n",
       "      <th>Production company</th>\n",
       "      <th>Cast and crew</th>\n",
       "      <th>.mw-parser-output .tooltip-dotted{border-bottom:1px dotted;cursor:help}Ref.</th>\n",
       "      <th>Ref.</th>\n",
       "    </tr>\n",
       "  </thead>\n",
       "  <tbody>\n",
       "    <tr>\n",
       "      <th>0</th>\n",
       "      <td>J A N U A R Y</td>\n",
       "      <td>3.0</td>\n",
       "      <td>Paranormal Activity: The Marked Ones</td>\n",
       "      <td>Paramount Pictures</td>\n",
       "      <td>Christopher Landon (director/screenplay); Andr...</td>\n",
       "      <td>[2]</td>\n",
       "      <td>NaN</td>\n",
       "    </tr>\n",
       "    <tr>\n",
       "      <th>1</th>\n",
       "      <td>J A N U A R Y</td>\n",
       "      <td>3.0</td>\n",
       "      <td>Open Grave</td>\n",
       "      <td>Tribeca Films / 852 Films</td>\n",
       "      <td>Gonzálo López-Gallego (director); Chris Borey,...</td>\n",
       "      <td>[3]</td>\n",
       "      <td>NaN</td>\n",
       "    </tr>\n",
       "    <tr>\n",
       "      <th>2</th>\n",
       "      <td>J A N U A R Y</td>\n",
       "      <td>10.0</td>\n",
       "      <td>Cold Comes the Night</td>\n",
       "      <td>Sony Pictures Worldwide Acquisitions</td>\n",
       "      <td>Tze Chun (director/screenplay); Oz Perkins, Ni...</td>\n",
       "      <td>[4]</td>\n",
       "      <td>NaN</td>\n",
       "    </tr>\n",
       "    <tr>\n",
       "      <th>3</th>\n",
       "      <td>J A N U A R Y</td>\n",
       "      <td>10.0</td>\n",
       "      <td>Dumbbells</td>\n",
       "      <td>GoDigital</td>\n",
       "      <td>Christopher Livingston (director); Brian Drole...</td>\n",
       "      <td>[5]</td>\n",
       "      <td>NaN</td>\n",
       "    </tr>\n",
       "    <tr>\n",
       "      <th>4</th>\n",
       "      <td>J A N U A R Y</td>\n",
       "      <td>10.0</td>\n",
       "      <td>The Legend of Hercules</td>\n",
       "      <td>Summit Entertainment / Millennium Films</td>\n",
       "      <td>Renny Harlin (director); Sean Hood, Daniel Gia...</td>\n",
       "      <td>[6]</td>\n",
       "      <td>NaN</td>\n",
       "    </tr>\n",
       "    <tr>\n",
       "      <th>...</th>\n",
       "      <td>...</td>\n",
       "      <td>...</td>\n",
       "      <td>...</td>\n",
       "      <td>...</td>\n",
       "      <td>...</td>\n",
       "      <td>...</td>\n",
       "      <td>...</td>\n",
       "    </tr>\n",
       "    <tr>\n",
       "      <th>226</th>\n",
       "      <td>D E C E M B E R</td>\n",
       "      <td>25.0</td>\n",
       "      <td>Into the Woods</td>\n",
       "      <td>Walt Disney Pictures</td>\n",
       "      <td>Rob Marshall (director); James Lapine (screenp...</td>\n",
       "      <td>NaN</td>\n",
       "      <td>[228]</td>\n",
       "    </tr>\n",
       "    <tr>\n",
       "      <th>227</th>\n",
       "      <td>D E C E M B E R</td>\n",
       "      <td>25.0</td>\n",
       "      <td>Selma</td>\n",
       "      <td>Paramount Pictures / Plan B Entertainment</td>\n",
       "      <td>Ava DuVernay (director/screenplay); Paul Webb ...</td>\n",
       "      <td>NaN</td>\n",
       "      <td>[224]</td>\n",
       "    </tr>\n",
       "    <tr>\n",
       "      <th>228</th>\n",
       "      <td>D E C E M B E R</td>\n",
       "      <td>25.0</td>\n",
       "      <td>Unbroken</td>\n",
       "      <td>Universal Pictures / Legendary Pictures</td>\n",
       "      <td>Angelina Jolie (director); Joel Coen, Ethan Co...</td>\n",
       "      <td>NaN</td>\n",
       "      <td>[229]</td>\n",
       "    </tr>\n",
       "    <tr>\n",
       "      <th>229</th>\n",
       "      <td>D E C E M B E R</td>\n",
       "      <td>NaN</td>\n",
       "      <td>NaN</td>\n",
       "      <td>NaN</td>\n",
       "      <td>NaN</td>\n",
       "      <td>NaN</td>\n",
       "      <td>NaN</td>\n",
       "    </tr>\n",
       "    <tr>\n",
       "      <th>230</th>\n",
       "      <td>D E C E M B E R</td>\n",
       "      <td>NaN</td>\n",
       "      <td>NaN</td>\n",
       "      <td>NaN</td>\n",
       "      <td>NaN</td>\n",
       "      <td>NaN</td>\n",
       "      <td>NaN</td>\n",
       "    </tr>\n",
       "  </tbody>\n",
       "</table>\n",
       "<p>231 rows × 7 columns</p>\n",
       "</div>"
      ],
      "text/plain": [
       "             Opening  Opening.1                                 Title  \\\n",
       "0      J A N U A R Y        3.0  Paranormal Activity: The Marked Ones   \n",
       "1      J A N U A R Y        3.0                            Open Grave   \n",
       "2      J A N U A R Y       10.0                  Cold Comes the Night   \n",
       "3      J A N U A R Y       10.0                             Dumbbells   \n",
       "4      J A N U A R Y       10.0                The Legend of Hercules   \n",
       "..               ...        ...                                   ...   \n",
       "226  D E C E M B E R       25.0                        Into the Woods   \n",
       "227  D E C E M B E R       25.0                                 Selma   \n",
       "228  D E C E M B E R       25.0                              Unbroken   \n",
       "229  D E C E M B E R        NaN                                   NaN   \n",
       "230  D E C E M B E R        NaN                                   NaN   \n",
       "\n",
       "                            Production company  \\\n",
       "0                           Paramount Pictures   \n",
       "1                    Tribeca Films / 852 Films   \n",
       "2         Sony Pictures Worldwide Acquisitions   \n",
       "3                                    GoDigital   \n",
       "4      Summit Entertainment / Millennium Films   \n",
       "..                                         ...   \n",
       "226                       Walt Disney Pictures   \n",
       "227  Paramount Pictures / Plan B Entertainment   \n",
       "228    Universal Pictures / Legendary Pictures   \n",
       "229                                        NaN   \n",
       "230                                        NaN   \n",
       "\n",
       "                                         Cast and crew  \\\n",
       "0    Christopher Landon (director/screenplay); Andr...   \n",
       "1    Gonzálo López-Gallego (director); Chris Borey,...   \n",
       "2    Tze Chun (director/screenplay); Oz Perkins, Ni...   \n",
       "3    Christopher Livingston (director); Brian Drole...   \n",
       "4    Renny Harlin (director); Sean Hood, Daniel Gia...   \n",
       "..                                                 ...   \n",
       "226  Rob Marshall (director); James Lapine (screenp...   \n",
       "227  Ava DuVernay (director/screenplay); Paul Webb ...   \n",
       "228  Angelina Jolie (director); Joel Coen, Ethan Co...   \n",
       "229                                                NaN   \n",
       "230                                                NaN   \n",
       "\n",
       "    .mw-parser-output .tooltip-dotted{border-bottom:1px dotted;cursor:help}Ref.  \\\n",
       "0                                                  [2]                            \n",
       "1                                                  [3]                            \n",
       "2                                                  [4]                            \n",
       "3                                                  [5]                            \n",
       "4                                                  [6]                            \n",
       "..                                                 ...                            \n",
       "226                                                NaN                            \n",
       "227                                                NaN                            \n",
       "228                                                NaN                            \n",
       "229                                                NaN                            \n",
       "230                                                NaN                            \n",
       "\n",
       "      Ref.  \n",
       "0      NaN  \n",
       "1      NaN  \n",
       "2      NaN  \n",
       "3      NaN  \n",
       "4      NaN  \n",
       "..     ...  \n",
       "226  [228]  \n",
       "227  [224]  \n",
       "228  [229]  \n",
       "229    NaN  \n",
       "230    NaN  \n",
       "\n",
       "[231 rows x 7 columns]"
      ]
     },
     "execution_count": 9,
     "metadata": {},
     "output_type": "execute_result"
    }
   ],
   "source": [
    "df"
   ]
  },
  {
   "cell_type": "code",
   "execution_count": 10,
   "metadata": {
    "id": "9enI6QkuOZWV"
   },
   "outputs": [],
   "source": [
    "df_2018 = df[['Title','Cast and crew']]"
   ]
  },
  {
   "cell_type": "code",
   "execution_count": 11,
   "metadata": {
    "colab": {
     "base_uri": "https://localhost:8080/",
     "height": 406
    },
    "id": "RT0jPJQQOZWV",
    "outputId": "2d6ab58f-996f-4099-e7bb-3e29abadf43c"
   },
   "outputs": [
    {
     "data": {
      "text/html": [
       "<div>\n",
       "<style scoped>\n",
       "    .dataframe tbody tr th:only-of-type {\n",
       "        vertical-align: middle;\n",
       "    }\n",
       "\n",
       "    .dataframe tbody tr th {\n",
       "        vertical-align: top;\n",
       "    }\n",
       "\n",
       "    .dataframe thead th {\n",
       "        text-align: right;\n",
       "    }\n",
       "</style>\n",
       "<table border=\"1\" class=\"dataframe\">\n",
       "  <thead>\n",
       "    <tr style=\"text-align: right;\">\n",
       "      <th></th>\n",
       "      <th>Title</th>\n",
       "      <th>Cast and crew</th>\n",
       "    </tr>\n",
       "  </thead>\n",
       "  <tbody>\n",
       "    <tr>\n",
       "      <th>0</th>\n",
       "      <td>Paranormal Activity: The Marked Ones</td>\n",
       "      <td>Christopher Landon (director/screenplay); Andr...</td>\n",
       "    </tr>\n",
       "    <tr>\n",
       "      <th>1</th>\n",
       "      <td>Open Grave</td>\n",
       "      <td>Gonzálo López-Gallego (director); Chris Borey,...</td>\n",
       "    </tr>\n",
       "    <tr>\n",
       "      <th>2</th>\n",
       "      <td>Cold Comes the Night</td>\n",
       "      <td>Tze Chun (director/screenplay); Oz Perkins, Ni...</td>\n",
       "    </tr>\n",
       "    <tr>\n",
       "      <th>3</th>\n",
       "      <td>Dumbbells</td>\n",
       "      <td>Christopher Livingston (director); Brian Drole...</td>\n",
       "    </tr>\n",
       "    <tr>\n",
       "      <th>4</th>\n",
       "      <td>The Legend of Hercules</td>\n",
       "      <td>Renny Harlin (director); Sean Hood, Daniel Gia...</td>\n",
       "    </tr>\n",
       "    <tr>\n",
       "      <th>...</th>\n",
       "      <td>...</td>\n",
       "      <td>...</td>\n",
       "    </tr>\n",
       "    <tr>\n",
       "      <th>226</th>\n",
       "      <td>Into the Woods</td>\n",
       "      <td>Rob Marshall (director); James Lapine (screenp...</td>\n",
       "    </tr>\n",
       "    <tr>\n",
       "      <th>227</th>\n",
       "      <td>Selma</td>\n",
       "      <td>Ava DuVernay (director/screenplay); Paul Webb ...</td>\n",
       "    </tr>\n",
       "    <tr>\n",
       "      <th>228</th>\n",
       "      <td>Unbroken</td>\n",
       "      <td>Angelina Jolie (director); Joel Coen, Ethan Co...</td>\n",
       "    </tr>\n",
       "    <tr>\n",
       "      <th>229</th>\n",
       "      <td>NaN</td>\n",
       "      <td>NaN</td>\n",
       "    </tr>\n",
       "    <tr>\n",
       "      <th>230</th>\n",
       "      <td>NaN</td>\n",
       "      <td>NaN</td>\n",
       "    </tr>\n",
       "  </tbody>\n",
       "</table>\n",
       "<p>231 rows × 2 columns</p>\n",
       "</div>"
      ],
      "text/plain": [
       "                                    Title  \\\n",
       "0    Paranormal Activity: The Marked Ones   \n",
       "1                              Open Grave   \n",
       "2                    Cold Comes the Night   \n",
       "3                               Dumbbells   \n",
       "4                  The Legend of Hercules   \n",
       "..                                    ...   \n",
       "226                        Into the Woods   \n",
       "227                                 Selma   \n",
       "228                              Unbroken   \n",
       "229                                   NaN   \n",
       "230                                   NaN   \n",
       "\n",
       "                                         Cast and crew  \n",
       "0    Christopher Landon (director/screenplay); Andr...  \n",
       "1    Gonzálo López-Gallego (director); Chris Borey,...  \n",
       "2    Tze Chun (director/screenplay); Oz Perkins, Ni...  \n",
       "3    Christopher Livingston (director); Brian Drole...  \n",
       "4    Renny Harlin (director); Sean Hood, Daniel Gia...  \n",
       "..                                                 ...  \n",
       "226  Rob Marshall (director); James Lapine (screenp...  \n",
       "227  Ava DuVernay (director/screenplay); Paul Webb ...  \n",
       "228  Angelina Jolie (director); Joel Coen, Ethan Co...  \n",
       "229                                                NaN  \n",
       "230                                                NaN  \n",
       "\n",
       "[231 rows x 2 columns]"
      ]
     },
     "execution_count": 11,
     "metadata": {},
     "output_type": "execute_result"
    }
   ],
   "source": [
    "df_2018"
   ]
  },
  {
   "cell_type": "code",
   "execution_count": 12,
   "metadata": {
    "colab": {
     "base_uri": "https://localhost:8080/"
    },
    "id": "KYTIVryiOkeW",
    "outputId": "629f16ee-2aa7-4b7f-8393-09afdefef5d5"
   },
   "outputs": [
    {
     "name": "stderr",
     "output_type": "stream",
     "text": [
      "WARNING: Ignoring invalid distribution -treamlit (c:\\users\\chand\\anaconda3\\envs\\projects\\lib\\site-packages)\n",
      "WARNING: Ignoring invalid distribution -treamlit (c:\\users\\chand\\anaconda3\\envs\\projects\\lib\\site-packages)\n",
      "WARNING: Ignoring invalid distribution -treamlit (c:\\users\\chand\\anaconda3\\envs\\projects\\lib\\site-packages)\n",
      "WARNING: Ignoring invalid distribution -treamlit (c:\\users\\chand\\anaconda3\\envs\\projects\\lib\\site-packages)\n",
      "WARNING: Ignoring invalid distribution -treamlit (c:\\users\\chand\\anaconda3\\envs\\projects\\lib\\site-packages)\n",
      "WARNING: Ignoring invalid distribution -treamlit (c:\\users\\chand\\anaconda3\\envs\\projects\\lib\\site-packages)\n"
     ]
    },
    {
     "name": "stdout",
     "output_type": "stream",
     "text": [
      "Requirement already satisfied: tmdbv3api in c:\\users\\chand\\anaconda3\\envs\\projects\\lib\\site-packages (1.7.7)\n",
      "Requirement already satisfied: requests in c:\\users\\chand\\anaconda3\\envs\\projects\\lib\\site-packages (from tmdbv3api) (2.29.0)\n",
      "Requirement already satisfied: urllib3<1.27,>=1.21.1 in c:\\users\\chand\\anaconda3\\envs\\projects\\lib\\site-packages (from requests->tmdbv3api) (1.26.15)\n",
      "Requirement already satisfied: certifi>=2017.4.17 in c:\\users\\chand\\anaconda3\\envs\\projects\\lib\\site-packages (from requests->tmdbv3api) (2022.12.7)\n",
      "Requirement already satisfied: charset-normalizer<4,>=2 in c:\\users\\chand\\anaconda3\\envs\\projects\\lib\\site-packages (from requests->tmdbv3api) (2.0.4)\n",
      "Requirement already satisfied: idna<4,>=2.5 in c:\\users\\chand\\anaconda3\\envs\\projects\\lib\\site-packages (from requests->tmdbv3api) (3.4)\n"
     ]
    }
   ],
   "source": [
    "!pip install tmdbv3api"
   ]
  },
  {
   "cell_type": "code",
   "execution_count": 13,
   "metadata": {
    "id": "61XvcEzPOZWV"
   },
   "outputs": [],
   "source": [
    "from tmdbv3api import TMDb\n",
    "import json\n",
    "import requests\n",
    "tmdb = TMDb()\n",
    "tmdb.api_key = '703a12952f3292e9958bc4d2d904a228'"
   ]
  },
  {
   "cell_type": "code",
   "execution_count": 14,
   "metadata": {
    "id": "_4q66M86OfgF"
   },
   "outputs": [],
   "source": [
    "from tmdbv3api import Movie\n",
    "tmdb_movie = Movie() \n",
    "def get_genre(x):\n",
    "    genres = []\n",
    "    result = tmdb_movie.search(x)\n",
    "    if not result:\n",
    "      return np.NaN\n",
    "    else:\n",
    "      movie_id = result[0].id\n",
    "      response = requests.get('https://api.themoviedb.org/3/movie/{}?api_key={}'.format(movie_id,tmdb.api_key))\n",
    "      data_json = response.json()\n",
    "      if data_json['genres']:\n",
    "          genre_str = \" \" \n",
    "          for i in range(0,len(data_json['genres'])):\n",
    "              genres.append(data_json['genres'][i]['name'])\n",
    "          return genre_str.join(genres)\n",
    "      else:\n",
    "          return np.NaN"
   ]
  },
  {
   "cell_type": "code",
   "execution_count": 15,
   "metadata": {
    "colab": {
     "base_uri": "https://localhost:8080/"
    },
    "id": "uSjX4AsmOZWV",
    "outputId": "da21d28b-1f7a-4171-8b87-2eabcc897a8d",
    "scrolled": true
   },
   "outputs": [
    {
     "name": "stderr",
     "output_type": "stream",
     "text": [
      "C:\\Users\\chand\\AppData\\Local\\Temp\\ipykernel_13752\\2453146623.py:1: SettingWithCopyWarning: \n",
      "A value is trying to be set on a copy of a slice from a DataFrame.\n",
      "Try using .loc[row_indexer,col_indexer] = value instead\n",
      "\n",
      "See the caveats in the documentation: https://pandas.pydata.org/pandas-docs/stable/user_guide/indexing.html#returning-a-view-versus-a-copy\n",
      "  df_2014['genres'] = df_2014['Title'].map(lambda x: get_genre(str(x)))\n"
     ]
    }
   ],
   "source": [
    "df_2018['genres'] = df_2018['Title'].map(lambda x: get_genre(str(x)))"
   ]
  },
  {
   "cell_type": "code",
   "execution_count": 16,
   "metadata": {
    "colab": {
     "base_uri": "https://localhost:8080/",
     "height": 406
    },
    "id": "aiwOqJZMOZWV",
    "outputId": "032dfad5-985e-4d24-9fed-ed92c9edfba3"
   },
   "outputs": [
    {
     "data": {
      "text/html": [
       "<div>\n",
       "<style scoped>\n",
       "    .dataframe tbody tr th:only-of-type {\n",
       "        vertical-align: middle;\n",
       "    }\n",
       "\n",
       "    .dataframe tbody tr th {\n",
       "        vertical-align: top;\n",
       "    }\n",
       "\n",
       "    .dataframe thead th {\n",
       "        text-align: right;\n",
       "    }\n",
       "</style>\n",
       "<table border=\"1\" class=\"dataframe\">\n",
       "  <thead>\n",
       "    <tr style=\"text-align: right;\">\n",
       "      <th></th>\n",
       "      <th>Title</th>\n",
       "      <th>Cast and crew</th>\n",
       "      <th>genres</th>\n",
       "    </tr>\n",
       "  </thead>\n",
       "  <tbody>\n",
       "    <tr>\n",
       "      <th>0</th>\n",
       "      <td>Paranormal Activity: The Marked Ones</td>\n",
       "      <td>Christopher Landon (director/screenplay); Andr...</td>\n",
       "      <td>Horror Thriller</td>\n",
       "    </tr>\n",
       "    <tr>\n",
       "      <th>1</th>\n",
       "      <td>Open Grave</td>\n",
       "      <td>Gonzálo López-Gallego (director); Chris Borey,...</td>\n",
       "      <td>Horror Thriller Mystery</td>\n",
       "    </tr>\n",
       "    <tr>\n",
       "      <th>2</th>\n",
       "      <td>Cold Comes the Night</td>\n",
       "      <td>Tze Chun (director/screenplay); Oz Perkins, Ni...</td>\n",
       "      <td>Crime Drama Thriller</td>\n",
       "    </tr>\n",
       "    <tr>\n",
       "      <th>3</th>\n",
       "      <td>Dumbbells</td>\n",
       "      <td>Christopher Livingston (director); Brian Drole...</td>\n",
       "      <td>Comedy</td>\n",
       "    </tr>\n",
       "    <tr>\n",
       "      <th>4</th>\n",
       "      <td>The Legend of Hercules</td>\n",
       "      <td>Renny Harlin (director); Sean Hood, Daniel Gia...</td>\n",
       "      <td>Action Adventure</td>\n",
       "    </tr>\n",
       "    <tr>\n",
       "      <th>...</th>\n",
       "      <td>...</td>\n",
       "      <td>...</td>\n",
       "      <td>...</td>\n",
       "    </tr>\n",
       "    <tr>\n",
       "      <th>226</th>\n",
       "      <td>Into the Woods</td>\n",
       "      <td>Rob Marshall (director); James Lapine (screenp...</td>\n",
       "      <td>Fantasy Comedy</td>\n",
       "    </tr>\n",
       "    <tr>\n",
       "      <th>227</th>\n",
       "      <td>Selma</td>\n",
       "      <td>Ava DuVernay (director/screenplay); Paul Webb ...</td>\n",
       "      <td>History Drama</td>\n",
       "    </tr>\n",
       "    <tr>\n",
       "      <th>228</th>\n",
       "      <td>Unbroken</td>\n",
       "      <td>Angelina Jolie (director); Joel Coen, Ethan Co...</td>\n",
       "      <td>Drama War</td>\n",
       "    </tr>\n",
       "    <tr>\n",
       "      <th>229</th>\n",
       "      <td>NaN</td>\n",
       "      <td>NaN</td>\n",
       "      <td>Drama</td>\n",
       "    </tr>\n",
       "    <tr>\n",
       "      <th>230</th>\n",
       "      <td>NaN</td>\n",
       "      <td>NaN</td>\n",
       "      <td>Drama</td>\n",
       "    </tr>\n",
       "  </tbody>\n",
       "</table>\n",
       "<p>231 rows × 3 columns</p>\n",
       "</div>"
      ],
      "text/plain": [
       "                                    Title  \\\n",
       "0    Paranormal Activity: The Marked Ones   \n",
       "1                              Open Grave   \n",
       "2                    Cold Comes the Night   \n",
       "3                               Dumbbells   \n",
       "4                  The Legend of Hercules   \n",
       "..                                    ...   \n",
       "226                        Into the Woods   \n",
       "227                                 Selma   \n",
       "228                              Unbroken   \n",
       "229                                   NaN   \n",
       "230                                   NaN   \n",
       "\n",
       "                                         Cast and crew  \\\n",
       "0    Christopher Landon (director/screenplay); Andr...   \n",
       "1    Gonzálo López-Gallego (director); Chris Borey,...   \n",
       "2    Tze Chun (director/screenplay); Oz Perkins, Ni...   \n",
       "3    Christopher Livingston (director); Brian Drole...   \n",
       "4    Renny Harlin (director); Sean Hood, Daniel Gia...   \n",
       "..                                                 ...   \n",
       "226  Rob Marshall (director); James Lapine (screenp...   \n",
       "227  Ava DuVernay (director/screenplay); Paul Webb ...   \n",
       "228  Angelina Jolie (director); Joel Coen, Ethan Co...   \n",
       "229                                                NaN   \n",
       "230                                                NaN   \n",
       "\n",
       "                      genres  \n",
       "0            Horror Thriller  \n",
       "1    Horror Thriller Mystery  \n",
       "2       Crime Drama Thriller  \n",
       "3                     Comedy  \n",
       "4           Action Adventure  \n",
       "..                       ...  \n",
       "226           Fantasy Comedy  \n",
       "227            History Drama  \n",
       "228                Drama War  \n",
       "229                    Drama  \n",
       "230                    Drama  \n",
       "\n",
       "[231 rows x 3 columns]"
      ]
     },
     "execution_count": 16,
     "metadata": {},
     "output_type": "execute_result"
    }
   ],
   "source": [
    "df_2018"
   ]
  },
  {
   "cell_type": "code",
   "execution_count": 17,
   "metadata": {
    "id": "GcqUuFyiOZWW"
   },
   "outputs": [],
   "source": [
    "def get_director(x):\n",
    "    if \" (director)\" in x:\n",
    "        return x.split(\" (director)\")[0]\n",
    "    elif \" (directors)\" in x:\n",
    "        return x.split(\" (directors)\")[0]\n",
    "    else:\n",
    "        return x.split(\" (director/screenplay)\")[0]"
   ]
  },
  {
   "cell_type": "code",
   "execution_count": 18,
   "metadata": {
    "colab": {
     "base_uri": "https://localhost:8080/"
    },
    "id": "A7RzXkBQOZWW",
    "outputId": "161deb48-6037-468b-c4b4-44cd51d0efc1"
   },
   "outputs": [
    {
     "name": "stderr",
     "output_type": "stream",
     "text": [
      "C:\\Users\\chand\\AppData\\Local\\Temp\\ipykernel_13752\\1036864481.py:1: SettingWithCopyWarning: \n",
      "A value is trying to be set on a copy of a slice from a DataFrame.\n",
      "Try using .loc[row_indexer,col_indexer] = value instead\n",
      "\n",
      "See the caveats in the documentation: https://pandas.pydata.org/pandas-docs/stable/user_guide/indexing.html#returning-a-view-versus-a-copy\n",
      "  df_2014['director_name'] = df_2014['Cast and crew'].map(lambda x: get_director(str(x)))\n"
     ]
    }
   ],
   "source": [
    "df_2018['director_name'] = df_2018['Cast and crew'].map(lambda x: get_director(str(x)))"
   ]
  },
  {
   "cell_type": "code",
   "execution_count": 19,
   "metadata": {
    "id": "wwBWFgBSOZWW"
   },
   "outputs": [],
   "source": [
    "def get_actor1(x):\n",
    "    return ((x.split(\"screenplay); \")[-1]).split(\", \")[0])"
   ]
  },
  {
   "cell_type": "code",
   "execution_count": 20,
   "metadata": {
    "colab": {
     "base_uri": "https://localhost:8080/"
    },
    "id": "gxr9Y4IJOZWW",
    "outputId": "68904c09-7d50-424d-e908-804489e84d05"
   },
   "outputs": [
    {
     "name": "stderr",
     "output_type": "stream",
     "text": [
      "C:\\Users\\chand\\AppData\\Local\\Temp\\ipykernel_13752\\3177064408.py:1: SettingWithCopyWarning: \n",
      "A value is trying to be set on a copy of a slice from a DataFrame.\n",
      "Try using .loc[row_indexer,col_indexer] = value instead\n",
      "\n",
      "See the caveats in the documentation: https://pandas.pydata.org/pandas-docs/stable/user_guide/indexing.html#returning-a-view-versus-a-copy\n",
      "  df_2014['actor_1_name'] = df_2014['Cast and crew'].map(lambda x: get_actor1(str(x)))\n"
     ]
    }
   ],
   "source": [
    "df_2018['actor_1_name'] = df_2018['Cast and crew'].map(lambda x: get_actor1(str(x)))"
   ]
  },
  {
   "cell_type": "code",
   "execution_count": 21,
   "metadata": {
    "id": "Qc7I49gVOZWX"
   },
   "outputs": [],
   "source": [
    "def get_actor2(x):\n",
    "    if len((x.split(\"screenplay); \")[-1]).split(\", \")) < 2:\n",
    "        return np.NaN\n",
    "    else:\n",
    "        return ((x.split(\"screenplay); \")[-1]).split(\", \")[1])"
   ]
  },
  {
   "cell_type": "code",
   "execution_count": 22,
   "metadata": {
    "id": "ipspWbjaOZWX"
   },
   "outputs": [
    {
     "name": "stderr",
     "output_type": "stream",
     "text": [
      "C:\\Users\\chand\\AppData\\Local\\Temp\\ipykernel_13752\\4091272564.py:1: SettingWithCopyWarning: \n",
      "A value is trying to be set on a copy of a slice from a DataFrame.\n",
      "Try using .loc[row_indexer,col_indexer] = value instead\n",
      "\n",
      "See the caveats in the documentation: https://pandas.pydata.org/pandas-docs/stable/user_guide/indexing.html#returning-a-view-versus-a-copy\n",
      "  df_2014['actor_2_name'] = df_2014['Cast and crew'].map(lambda x: get_actor2(str(x)))\n"
     ]
    }
   ],
   "source": [
    "df_2018['actor_2_name'] = df_2018['Cast and crew'].map(lambda x: get_actor2(str(x)))"
   ]
  },
  {
   "cell_type": "code",
   "execution_count": 23,
   "metadata": {
    "id": "pQmab5aiOZWX"
   },
   "outputs": [],
   "source": [
    "def get_actor3(x):\n",
    "    if len((x.split(\"screenplay); \")[-1]).split(\", \")) < 3:\n",
    "        return np.NaN\n",
    "    else:\n",
    "        return ((x.split(\"screenplay); \")[-1]).split(\", \")[2])"
   ]
  },
  {
   "cell_type": "code",
   "execution_count": 24,
   "metadata": {
    "id": "vWSs45LWOZWX"
   },
   "outputs": [],
   "source": [
    "df_2018['actor_3_name'] = df_2018['Cast and crew'].map(lambda x: get_actor3(str(x)))"
   ]
  },
  {
   "cell_type": "code",
   "execution_count": 25,
   "metadata": {
    "colab": {
     "base_uri": "https://localhost:8080/",
     "height": 406
    },
    "id": "2xDIRn7DOZWX",
    "outputId": "ad8d83b3-a608-43db-eeff-53a434ab3d4f"
   },
   "outputs": [
    {
     "data": {
      "text/html": [
       "<div>\n",
       "<style scoped>\n",
       "    .dataframe tbody tr th:only-of-type {\n",
       "        vertical-align: middle;\n",
       "    }\n",
       "\n",
       "    .dataframe tbody tr th {\n",
       "        vertical-align: top;\n",
       "    }\n",
       "\n",
       "    .dataframe thead th {\n",
       "        text-align: right;\n",
       "    }\n",
       "</style>\n",
       "<table border=\"1\" class=\"dataframe\">\n",
       "  <thead>\n",
       "    <tr style=\"text-align: right;\">\n",
       "      <th></th>\n",
       "      <th>Title</th>\n",
       "      <th>Cast and crew</th>\n",
       "      <th>genres</th>\n",
       "      <th>director_name</th>\n",
       "      <th>actor_1_name</th>\n",
       "      <th>actor_2_name</th>\n",
       "      <th>actor_3_name</th>\n",
       "    </tr>\n",
       "  </thead>\n",
       "  <tbody>\n",
       "    <tr>\n",
       "      <th>0</th>\n",
       "      <td>Paranormal Activity: The Marked Ones</td>\n",
       "      <td>Christopher Landon (director/screenplay); Andr...</td>\n",
       "      <td>Horror Thriller</td>\n",
       "      <td>Christopher Landon</td>\n",
       "      <td>Andrew Jacobs</td>\n",
       "      <td>Jorge Diaz</td>\n",
       "      <td>Gabrielle Walsh</td>\n",
       "    </tr>\n",
       "    <tr>\n",
       "      <th>1</th>\n",
       "      <td>Open Grave</td>\n",
       "      <td>Gonzálo López-Gallego (director); Chris Borey,...</td>\n",
       "      <td>Horror Thriller Mystery</td>\n",
       "      <td>Gonzálo López-Gallego</td>\n",
       "      <td>Sharlto Copley</td>\n",
       "      <td>Thomas Kretschmann</td>\n",
       "      <td>Joseph Morgan</td>\n",
       "    </tr>\n",
       "    <tr>\n",
       "      <th>2</th>\n",
       "      <td>Cold Comes the Night</td>\n",
       "      <td>Tze Chun (director/screenplay); Oz Perkins, Ni...</td>\n",
       "      <td>Crime Drama Thriller</td>\n",
       "      <td>Tze Chun</td>\n",
       "      <td>Alice Eve</td>\n",
       "      <td>Logan Marshall-Green</td>\n",
       "      <td>Bryan Cranston</td>\n",
       "    </tr>\n",
       "    <tr>\n",
       "      <th>3</th>\n",
       "      <td>Dumbbells</td>\n",
       "      <td>Christopher Livingston (director); Brian Drole...</td>\n",
       "      <td>Comedy</td>\n",
       "      <td>Christopher Livingston</td>\n",
       "      <td>Brian Drolet</td>\n",
       "      <td>Hoyt Richards</td>\n",
       "      <td>Taylor Cole</td>\n",
       "    </tr>\n",
       "    <tr>\n",
       "      <th>4</th>\n",
       "      <td>The Legend of Hercules</td>\n",
       "      <td>Renny Harlin (director); Sean Hood, Daniel Gia...</td>\n",
       "      <td>Action Adventure</td>\n",
       "      <td>Renny Harlin</td>\n",
       "      <td>Kellan Lutz</td>\n",
       "      <td>Gaia Weiss</td>\n",
       "      <td>Scott Adkins</td>\n",
       "    </tr>\n",
       "    <tr>\n",
       "      <th>...</th>\n",
       "      <td>...</td>\n",
       "      <td>...</td>\n",
       "      <td>...</td>\n",
       "      <td>...</td>\n",
       "      <td>...</td>\n",
       "      <td>...</td>\n",
       "      <td>...</td>\n",
       "    </tr>\n",
       "    <tr>\n",
       "      <th>226</th>\n",
       "      <td>Into the Woods</td>\n",
       "      <td>Rob Marshall (director); James Lapine (screenp...</td>\n",
       "      <td>Fantasy Comedy</td>\n",
       "      <td>Rob Marshall</td>\n",
       "      <td>Meryl Streep</td>\n",
       "      <td>Emily Blunt</td>\n",
       "      <td>James Corden</td>\n",
       "    </tr>\n",
       "    <tr>\n",
       "      <th>227</th>\n",
       "      <td>Selma</td>\n",
       "      <td>Ava DuVernay (director/screenplay); Paul Webb ...</td>\n",
       "      <td>History Drama</td>\n",
       "      <td>Ava DuVernay</td>\n",
       "      <td>David Oyelowo</td>\n",
       "      <td>Tom Wilkinson</td>\n",
       "      <td>Common</td>\n",
       "    </tr>\n",
       "    <tr>\n",
       "      <th>228</th>\n",
       "      <td>Unbroken</td>\n",
       "      <td>Angelina Jolie (director); Joel Coen, Ethan Co...</td>\n",
       "      <td>Drama War</td>\n",
       "      <td>Angelina Jolie</td>\n",
       "      <td>Jack O'Connell</td>\n",
       "      <td>Domhnall Gleeson</td>\n",
       "      <td>Miyavi</td>\n",
       "    </tr>\n",
       "    <tr>\n",
       "      <th>229</th>\n",
       "      <td>NaN</td>\n",
       "      <td>NaN</td>\n",
       "      <td>Drama</td>\n",
       "      <td>nan</td>\n",
       "      <td>nan</td>\n",
       "      <td>NaN</td>\n",
       "      <td>NaN</td>\n",
       "    </tr>\n",
       "    <tr>\n",
       "      <th>230</th>\n",
       "      <td>NaN</td>\n",
       "      <td>NaN</td>\n",
       "      <td>Drama</td>\n",
       "      <td>nan</td>\n",
       "      <td>nan</td>\n",
       "      <td>NaN</td>\n",
       "      <td>NaN</td>\n",
       "    </tr>\n",
       "  </tbody>\n",
       "</table>\n",
       "<p>231 rows × 7 columns</p>\n",
       "</div>"
      ],
      "text/plain": [
       "                                    Title  \\\n",
       "0    Paranormal Activity: The Marked Ones   \n",
       "1                              Open Grave   \n",
       "2                    Cold Comes the Night   \n",
       "3                               Dumbbells   \n",
       "4                  The Legend of Hercules   \n",
       "..                                    ...   \n",
       "226                        Into the Woods   \n",
       "227                                 Selma   \n",
       "228                              Unbroken   \n",
       "229                                   NaN   \n",
       "230                                   NaN   \n",
       "\n",
       "                                         Cast and crew  \\\n",
       "0    Christopher Landon (director/screenplay); Andr...   \n",
       "1    Gonzálo López-Gallego (director); Chris Borey,...   \n",
       "2    Tze Chun (director/screenplay); Oz Perkins, Ni...   \n",
       "3    Christopher Livingston (director); Brian Drole...   \n",
       "4    Renny Harlin (director); Sean Hood, Daniel Gia...   \n",
       "..                                                 ...   \n",
       "226  Rob Marshall (director); James Lapine (screenp...   \n",
       "227  Ava DuVernay (director/screenplay); Paul Webb ...   \n",
       "228  Angelina Jolie (director); Joel Coen, Ethan Co...   \n",
       "229                                                NaN   \n",
       "230                                                NaN   \n",
       "\n",
       "                      genres           director_name    actor_1_name  \\\n",
       "0            Horror Thriller      Christopher Landon   Andrew Jacobs   \n",
       "1    Horror Thriller Mystery   Gonzálo López-Gallego  Sharlto Copley   \n",
       "2       Crime Drama Thriller                Tze Chun       Alice Eve   \n",
       "3                     Comedy  Christopher Livingston    Brian Drolet   \n",
       "4           Action Adventure            Renny Harlin     Kellan Lutz   \n",
       "..                       ...                     ...             ...   \n",
       "226           Fantasy Comedy            Rob Marshall    Meryl Streep   \n",
       "227            History Drama            Ava DuVernay   David Oyelowo   \n",
       "228                Drama War          Angelina Jolie  Jack O'Connell   \n",
       "229                    Drama                     nan             nan   \n",
       "230                    Drama                     nan             nan   \n",
       "\n",
       "             actor_2_name     actor_3_name  \n",
       "0              Jorge Diaz  Gabrielle Walsh  \n",
       "1      Thomas Kretschmann    Joseph Morgan  \n",
       "2    Logan Marshall-Green   Bryan Cranston  \n",
       "3           Hoyt Richards      Taylor Cole  \n",
       "4              Gaia Weiss     Scott Adkins  \n",
       "..                    ...              ...  \n",
       "226           Emily Blunt     James Corden  \n",
       "227         Tom Wilkinson           Common  \n",
       "228      Domhnall Gleeson           Miyavi  \n",
       "229                   NaN              NaN  \n",
       "230                   NaN              NaN  \n",
       "\n",
       "[231 rows x 7 columns]"
      ]
     },
     "execution_count": 25,
     "metadata": {},
     "output_type": "execute_result"
    }
   ],
   "source": [
    "df_2018"
   ]
  },
  {
   "cell_type": "code",
   "execution_count": 26,
   "metadata": {
    "id": "rBUUnUtfOZWX"
   },
   "outputs": [],
   "source": [
    "df_2018 = df_2018.rename(columns={'Title':'movie_title'})"
   ]
  },
  {
   "cell_type": "code",
   "execution_count": 27,
   "metadata": {
    "id": "_WCWVlAqOZWX"
   },
   "outputs": [],
   "source": [
    "new_df18 = df_2018.loc[:,['director_name','actor_1_name','actor_2_name','actor_3_name','genres','movie_title']]"
   ]
  },
  {
   "cell_type": "code",
   "execution_count": 28,
   "metadata": {
    "colab": {
     "base_uri": "https://localhost:8080/",
     "height": 406
    },
    "id": "i7KBDmu_OZWX",
    "outputId": "6b4de81e-b1ac-4fb0-d349-52ae7c210346"
   },
   "outputs": [
    {
     "data": {
      "text/html": [
       "<div>\n",
       "<style scoped>\n",
       "    .dataframe tbody tr th:only-of-type {\n",
       "        vertical-align: middle;\n",
       "    }\n",
       "\n",
       "    .dataframe tbody tr th {\n",
       "        vertical-align: top;\n",
       "    }\n",
       "\n",
       "    .dataframe thead th {\n",
       "        text-align: right;\n",
       "    }\n",
       "</style>\n",
       "<table border=\"1\" class=\"dataframe\">\n",
       "  <thead>\n",
       "    <tr style=\"text-align: right;\">\n",
       "      <th></th>\n",
       "      <th>director_name</th>\n",
       "      <th>actor_1_name</th>\n",
       "      <th>actor_2_name</th>\n",
       "      <th>actor_3_name</th>\n",
       "      <th>genres</th>\n",
       "      <th>movie_title</th>\n",
       "    </tr>\n",
       "  </thead>\n",
       "  <tbody>\n",
       "    <tr>\n",
       "      <th>0</th>\n",
       "      <td>Christopher Landon</td>\n",
       "      <td>Andrew Jacobs</td>\n",
       "      <td>Jorge Diaz</td>\n",
       "      <td>Gabrielle Walsh</td>\n",
       "      <td>Horror Thriller</td>\n",
       "      <td>Paranormal Activity: The Marked Ones</td>\n",
       "    </tr>\n",
       "    <tr>\n",
       "      <th>1</th>\n",
       "      <td>Gonzálo López-Gallego</td>\n",
       "      <td>Sharlto Copley</td>\n",
       "      <td>Thomas Kretschmann</td>\n",
       "      <td>Joseph Morgan</td>\n",
       "      <td>Horror Thriller Mystery</td>\n",
       "      <td>Open Grave</td>\n",
       "    </tr>\n",
       "    <tr>\n",
       "      <th>2</th>\n",
       "      <td>Tze Chun</td>\n",
       "      <td>Alice Eve</td>\n",
       "      <td>Logan Marshall-Green</td>\n",
       "      <td>Bryan Cranston</td>\n",
       "      <td>Crime Drama Thriller</td>\n",
       "      <td>Cold Comes the Night</td>\n",
       "    </tr>\n",
       "    <tr>\n",
       "      <th>3</th>\n",
       "      <td>Christopher Livingston</td>\n",
       "      <td>Brian Drolet</td>\n",
       "      <td>Hoyt Richards</td>\n",
       "      <td>Taylor Cole</td>\n",
       "      <td>Comedy</td>\n",
       "      <td>Dumbbells</td>\n",
       "    </tr>\n",
       "    <tr>\n",
       "      <th>4</th>\n",
       "      <td>Renny Harlin</td>\n",
       "      <td>Kellan Lutz</td>\n",
       "      <td>Gaia Weiss</td>\n",
       "      <td>Scott Adkins</td>\n",
       "      <td>Action Adventure</td>\n",
       "      <td>The Legend of Hercules</td>\n",
       "    </tr>\n",
       "    <tr>\n",
       "      <th>...</th>\n",
       "      <td>...</td>\n",
       "      <td>...</td>\n",
       "      <td>...</td>\n",
       "      <td>...</td>\n",
       "      <td>...</td>\n",
       "      <td>...</td>\n",
       "    </tr>\n",
       "    <tr>\n",
       "      <th>226</th>\n",
       "      <td>Rob Marshall</td>\n",
       "      <td>Meryl Streep</td>\n",
       "      <td>Emily Blunt</td>\n",
       "      <td>James Corden</td>\n",
       "      <td>Fantasy Comedy</td>\n",
       "      <td>Into the Woods</td>\n",
       "    </tr>\n",
       "    <tr>\n",
       "      <th>227</th>\n",
       "      <td>Ava DuVernay</td>\n",
       "      <td>David Oyelowo</td>\n",
       "      <td>Tom Wilkinson</td>\n",
       "      <td>Common</td>\n",
       "      <td>History Drama</td>\n",
       "      <td>Selma</td>\n",
       "    </tr>\n",
       "    <tr>\n",
       "      <th>228</th>\n",
       "      <td>Angelina Jolie</td>\n",
       "      <td>Jack O'Connell</td>\n",
       "      <td>Domhnall Gleeson</td>\n",
       "      <td>Miyavi</td>\n",
       "      <td>Drama War</td>\n",
       "      <td>Unbroken</td>\n",
       "    </tr>\n",
       "    <tr>\n",
       "      <th>229</th>\n",
       "      <td>nan</td>\n",
       "      <td>nan</td>\n",
       "      <td>NaN</td>\n",
       "      <td>NaN</td>\n",
       "      <td>Drama</td>\n",
       "      <td>NaN</td>\n",
       "    </tr>\n",
       "    <tr>\n",
       "      <th>230</th>\n",
       "      <td>nan</td>\n",
       "      <td>nan</td>\n",
       "      <td>NaN</td>\n",
       "      <td>NaN</td>\n",
       "      <td>Drama</td>\n",
       "      <td>NaN</td>\n",
       "    </tr>\n",
       "  </tbody>\n",
       "</table>\n",
       "<p>231 rows × 6 columns</p>\n",
       "</div>"
      ],
      "text/plain": [
       "              director_name    actor_1_name          actor_2_name  \\\n",
       "0        Christopher Landon   Andrew Jacobs            Jorge Diaz   \n",
       "1     Gonzálo López-Gallego  Sharlto Copley    Thomas Kretschmann   \n",
       "2                  Tze Chun       Alice Eve  Logan Marshall-Green   \n",
       "3    Christopher Livingston    Brian Drolet         Hoyt Richards   \n",
       "4              Renny Harlin     Kellan Lutz            Gaia Weiss   \n",
       "..                      ...             ...                   ...   \n",
       "226            Rob Marshall    Meryl Streep           Emily Blunt   \n",
       "227            Ava DuVernay   David Oyelowo         Tom Wilkinson   \n",
       "228          Angelina Jolie  Jack O'Connell      Domhnall Gleeson   \n",
       "229                     nan             nan                   NaN   \n",
       "230                     nan             nan                   NaN   \n",
       "\n",
       "        actor_3_name                   genres  \\\n",
       "0    Gabrielle Walsh          Horror Thriller   \n",
       "1      Joseph Morgan  Horror Thriller Mystery   \n",
       "2     Bryan Cranston     Crime Drama Thriller   \n",
       "3        Taylor Cole                   Comedy   \n",
       "4       Scott Adkins         Action Adventure   \n",
       "..               ...                      ...   \n",
       "226     James Corden           Fantasy Comedy   \n",
       "227           Common            History Drama   \n",
       "228           Miyavi                Drama War   \n",
       "229              NaN                    Drama   \n",
       "230              NaN                    Drama   \n",
       "\n",
       "                              movie_title  \n",
       "0    Paranormal Activity: The Marked Ones  \n",
       "1                              Open Grave  \n",
       "2                    Cold Comes the Night  \n",
       "3                               Dumbbells  \n",
       "4                  The Legend of Hercules  \n",
       "..                                    ...  \n",
       "226                        Into the Woods  \n",
       "227                                 Selma  \n",
       "228                              Unbroken  \n",
       "229                                   NaN  \n",
       "230                                   NaN  \n",
       "\n",
       "[231 rows x 6 columns]"
      ]
     },
     "execution_count": 28,
     "metadata": {},
     "output_type": "execute_result"
    }
   ],
   "source": [
    "new_df18"
   ]
  },
  {
   "cell_type": "code",
   "execution_count": 29,
   "metadata": {
    "id": "0s7XMhqzOZWY"
   },
   "outputs": [],
   "source": [
    "new_df18['comb'] = new_df18['actor_1_name'] + ' ' + new_df18['actor_2_name'] + ' '+ new_df18['actor_3_name'] + ' '+ new_df18['director_name'] +' ' + new_df18['genres']"
   ]
  },
  {
   "cell_type": "code",
   "execution_count": 30,
   "metadata": {
    "colab": {
     "base_uri": "https://localhost:8080/"
    },
    "id": "ta_KcPQJOZWY",
    "outputId": "ac6aa7b7-c156-49b2-9e95-3a76f971f5b1"
   },
   "outputs": [
    {
     "data": {
      "text/plain": [
       "director_name     0\n",
       "actor_1_name      0\n",
       "actor_2_name      5\n",
       "actor_3_name     12\n",
       "genres            0\n",
       "movie_title       2\n",
       "comb             12\n",
       "dtype: int64"
      ]
     },
     "execution_count": 30,
     "metadata": {},
     "output_type": "execute_result"
    }
   ],
   "source": [
    "new_df18.isna().sum()"
   ]
  },
  {
   "cell_type": "code",
   "execution_count": 31,
   "metadata": {
    "id": "DkKroG5GOZWY"
   },
   "outputs": [],
   "source": [
    "new_df18 = new_df18.dropna(how='any')"
   ]
  },
  {
   "cell_type": "code",
   "execution_count": 32,
   "metadata": {
    "colab": {
     "base_uri": "https://localhost:8080/"
    },
    "id": "YOIv1wvhOZWY",
    "outputId": "c3ad579e-16e2-4d8c-d4a0-71891d71b986"
   },
   "outputs": [
    {
     "data": {
      "text/plain": [
       "director_name    0\n",
       "actor_1_name     0\n",
       "actor_2_name     0\n",
       "actor_3_name     0\n",
       "genres           0\n",
       "movie_title      0\n",
       "comb             0\n",
       "dtype: int64"
      ]
     },
     "execution_count": 32,
     "metadata": {},
     "output_type": "execute_result"
    }
   ],
   "source": [
    "new_df18.isna().sum()"
   ]
  },
  {
   "cell_type": "code",
   "execution_count": 33,
   "metadata": {
    "colab": {
     "base_uri": "https://localhost:8080/"
    },
    "id": "IB3YmNWROZWY",
    "outputId": "8abccee1-4b9e-436b-de18-eb97298d73a9"
   },
   "outputs": [
    {
     "name": "stderr",
     "output_type": "stream",
     "text": [
      "C:\\Users\\chand\\AppData\\Local\\Temp\\ipykernel_13752\\696104642.py:1: SettingWithCopyWarning: \n",
      "A value is trying to be set on a copy of a slice from a DataFrame.\n",
      "Try using .loc[row_indexer,col_indexer] = value instead\n",
      "\n",
      "See the caveats in the documentation: https://pandas.pydata.org/pandas-docs/stable/user_guide/indexing.html#returning-a-view-versus-a-copy\n",
      "  new_df14['movie_title'] = new_df14['movie_title'].str.lower()\n"
     ]
    }
   ],
   "source": [
    "new_df18['movie_title'] = new_df18['movie_title'].str.lower()"
   ]
  },
  {
   "cell_type": "code",
   "execution_count": 34,
   "metadata": {
    "colab": {
     "base_uri": "https://localhost:8080/",
     "height": 406
    },
    "id": "3e3NnY70OZWZ",
    "outputId": "cf4351f9-93f7-40bc-cc24-ab9e45bd8358"
   },
   "outputs": [
    {
     "data": {
      "text/html": [
       "<div>\n",
       "<style scoped>\n",
       "    .dataframe tbody tr th:only-of-type {\n",
       "        vertical-align: middle;\n",
       "    }\n",
       "\n",
       "    .dataframe tbody tr th {\n",
       "        vertical-align: top;\n",
       "    }\n",
       "\n",
       "    .dataframe thead th {\n",
       "        text-align: right;\n",
       "    }\n",
       "</style>\n",
       "<table border=\"1\" class=\"dataframe\">\n",
       "  <thead>\n",
       "    <tr style=\"text-align: right;\">\n",
       "      <th></th>\n",
       "      <th>director_name</th>\n",
       "      <th>actor_1_name</th>\n",
       "      <th>actor_2_name</th>\n",
       "      <th>actor_3_name</th>\n",
       "      <th>genres</th>\n",
       "      <th>movie_title</th>\n",
       "      <th>comb</th>\n",
       "    </tr>\n",
       "  </thead>\n",
       "  <tbody>\n",
       "    <tr>\n",
       "      <th>0</th>\n",
       "      <td>Christopher Landon</td>\n",
       "      <td>Andrew Jacobs</td>\n",
       "      <td>Jorge Diaz</td>\n",
       "      <td>Gabrielle Walsh</td>\n",
       "      <td>Horror Thriller</td>\n",
       "      <td>paranormal activity: the marked ones</td>\n",
       "      <td>Andrew Jacobs Jorge Diaz Gabrielle Walsh Chris...</td>\n",
       "    </tr>\n",
       "    <tr>\n",
       "      <th>1</th>\n",
       "      <td>Gonzálo López-Gallego</td>\n",
       "      <td>Sharlto Copley</td>\n",
       "      <td>Thomas Kretschmann</td>\n",
       "      <td>Joseph Morgan</td>\n",
       "      <td>Horror Thriller Mystery</td>\n",
       "      <td>open grave</td>\n",
       "      <td>Sharlto Copley Thomas Kretschmann Joseph Morga...</td>\n",
       "    </tr>\n",
       "    <tr>\n",
       "      <th>2</th>\n",
       "      <td>Tze Chun</td>\n",
       "      <td>Alice Eve</td>\n",
       "      <td>Logan Marshall-Green</td>\n",
       "      <td>Bryan Cranston</td>\n",
       "      <td>Crime Drama Thriller</td>\n",
       "      <td>cold comes the night</td>\n",
       "      <td>Alice Eve Logan Marshall-Green Bryan Cranston ...</td>\n",
       "    </tr>\n",
       "    <tr>\n",
       "      <th>3</th>\n",
       "      <td>Christopher Livingston</td>\n",
       "      <td>Brian Drolet</td>\n",
       "      <td>Hoyt Richards</td>\n",
       "      <td>Taylor Cole</td>\n",
       "      <td>Comedy</td>\n",
       "      <td>dumbbells</td>\n",
       "      <td>Brian Drolet Hoyt Richards Taylor Cole Christo...</td>\n",
       "    </tr>\n",
       "    <tr>\n",
       "      <th>4</th>\n",
       "      <td>Renny Harlin</td>\n",
       "      <td>Kellan Lutz</td>\n",
       "      <td>Gaia Weiss</td>\n",
       "      <td>Scott Adkins</td>\n",
       "      <td>Action Adventure</td>\n",
       "      <td>the legend of hercules</td>\n",
       "      <td>Kellan Lutz Gaia Weiss Scott Adkins Renny Harl...</td>\n",
       "    </tr>\n",
       "    <tr>\n",
       "      <th>...</th>\n",
       "      <td>...</td>\n",
       "      <td>...</td>\n",
       "      <td>...</td>\n",
       "      <td>...</td>\n",
       "      <td>...</td>\n",
       "      <td>...</td>\n",
       "      <td>...</td>\n",
       "    </tr>\n",
       "    <tr>\n",
       "      <th>224</th>\n",
       "      <td>Rupert Wyatt</td>\n",
       "      <td>Mark Wahlberg</td>\n",
       "      <td>Brie Larson</td>\n",
       "      <td>Jessica Lange</td>\n",
       "      <td>Thriller Crime Drama</td>\n",
       "      <td>the gambler</td>\n",
       "      <td>Mark Wahlberg Brie Larson Jessica Lange Rupert...</td>\n",
       "    </tr>\n",
       "    <tr>\n",
       "      <th>225</th>\n",
       "      <td>Seth Rogen, Evan Goldberg</td>\n",
       "      <td>James Franco</td>\n",
       "      <td>Seth Rogen</td>\n",
       "      <td>Lizzy Caplan</td>\n",
       "      <td>Action Comedy</td>\n",
       "      <td>the interview</td>\n",
       "      <td>James Franco Seth Rogen Lizzy Caplan Seth Roge...</td>\n",
       "    </tr>\n",
       "    <tr>\n",
       "      <th>226</th>\n",
       "      <td>Rob Marshall</td>\n",
       "      <td>Meryl Streep</td>\n",
       "      <td>Emily Blunt</td>\n",
       "      <td>James Corden</td>\n",
       "      <td>Fantasy Comedy</td>\n",
       "      <td>into the woods</td>\n",
       "      <td>Meryl Streep Emily Blunt James Corden Rob Mars...</td>\n",
       "    </tr>\n",
       "    <tr>\n",
       "      <th>227</th>\n",
       "      <td>Ava DuVernay</td>\n",
       "      <td>David Oyelowo</td>\n",
       "      <td>Tom Wilkinson</td>\n",
       "      <td>Common</td>\n",
       "      <td>History Drama</td>\n",
       "      <td>selma</td>\n",
       "      <td>David Oyelowo Tom Wilkinson Common Ava DuVerna...</td>\n",
       "    </tr>\n",
       "    <tr>\n",
       "      <th>228</th>\n",
       "      <td>Angelina Jolie</td>\n",
       "      <td>Jack O'Connell</td>\n",
       "      <td>Domhnall Gleeson</td>\n",
       "      <td>Miyavi</td>\n",
       "      <td>Drama War</td>\n",
       "      <td>unbroken</td>\n",
       "      <td>Jack O'Connell Domhnall Gleeson Miyavi Angelin...</td>\n",
       "    </tr>\n",
       "  </tbody>\n",
       "</table>\n",
       "<p>219 rows × 7 columns</p>\n",
       "</div>"
      ],
      "text/plain": [
       "                 director_name    actor_1_name          actor_2_name  \\\n",
       "0           Christopher Landon   Andrew Jacobs            Jorge Diaz   \n",
       "1        Gonzálo López-Gallego  Sharlto Copley    Thomas Kretschmann   \n",
       "2                     Tze Chun       Alice Eve  Logan Marshall-Green   \n",
       "3       Christopher Livingston    Brian Drolet         Hoyt Richards   \n",
       "4                 Renny Harlin     Kellan Lutz            Gaia Weiss   \n",
       "..                         ...             ...                   ...   \n",
       "224               Rupert Wyatt   Mark Wahlberg           Brie Larson   \n",
       "225  Seth Rogen, Evan Goldberg    James Franco            Seth Rogen   \n",
       "226               Rob Marshall    Meryl Streep           Emily Blunt   \n",
       "227               Ava DuVernay   David Oyelowo         Tom Wilkinson   \n",
       "228             Angelina Jolie  Jack O'Connell      Domhnall Gleeson   \n",
       "\n",
       "        actor_3_name                   genres  \\\n",
       "0    Gabrielle Walsh          Horror Thriller   \n",
       "1      Joseph Morgan  Horror Thriller Mystery   \n",
       "2     Bryan Cranston     Crime Drama Thriller   \n",
       "3        Taylor Cole                   Comedy   \n",
       "4       Scott Adkins         Action Adventure   \n",
       "..               ...                      ...   \n",
       "224    Jessica Lange     Thriller Crime Drama   \n",
       "225     Lizzy Caplan            Action Comedy   \n",
       "226     James Corden           Fantasy Comedy   \n",
       "227           Common            History Drama   \n",
       "228           Miyavi                Drama War   \n",
       "\n",
       "                              movie_title  \\\n",
       "0    paranormal activity: the marked ones   \n",
       "1                              open grave   \n",
       "2                    cold comes the night   \n",
       "3                               dumbbells   \n",
       "4                  the legend of hercules   \n",
       "..                                    ...   \n",
       "224                           the gambler   \n",
       "225                         the interview   \n",
       "226                        into the woods   \n",
       "227                                 selma   \n",
       "228                              unbroken   \n",
       "\n",
       "                                                  comb  \n",
       "0    Andrew Jacobs Jorge Diaz Gabrielle Walsh Chris...  \n",
       "1    Sharlto Copley Thomas Kretschmann Joseph Morga...  \n",
       "2    Alice Eve Logan Marshall-Green Bryan Cranston ...  \n",
       "3    Brian Drolet Hoyt Richards Taylor Cole Christo...  \n",
       "4    Kellan Lutz Gaia Weiss Scott Adkins Renny Harl...  \n",
       "..                                                 ...  \n",
       "224  Mark Wahlberg Brie Larson Jessica Lange Rupert...  \n",
       "225  James Franco Seth Rogen Lizzy Caplan Seth Roge...  \n",
       "226  Meryl Streep Emily Blunt James Corden Rob Mars...  \n",
       "227  David Oyelowo Tom Wilkinson Common Ava DuVerna...  \n",
       "228  Jack O'Connell Domhnall Gleeson Miyavi Angelin...  \n",
       "\n",
       "[219 rows x 7 columns]"
      ]
     },
     "execution_count": 34,
     "metadata": {},
     "output_type": "execute_result"
    }
   ],
   "source": [
    "new_df18"
   ]
  },
  {
   "cell_type": "code",
   "execution_count": 35,
   "metadata": {
    "id": "BCf9fH_4OZWZ"
   },
   "outputs": [],
   "source": [
    "old_df = pd.read_csv('final_data.csv')"
   ]
  },
  {
   "cell_type": "code",
   "execution_count": 36,
   "metadata": {
    "id": "ce2e426yOZWZ",
    "outputId": "7d2c0bd7-6907-4398-c385-829b04ad921e"
   },
   "outputs": [
    {
     "data": {
      "text/html": [
       "<div>\n",
       "<style scoped>\n",
       "    .dataframe tbody tr th:only-of-type {\n",
       "        vertical-align: middle;\n",
       "    }\n",
       "\n",
       "    .dataframe tbody tr th {\n",
       "        vertical-align: top;\n",
       "    }\n",
       "\n",
       "    .dataframe thead th {\n",
       "        text-align: right;\n",
       "    }\n",
       "</style>\n",
       "<table border=\"1\" class=\"dataframe\">\n",
       "  <thead>\n",
       "    <tr style=\"text-align: right;\">\n",
       "      <th></th>\n",
       "      <th>director_name</th>\n",
       "      <th>actor_1_name</th>\n",
       "      <th>actor_2_name</th>\n",
       "      <th>actor_3_name</th>\n",
       "      <th>genres</th>\n",
       "      <th>movie_title</th>\n",
       "      <th>comb</th>\n",
       "    </tr>\n",
       "  </thead>\n",
       "  <tbody>\n",
       "    <tr>\n",
       "      <th>0</th>\n",
       "      <td>James Cameron</td>\n",
       "      <td>CCH Pounder</td>\n",
       "      <td>Joel David Moore</td>\n",
       "      <td>Wes Studi</td>\n",
       "      <td>Action Adventure Fantasy Sci-Fi</td>\n",
       "      <td>avatar</td>\n",
       "      <td>CCH Pounder Joel David Moore Wes Studi James C...</td>\n",
       "    </tr>\n",
       "    <tr>\n",
       "      <th>1</th>\n",
       "      <td>Gore Verbinski</td>\n",
       "      <td>Johnny Depp</td>\n",
       "      <td>Orlando Bloom</td>\n",
       "      <td>Jack Davenport</td>\n",
       "      <td>Action Adventure Fantasy</td>\n",
       "      <td>pirates of the caribbean: at world's end</td>\n",
       "      <td>Johnny Depp Orlando Bloom Jack Davenport Gore ...</td>\n",
       "    </tr>\n",
       "    <tr>\n",
       "      <th>2</th>\n",
       "      <td>Sam Mendes</td>\n",
       "      <td>Christoph Waltz</td>\n",
       "      <td>Rory Kinnear</td>\n",
       "      <td>Stephanie Sigman</td>\n",
       "      <td>Action Adventure Thriller</td>\n",
       "      <td>spectre</td>\n",
       "      <td>Christoph Waltz Rory Kinnear Stephanie Sigman ...</td>\n",
       "    </tr>\n",
       "    <tr>\n",
       "      <th>3</th>\n",
       "      <td>Christopher Nolan</td>\n",
       "      <td>Tom Hardy</td>\n",
       "      <td>Christian Bale</td>\n",
       "      <td>Joseph Gordon-Levitt</td>\n",
       "      <td>Action Thriller</td>\n",
       "      <td>the dark knight rises</td>\n",
       "      <td>Tom Hardy Christian Bale Joseph Gordon-Levitt ...</td>\n",
       "    </tr>\n",
       "    <tr>\n",
       "      <th>4</th>\n",
       "      <td>Doug Walker</td>\n",
       "      <td>Doug Walker</td>\n",
       "      <td>Rob Walker</td>\n",
       "      <td>unknown</td>\n",
       "      <td>Documentary</td>\n",
       "      <td>star wars: episode vii - the force awakens    ...</td>\n",
       "      <td>Doug Walker Rob Walker unknown Doug Walker Doc...</td>\n",
       "    </tr>\n",
       "    <tr>\n",
       "      <th>...</th>\n",
       "      <td>...</td>\n",
       "      <td>...</td>\n",
       "      <td>...</td>\n",
       "      <td>...</td>\n",
       "      <td>...</td>\n",
       "      <td>...</td>\n",
       "      <td>...</td>\n",
       "    </tr>\n",
       "    <tr>\n",
       "      <th>5864</th>\n",
       "      <td>Greta Gerwig</td>\n",
       "      <td>Saoirse Ronan</td>\n",
       "      <td>Emma Watson</td>\n",
       "      <td>Florence Pugh</td>\n",
       "      <td>Drama Romance</td>\n",
       "      <td>little women</td>\n",
       "      <td>Saoirse Ronan Emma Watson Florence Pugh Greta ...</td>\n",
       "    </tr>\n",
       "    <tr>\n",
       "      <th>5865</th>\n",
       "      <td>Sam Mendes</td>\n",
       "      <td>George MacKay</td>\n",
       "      <td>Dean-Charles Chapman</td>\n",
       "      <td>Mark Strong</td>\n",
       "      <td>War Drama Action History</td>\n",
       "      <td>1917</td>\n",
       "      <td>George MacKay Dean-Charles Chapman Mark Strong...</td>\n",
       "    </tr>\n",
       "    <tr>\n",
       "      <th>5866</th>\n",
       "      <td>Destin Daniel Cretton</td>\n",
       "      <td>Michael B. Jordan</td>\n",
       "      <td>Jamie Foxx</td>\n",
       "      <td>Brie Larson</td>\n",
       "      <td>Drama Crime</td>\n",
       "      <td>just mercy</td>\n",
       "      <td>Michael B. Jordan Jamie Foxx Brie Larson Desti...</td>\n",
       "    </tr>\n",
       "    <tr>\n",
       "      <th>5867</th>\n",
       "      <td>Chinonye Chukwu</td>\n",
       "      <td>Alfre Woodard</td>\n",
       "      <td>Wendell Pierce</td>\n",
       "      <td>Aldis Hodge</td>\n",
       "      <td>Drama</td>\n",
       "      <td>clemency</td>\n",
       "      <td>Alfre Woodard Wendell Pierce Aldis Hodge Chino...</td>\n",
       "    </tr>\n",
       "    <tr>\n",
       "      <th>5868</th>\n",
       "      <td>Waymon Boone</td>\n",
       "      <td>Mena Suvari</td>\n",
       "      <td>Kevin Pollak</td>\n",
       "      <td>unknown</td>\n",
       "      <td>Horror Thriller</td>\n",
       "      <td>apparition</td>\n",
       "      <td>Mena Suvari Kevin Pollak unknown Waymon Boone ...</td>\n",
       "    </tr>\n",
       "  </tbody>\n",
       "</table>\n",
       "<p>5869 rows × 7 columns</p>\n",
       "</div>"
      ],
      "text/plain": [
       "              director_name       actor_1_name          actor_2_name  \\\n",
       "0             James Cameron        CCH Pounder      Joel David Moore   \n",
       "1            Gore Verbinski        Johnny Depp         Orlando Bloom   \n",
       "2                Sam Mendes    Christoph Waltz          Rory Kinnear   \n",
       "3         Christopher Nolan          Tom Hardy        Christian Bale   \n",
       "4               Doug Walker        Doug Walker            Rob Walker   \n",
       "...                     ...                ...                   ...   \n",
       "5864           Greta Gerwig      Saoirse Ronan           Emma Watson   \n",
       "5865             Sam Mendes      George MacKay  Dean-Charles Chapman   \n",
       "5866  Destin Daniel Cretton  Michael B. Jordan            Jamie Foxx   \n",
       "5867        Chinonye Chukwu      Alfre Woodard        Wendell Pierce   \n",
       "5868           Waymon Boone        Mena Suvari          Kevin Pollak   \n",
       "\n",
       "              actor_3_name                           genres  \\\n",
       "0                Wes Studi  Action Adventure Fantasy Sci-Fi   \n",
       "1           Jack Davenport         Action Adventure Fantasy   \n",
       "2         Stephanie Sigman        Action Adventure Thriller   \n",
       "3     Joseph Gordon-Levitt                  Action Thriller   \n",
       "4                  unknown                      Documentary   \n",
       "...                    ...                              ...   \n",
       "5864         Florence Pugh                    Drama Romance   \n",
       "5865           Mark Strong         War Drama Action History   \n",
       "5866           Brie Larson                      Drama Crime   \n",
       "5867           Aldis Hodge                            Drama   \n",
       "5868               unknown                  Horror Thriller   \n",
       "\n",
       "                                            movie_title  \\\n",
       "0                                                avatar   \n",
       "1              pirates of the caribbean: at world's end   \n",
       "2                                               spectre   \n",
       "3                                 the dark knight rises   \n",
       "4     star wars: episode vii - the force awakens    ...   \n",
       "...                                                 ...   \n",
       "5864                                       little women   \n",
       "5865                                               1917   \n",
       "5866                                         just mercy   \n",
       "5867                                           clemency   \n",
       "5868                                         apparition   \n",
       "\n",
       "                                                   comb  \n",
       "0     CCH Pounder Joel David Moore Wes Studi James C...  \n",
       "1     Johnny Depp Orlando Bloom Jack Davenport Gore ...  \n",
       "2     Christoph Waltz Rory Kinnear Stephanie Sigman ...  \n",
       "3     Tom Hardy Christian Bale Joseph Gordon-Levitt ...  \n",
       "4     Doug Walker Rob Walker unknown Doug Walker Doc...  \n",
       "...                                                 ...  \n",
       "5864  Saoirse Ronan Emma Watson Florence Pugh Greta ...  \n",
       "5865  George MacKay Dean-Charles Chapman Mark Strong...  \n",
       "5866  Michael B. Jordan Jamie Foxx Brie Larson Desti...  \n",
       "5867  Alfre Woodard Wendell Pierce Aldis Hodge Chino...  \n",
       "5868  Mena Suvari Kevin Pollak unknown Waymon Boone ...  \n",
       "\n",
       "[5869 rows x 7 columns]"
      ]
     },
     "execution_count": 36,
     "metadata": {},
     "output_type": "execute_result"
    }
   ],
   "source": [
    "old_df"
   ]
  },
  {
   "cell_type": "code",
   "execution_count": 37,
   "metadata": {
    "id": "P14B9e3GOZWZ"
   },
   "outputs": [
    {
     "name": "stderr",
     "output_type": "stream",
     "text": [
      "C:\\Users\\chand\\AppData\\Local\\Temp\\ipykernel_13752\\914367843.py:1: FutureWarning: The frame.append method is deprecated and will be removed from pandas in a future version. Use pandas.concat instead.\n",
      "  final_df = old_df.append(new_df14,ignore_index=True)\n"
     ]
    }
   ],
   "source": [
    "final_df = old_df.append(new_df18,ignore_index=True)"
   ]
  },
  {
   "cell_type": "code",
   "execution_count": 38,
   "metadata": {
    "id": "0RAVcY-jOZWZ",
    "outputId": "0e87fe5f-5a7a-4792-edf3-a5027e667af0"
   },
   "outputs": [
    {
     "data": {
      "text/html": [
       "<div>\n",
       "<style scoped>\n",
       "    .dataframe tbody tr th:only-of-type {\n",
       "        vertical-align: middle;\n",
       "    }\n",
       "\n",
       "    .dataframe tbody tr th {\n",
       "        vertical-align: top;\n",
       "    }\n",
       "\n",
       "    .dataframe thead th {\n",
       "        text-align: right;\n",
       "    }\n",
       "</style>\n",
       "<table border=\"1\" class=\"dataframe\">\n",
       "  <thead>\n",
       "    <tr style=\"text-align: right;\">\n",
       "      <th></th>\n",
       "      <th>director_name</th>\n",
       "      <th>actor_1_name</th>\n",
       "      <th>actor_2_name</th>\n",
       "      <th>actor_3_name</th>\n",
       "      <th>genres</th>\n",
       "      <th>movie_title</th>\n",
       "      <th>comb</th>\n",
       "    </tr>\n",
       "  </thead>\n",
       "  <tbody>\n",
       "    <tr>\n",
       "      <th>0</th>\n",
       "      <td>James Cameron</td>\n",
       "      <td>CCH Pounder</td>\n",
       "      <td>Joel David Moore</td>\n",
       "      <td>Wes Studi</td>\n",
       "      <td>Action Adventure Fantasy Sci-Fi</td>\n",
       "      <td>avatar</td>\n",
       "      <td>CCH Pounder Joel David Moore Wes Studi James C...</td>\n",
       "    </tr>\n",
       "    <tr>\n",
       "      <th>1</th>\n",
       "      <td>Gore Verbinski</td>\n",
       "      <td>Johnny Depp</td>\n",
       "      <td>Orlando Bloom</td>\n",
       "      <td>Jack Davenport</td>\n",
       "      <td>Action Adventure Fantasy</td>\n",
       "      <td>pirates of the caribbean: at world's end</td>\n",
       "      <td>Johnny Depp Orlando Bloom Jack Davenport Gore ...</td>\n",
       "    </tr>\n",
       "    <tr>\n",
       "      <th>2</th>\n",
       "      <td>Sam Mendes</td>\n",
       "      <td>Christoph Waltz</td>\n",
       "      <td>Rory Kinnear</td>\n",
       "      <td>Stephanie Sigman</td>\n",
       "      <td>Action Adventure Thriller</td>\n",
       "      <td>spectre</td>\n",
       "      <td>Christoph Waltz Rory Kinnear Stephanie Sigman ...</td>\n",
       "    </tr>\n",
       "    <tr>\n",
       "      <th>3</th>\n",
       "      <td>Christopher Nolan</td>\n",
       "      <td>Tom Hardy</td>\n",
       "      <td>Christian Bale</td>\n",
       "      <td>Joseph Gordon-Levitt</td>\n",
       "      <td>Action Thriller</td>\n",
       "      <td>the dark knight rises</td>\n",
       "      <td>Tom Hardy Christian Bale Joseph Gordon-Levitt ...</td>\n",
       "    </tr>\n",
       "    <tr>\n",
       "      <th>4</th>\n",
       "      <td>Doug Walker</td>\n",
       "      <td>Doug Walker</td>\n",
       "      <td>Rob Walker</td>\n",
       "      <td>unknown</td>\n",
       "      <td>Documentary</td>\n",
       "      <td>star wars: episode vii - the force awakens    ...</td>\n",
       "      <td>Doug Walker Rob Walker unknown Doug Walker Doc...</td>\n",
       "    </tr>\n",
       "    <tr>\n",
       "      <th>...</th>\n",
       "      <td>...</td>\n",
       "      <td>...</td>\n",
       "      <td>...</td>\n",
       "      <td>...</td>\n",
       "      <td>...</td>\n",
       "      <td>...</td>\n",
       "      <td>...</td>\n",
       "    </tr>\n",
       "    <tr>\n",
       "      <th>6083</th>\n",
       "      <td>Rupert Wyatt</td>\n",
       "      <td>Mark Wahlberg</td>\n",
       "      <td>Brie Larson</td>\n",
       "      <td>Jessica Lange</td>\n",
       "      <td>Thriller Crime Drama</td>\n",
       "      <td>the gambler</td>\n",
       "      <td>Mark Wahlberg Brie Larson Jessica Lange Rupert...</td>\n",
       "    </tr>\n",
       "    <tr>\n",
       "      <th>6084</th>\n",
       "      <td>Seth Rogen, Evan Goldberg</td>\n",
       "      <td>James Franco</td>\n",
       "      <td>Seth Rogen</td>\n",
       "      <td>Lizzy Caplan</td>\n",
       "      <td>Action Comedy</td>\n",
       "      <td>the interview</td>\n",
       "      <td>James Franco Seth Rogen Lizzy Caplan Seth Roge...</td>\n",
       "    </tr>\n",
       "    <tr>\n",
       "      <th>6085</th>\n",
       "      <td>Rob Marshall</td>\n",
       "      <td>Meryl Streep</td>\n",
       "      <td>Emily Blunt</td>\n",
       "      <td>James Corden</td>\n",
       "      <td>Fantasy Comedy</td>\n",
       "      <td>into the woods</td>\n",
       "      <td>Meryl Streep Emily Blunt James Corden Rob Mars...</td>\n",
       "    </tr>\n",
       "    <tr>\n",
       "      <th>6086</th>\n",
       "      <td>Ava DuVernay</td>\n",
       "      <td>David Oyelowo</td>\n",
       "      <td>Tom Wilkinson</td>\n",
       "      <td>Common</td>\n",
       "      <td>History Drama</td>\n",
       "      <td>selma</td>\n",
       "      <td>David Oyelowo Tom Wilkinson Common Ava DuVerna...</td>\n",
       "    </tr>\n",
       "    <tr>\n",
       "      <th>6087</th>\n",
       "      <td>Angelina Jolie</td>\n",
       "      <td>Jack O'Connell</td>\n",
       "      <td>Domhnall Gleeson</td>\n",
       "      <td>Miyavi</td>\n",
       "      <td>Drama War</td>\n",
       "      <td>unbroken</td>\n",
       "      <td>Jack O'Connell Domhnall Gleeson Miyavi Angelin...</td>\n",
       "    </tr>\n",
       "  </tbody>\n",
       "</table>\n",
       "<p>6088 rows × 7 columns</p>\n",
       "</div>"
      ],
      "text/plain": [
       "                  director_name     actor_1_name      actor_2_name  \\\n",
       "0                 James Cameron      CCH Pounder  Joel David Moore   \n",
       "1                Gore Verbinski      Johnny Depp     Orlando Bloom   \n",
       "2                    Sam Mendes  Christoph Waltz      Rory Kinnear   \n",
       "3             Christopher Nolan        Tom Hardy    Christian Bale   \n",
       "4                   Doug Walker      Doug Walker        Rob Walker   \n",
       "...                         ...              ...               ...   \n",
       "6083               Rupert Wyatt    Mark Wahlberg       Brie Larson   \n",
       "6084  Seth Rogen, Evan Goldberg     James Franco        Seth Rogen   \n",
       "6085               Rob Marshall     Meryl Streep       Emily Blunt   \n",
       "6086               Ava DuVernay    David Oyelowo     Tom Wilkinson   \n",
       "6087             Angelina Jolie   Jack O'Connell  Domhnall Gleeson   \n",
       "\n",
       "              actor_3_name                           genres  \\\n",
       "0                Wes Studi  Action Adventure Fantasy Sci-Fi   \n",
       "1           Jack Davenport         Action Adventure Fantasy   \n",
       "2         Stephanie Sigman        Action Adventure Thriller   \n",
       "3     Joseph Gordon-Levitt                  Action Thriller   \n",
       "4                  unknown                      Documentary   \n",
       "...                    ...                              ...   \n",
       "6083         Jessica Lange             Thriller Crime Drama   \n",
       "6084          Lizzy Caplan                    Action Comedy   \n",
       "6085          James Corden                   Fantasy Comedy   \n",
       "6086                Common                    History Drama   \n",
       "6087                Miyavi                        Drama War   \n",
       "\n",
       "                                            movie_title  \\\n",
       "0                                                avatar   \n",
       "1              pirates of the caribbean: at world's end   \n",
       "2                                               spectre   \n",
       "3                                 the dark knight rises   \n",
       "4     star wars: episode vii - the force awakens    ...   \n",
       "...                                                 ...   \n",
       "6083                                        the gambler   \n",
       "6084                                      the interview   \n",
       "6085                                     into the woods   \n",
       "6086                                              selma   \n",
       "6087                                           unbroken   \n",
       "\n",
       "                                                   comb  \n",
       "0     CCH Pounder Joel David Moore Wes Studi James C...  \n",
       "1     Johnny Depp Orlando Bloom Jack Davenport Gore ...  \n",
       "2     Christoph Waltz Rory Kinnear Stephanie Sigman ...  \n",
       "3     Tom Hardy Christian Bale Joseph Gordon-Levitt ...  \n",
       "4     Doug Walker Rob Walker unknown Doug Walker Doc...  \n",
       "...                                                 ...  \n",
       "6083  Mark Wahlberg Brie Larson Jessica Lange Rupert...  \n",
       "6084  James Franco Seth Rogen Lizzy Caplan Seth Roge...  \n",
       "6085  Meryl Streep Emily Blunt James Corden Rob Mars...  \n",
       "6086  David Oyelowo Tom Wilkinson Common Ava DuVerna...  \n",
       "6087  Jack O'Connell Domhnall Gleeson Miyavi Angelin...  \n",
       "\n",
       "[6088 rows x 7 columns]"
      ]
     },
     "execution_count": 38,
     "metadata": {},
     "output_type": "execute_result"
    }
   ],
   "source": [
    "final_df"
   ]
  },
  {
   "cell_type": "code",
   "execution_count": 39,
   "metadata": {
    "id": "gCTWwaOiOZWZ"
   },
   "outputs": [],
   "source": [
    "final_df.to_csv('main_data.csv',index=False)"
   ]
  }
 ],
 "metadata": {
  "colab": {
   "collapsed_sections": [],
   "name": "preprocessing 4.ipynb",
   "provenance": []
  },
  "kernelspec": {
   "display_name": "Python 3 (ipykernel)",
   "language": "python",
   "name": "python3"
  },
  "language_info": {
   "codemirror_mode": {
    "name": "ipython",
    "version": 3
   },
   "file_extension": ".py",
   "mimetype": "text/x-python",
   "name": "python",
   "nbconvert_exporter": "python",
   "pygments_lexer": "ipython3",
   "version": "3.10.11"
  }
 },
 "nbformat": 4,
 "nbformat_minor": 1
}
