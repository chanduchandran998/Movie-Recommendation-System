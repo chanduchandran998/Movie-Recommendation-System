{
 "cells": [
  {
   "cell_type": "code",
   "execution_count": 1,
   "metadata": {
    "id": "gZhqxpznOZWS"
   },
   "outputs": [],
   "source": [
    "import pandas as pd\n",
    "import numpy as np\n",
    "import requests\n",
    "import bs4 as bs\n",
    "import urllib.request"
   ]
  },
  {
   "cell_type": "markdown",
   "metadata": {
    "id": "xhXPbpjhOZWT"
   },
   "source": [
    "## Extracting features of 2017 movies from Wikipedia"
   ]
  },
  {
   "cell_type": "code",
   "execution_count": 2,
   "metadata": {
    "id": "1o9WJASWOZWT"
   },
   "outputs": [],
   "source": [
    "link = \"https://en.wikipedia.org/wiki/List_of_American_films_of_2017\""
   ]
  },
  {
   "cell_type": "code",
   "execution_count": 3,
   "metadata": {
    "id": "TIlfZhgwOZWT"
   },
   "outputs": [],
   "source": [
    "source = urllib.request.urlopen(link).read()\n",
    "soup = bs.BeautifulSoup(source,'lxml')"
   ]
  },
  {
   "cell_type": "code",
   "execution_count": 4,
   "metadata": {
    "id": "LFytQ2MaOZWT"
   },
   "outputs": [],
   "source": [
    "tables = soup.find_all('table',class_='wikitable sortable')"
   ]
  },
  {
   "cell_type": "code",
   "execution_count": 5,
   "metadata": {
    "colab": {
     "base_uri": "https://localhost:8080/"
    },
    "id": "CdSLuBzGOZWT",
    "outputId": "a59c27fc-00d2-4acd-e5c8-3dd746d78baa"
   },
   "outputs": [
    {
     "data": {
      "text/plain": [
       "4"
      ]
     },
     "execution_count": 5,
     "metadata": {},
     "output_type": "execute_result"
    }
   ],
   "source": [
    "len(tables)"
   ]
  },
  {
   "cell_type": "code",
   "execution_count": 6,
   "metadata": {
    "colab": {
     "base_uri": "https://localhost:8080/"
    },
    "id": "VoX7c9O-OZWU",
    "outputId": "78637bfa-e750-4c01-df0a-c791c80097b3"
   },
   "outputs": [
    {
     "data": {
      "text/plain": [
       "bs4.element.Tag"
      ]
     },
     "execution_count": 6,
     "metadata": {},
     "output_type": "execute_result"
    }
   ],
   "source": [
    "type(tables[0])"
   ]
  },
  {
   "cell_type": "code",
   "execution_count": 7,
   "metadata": {
    "id": "1y2cECOMOZWU"
   },
   "outputs": [],
   "source": [
    "df1 = pd.read_html(str(tables[0]))[0]\n",
    "df2 = pd.read_html(str(tables[1]))[0]\n",
    "df3 = pd.read_html(str(tables[2]))[0]\n",
    "df4 = pd.read_html(str(tables[3]).replace(\"'1\\\"\\'\",'\"1\"'))[0] # avoided \"ValueError: invalid literal for int() with base 10: '1\"'"
   ]
  },
  {
   "cell_type": "code",
   "execution_count": 8,
   "metadata": {
    "id": "t4MN1gZbOZWU"
   },
   "outputs": [
    {
     "name": "stderr",
     "output_type": "stream",
     "text": [
      "C:\\Users\\chand\\AppData\\Local\\Temp\\ipykernel_11876\\1752420719.py:1: FutureWarning: The frame.append method is deprecated and will be removed from pandas in a future version. Use pandas.concat instead.\n",
      "  df = df1.append(df2.append(df3.append(df4,ignore_index=True),ignore_index=True),ignore_index=True)\n"
     ]
    }
   ],
   "source": [
    "df = df1.append(df2.append(df3.append(df4,ignore_index=True),ignore_index=True),ignore_index=True)"
   ]
  },
  {
   "cell_type": "code",
   "execution_count": 9,
   "metadata": {
    "colab": {
     "base_uri": "https://localhost:8080/",
     "height": 406
    },
    "id": "4CCunB-rOZWU",
    "outputId": "a4d69bcd-088c-4655-a445-e8ebafdb10e6"
   },
   "outputs": [
    {
     "data": {
      "text/html": [
       "<div>\n",
       "<style scoped>\n",
       "    .dataframe tbody tr th:only-of-type {\n",
       "        vertical-align: middle;\n",
       "    }\n",
       "\n",
       "    .dataframe tbody tr th {\n",
       "        vertical-align: top;\n",
       "    }\n",
       "\n",
       "    .dataframe thead th {\n",
       "        text-align: right;\n",
       "    }\n",
       "</style>\n",
       "<table border=\"1\" class=\"dataframe\">\n",
       "  <thead>\n",
       "    <tr style=\"text-align: right;\">\n",
       "      <th></th>\n",
       "      <th>Opening</th>\n",
       "      <th>Opening.1</th>\n",
       "      <th>Title</th>\n",
       "      <th>Production company</th>\n",
       "      <th>Cast and crew</th>\n",
       "      <th>.mw-parser-output .tooltip-dotted{border-bottom:1px dotted;cursor:help}Ref.</th>\n",
       "      <th>Ref.</th>\n",
       "    </tr>\n",
       "  </thead>\n",
       "  <tbody>\n",
       "    <tr>\n",
       "      <th>0</th>\n",
       "      <td>J A N U A R Y</td>\n",
       "      <td>6</td>\n",
       "      <td>Underworld: Blood Wars</td>\n",
       "      <td>Screen Gems / Lakeshore Entertainment / Sketch...</td>\n",
       "      <td>Anna Foerster (director); Cory Goodman (screen...</td>\n",
       "      <td>[2][3]</td>\n",
       "      <td>NaN</td>\n",
       "    </tr>\n",
       "    <tr>\n",
       "      <th>1</th>\n",
       "      <td>J A N U A R Y</td>\n",
       "      <td>6</td>\n",
       "      <td>Arsenal</td>\n",
       "      <td>Lionsgate Premiere</td>\n",
       "      <td>Steven C. Miller (director); Jason Mosberg (sc...</td>\n",
       "      <td>[4][5]</td>\n",
       "      <td>NaN</td>\n",
       "    </tr>\n",
       "    <tr>\n",
       "      <th>2</th>\n",
       "      <td>J A N U A R Y</td>\n",
       "      <td>6</td>\n",
       "      <td>Between Us</td>\n",
       "      <td>IFC Films / Nora Films</td>\n",
       "      <td>Rafael Palacio Illingworth (director/screenpla...</td>\n",
       "      <td>[6]</td>\n",
       "      <td>NaN</td>\n",
       "    </tr>\n",
       "    <tr>\n",
       "      <th>3</th>\n",
       "      <td>J A N U A R Y</td>\n",
       "      <td>13</td>\n",
       "      <td>Monster Trucks</td>\n",
       "      <td>Paramount Pictures / Paramount Animation / Nic...</td>\n",
       "      <td>Chris Wedge (director); Derek Connolly (screen...</td>\n",
       "      <td>[7][8]</td>\n",
       "      <td>NaN</td>\n",
       "    </tr>\n",
       "    <tr>\n",
       "      <th>4</th>\n",
       "      <td>J A N U A R Y</td>\n",
       "      <td>13</td>\n",
       "      <td>The Bye Bye Man</td>\n",
       "      <td>STX Entertainment / Intrepid Pictures</td>\n",
       "      <td>Stacy Title (director); Jonathan Penner (scree...</td>\n",
       "      <td>[9]</td>\n",
       "      <td>NaN</td>\n",
       "    </tr>\n",
       "    <tr>\n",
       "      <th>...</th>\n",
       "      <td>...</td>\n",
       "      <td>...</td>\n",
       "      <td>...</td>\n",
       "      <td>...</td>\n",
       "      <td>...</td>\n",
       "      <td>...</td>\n",
       "      <td>...</td>\n",
       "    </tr>\n",
       "    <tr>\n",
       "      <th>242</th>\n",
       "      <td>D E C E M B E R</td>\n",
       "      <td>22</td>\n",
       "      <td>Crooked House</td>\n",
       "      <td>Vertical Entertainment / Sony Pictures</td>\n",
       "      <td>Gilles Paquet-Brenner (director/screenplay); T...</td>\n",
       "      <td>NaN</td>\n",
       "      <td>[293]</td>\n",
       "    </tr>\n",
       "    <tr>\n",
       "      <th>243</th>\n",
       "      <td>D E C E M B E R</td>\n",
       "      <td>22</td>\n",
       "      <td>Hostiles</td>\n",
       "      <td>Entertainment Studios</td>\n",
       "      <td>Scott Cooper (director/screenplay); Christian ...</td>\n",
       "      <td>NaN</td>\n",
       "      <td>[294]</td>\n",
       "    </tr>\n",
       "    <tr>\n",
       "      <th>244</th>\n",
       "      <td>D E C E M B E R</td>\n",
       "      <td>25</td>\n",
       "      <td>All the Money in the World</td>\n",
       "      <td>TriStar Pictures</td>\n",
       "      <td>Ridley Scott (director); David Scarpa (screenp...</td>\n",
       "      <td>NaN</td>\n",
       "      <td>[295]</td>\n",
       "    </tr>\n",
       "    <tr>\n",
       "      <th>245</th>\n",
       "      <td>D E C E M B E R</td>\n",
       "      <td>25</td>\n",
       "      <td>Molly's Game</td>\n",
       "      <td>STX Entertainment</td>\n",
       "      <td>Aaron Sorkin (director/screenplay); Jessica Ch...</td>\n",
       "      <td>NaN</td>\n",
       "      <td>[296]</td>\n",
       "    </tr>\n",
       "    <tr>\n",
       "      <th>246</th>\n",
       "      <td>D E C E M B E R</td>\n",
       "      <td>25</td>\n",
       "      <td>Phantom Thread</td>\n",
       "      <td>Focus Features / Annapurna Pictures</td>\n",
       "      <td>Paul Thomas Anderson (director/screenplay); Da...</td>\n",
       "      <td>NaN</td>\n",
       "      <td>[297]</td>\n",
       "    </tr>\n",
       "  </tbody>\n",
       "</table>\n",
       "<p>247 rows × 7 columns</p>\n",
       "</div>"
      ],
      "text/plain": [
       "             Opening  Opening.1                       Title  \\\n",
       "0      J A N U A R Y          6      Underworld: Blood Wars   \n",
       "1      J A N U A R Y          6                     Arsenal   \n",
       "2      J A N U A R Y          6                  Between Us   \n",
       "3      J A N U A R Y         13              Monster Trucks   \n",
       "4      J A N U A R Y         13             The Bye Bye Man   \n",
       "..               ...        ...                         ...   \n",
       "242  D E C E M B E R         22               Crooked House   \n",
       "243  D E C E M B E R         22                    Hostiles   \n",
       "244  D E C E M B E R         25  All the Money in the World   \n",
       "245  D E C E M B E R         25                Molly's Game   \n",
       "246  D E C E M B E R         25              Phantom Thread   \n",
       "\n",
       "                                    Production company  \\\n",
       "0    Screen Gems / Lakeshore Entertainment / Sketch...   \n",
       "1                                   Lionsgate Premiere   \n",
       "2                               IFC Films / Nora Films   \n",
       "3    Paramount Pictures / Paramount Animation / Nic...   \n",
       "4                STX Entertainment / Intrepid Pictures   \n",
       "..                                                 ...   \n",
       "242             Vertical Entertainment / Sony Pictures   \n",
       "243                              Entertainment Studios   \n",
       "244                                   TriStar Pictures   \n",
       "245                                  STX Entertainment   \n",
       "246                Focus Features / Annapurna Pictures   \n",
       "\n",
       "                                         Cast and crew  \\\n",
       "0    Anna Foerster (director); Cory Goodman (screen...   \n",
       "1    Steven C. Miller (director); Jason Mosberg (sc...   \n",
       "2    Rafael Palacio Illingworth (director/screenpla...   \n",
       "3    Chris Wedge (director); Derek Connolly (screen...   \n",
       "4    Stacy Title (director); Jonathan Penner (scree...   \n",
       "..                                                 ...   \n",
       "242  Gilles Paquet-Brenner (director/screenplay); T...   \n",
       "243  Scott Cooper (director/screenplay); Christian ...   \n",
       "244  Ridley Scott (director); David Scarpa (screenp...   \n",
       "245  Aaron Sorkin (director/screenplay); Jessica Ch...   \n",
       "246  Paul Thomas Anderson (director/screenplay); Da...   \n",
       "\n",
       "    .mw-parser-output .tooltip-dotted{border-bottom:1px dotted;cursor:help}Ref.  \\\n",
       "0                                               [2][3]                            \n",
       "1                                               [4][5]                            \n",
       "2                                                  [6]                            \n",
       "3                                               [7][8]                            \n",
       "4                                                  [9]                            \n",
       "..                                                 ...                            \n",
       "242                                                NaN                            \n",
       "243                                                NaN                            \n",
       "244                                                NaN                            \n",
       "245                                                NaN                            \n",
       "246                                                NaN                            \n",
       "\n",
       "      Ref.  \n",
       "0      NaN  \n",
       "1      NaN  \n",
       "2      NaN  \n",
       "3      NaN  \n",
       "4      NaN  \n",
       "..     ...  \n",
       "242  [293]  \n",
       "243  [294]  \n",
       "244  [295]  \n",
       "245  [296]  \n",
       "246  [297]  \n",
       "\n",
       "[247 rows x 7 columns]"
      ]
     },
     "execution_count": 9,
     "metadata": {},
     "output_type": "execute_result"
    }
   ],
   "source": [
    "df"
   ]
  },
  {
   "cell_type": "code",
   "execution_count": 10,
   "metadata": {
    "id": "9enI6QkuOZWV"
   },
   "outputs": [],
   "source": [
    "df_2017 = df[['Title','Cast and crew']]"
   ]
  },
  {
   "cell_type": "code",
   "execution_count": 11,
   "metadata": {
    "colab": {
     "base_uri": "https://localhost:8080/",
     "height": 406
    },
    "id": "RT0jPJQQOZWV",
    "outputId": "2d6ab58f-996f-4099-e7bb-3e29abadf43c"
   },
   "outputs": [
    {
     "data": {
      "text/html": [
       "<div>\n",
       "<style scoped>\n",
       "    .dataframe tbody tr th:only-of-type {\n",
       "        vertical-align: middle;\n",
       "    }\n",
       "\n",
       "    .dataframe tbody tr th {\n",
       "        vertical-align: top;\n",
       "    }\n",
       "\n",
       "    .dataframe thead th {\n",
       "        text-align: right;\n",
       "    }\n",
       "</style>\n",
       "<table border=\"1\" class=\"dataframe\">\n",
       "  <thead>\n",
       "    <tr style=\"text-align: right;\">\n",
       "      <th></th>\n",
       "      <th>Title</th>\n",
       "      <th>Cast and crew</th>\n",
       "    </tr>\n",
       "  </thead>\n",
       "  <tbody>\n",
       "    <tr>\n",
       "      <th>0</th>\n",
       "      <td>Underworld: Blood Wars</td>\n",
       "      <td>Anna Foerster (director); Cory Goodman (screen...</td>\n",
       "    </tr>\n",
       "    <tr>\n",
       "      <th>1</th>\n",
       "      <td>Arsenal</td>\n",
       "      <td>Steven C. Miller (director); Jason Mosberg (sc...</td>\n",
       "    </tr>\n",
       "    <tr>\n",
       "      <th>2</th>\n",
       "      <td>Between Us</td>\n",
       "      <td>Rafael Palacio Illingworth (director/screenpla...</td>\n",
       "    </tr>\n",
       "    <tr>\n",
       "      <th>3</th>\n",
       "      <td>Monster Trucks</td>\n",
       "      <td>Chris Wedge (director); Derek Connolly (screen...</td>\n",
       "    </tr>\n",
       "    <tr>\n",
       "      <th>4</th>\n",
       "      <td>The Bye Bye Man</td>\n",
       "      <td>Stacy Title (director); Jonathan Penner (scree...</td>\n",
       "    </tr>\n",
       "    <tr>\n",
       "      <th>...</th>\n",
       "      <td>...</td>\n",
       "      <td>...</td>\n",
       "    </tr>\n",
       "    <tr>\n",
       "      <th>242</th>\n",
       "      <td>Crooked House</td>\n",
       "      <td>Gilles Paquet-Brenner (director/screenplay); T...</td>\n",
       "    </tr>\n",
       "    <tr>\n",
       "      <th>243</th>\n",
       "      <td>Hostiles</td>\n",
       "      <td>Scott Cooper (director/screenplay); Christian ...</td>\n",
       "    </tr>\n",
       "    <tr>\n",
       "      <th>244</th>\n",
       "      <td>All the Money in the World</td>\n",
       "      <td>Ridley Scott (director); David Scarpa (screenp...</td>\n",
       "    </tr>\n",
       "    <tr>\n",
       "      <th>245</th>\n",
       "      <td>Molly's Game</td>\n",
       "      <td>Aaron Sorkin (director/screenplay); Jessica Ch...</td>\n",
       "    </tr>\n",
       "    <tr>\n",
       "      <th>246</th>\n",
       "      <td>Phantom Thread</td>\n",
       "      <td>Paul Thomas Anderson (director/screenplay); Da...</td>\n",
       "    </tr>\n",
       "  </tbody>\n",
       "</table>\n",
       "<p>247 rows × 2 columns</p>\n",
       "</div>"
      ],
      "text/plain": [
       "                          Title  \\\n",
       "0        Underworld: Blood Wars   \n",
       "1                       Arsenal   \n",
       "2                    Between Us   \n",
       "3                Monster Trucks   \n",
       "4               The Bye Bye Man   \n",
       "..                          ...   \n",
       "242               Crooked House   \n",
       "243                    Hostiles   \n",
       "244  All the Money in the World   \n",
       "245                Molly's Game   \n",
       "246              Phantom Thread   \n",
       "\n",
       "                                         Cast and crew  \n",
       "0    Anna Foerster (director); Cory Goodman (screen...  \n",
       "1    Steven C. Miller (director); Jason Mosberg (sc...  \n",
       "2    Rafael Palacio Illingworth (director/screenpla...  \n",
       "3    Chris Wedge (director); Derek Connolly (screen...  \n",
       "4    Stacy Title (director); Jonathan Penner (scree...  \n",
       "..                                                 ...  \n",
       "242  Gilles Paquet-Brenner (director/screenplay); T...  \n",
       "243  Scott Cooper (director/screenplay); Christian ...  \n",
       "244  Ridley Scott (director); David Scarpa (screenp...  \n",
       "245  Aaron Sorkin (director/screenplay); Jessica Ch...  \n",
       "246  Paul Thomas Anderson (director/screenplay); Da...  \n",
       "\n",
       "[247 rows x 2 columns]"
      ]
     },
     "execution_count": 11,
     "metadata": {},
     "output_type": "execute_result"
    }
   ],
   "source": [
    "df_2017"
   ]
  },
  {
   "cell_type": "code",
   "execution_count": 12,
   "metadata": {
    "colab": {
     "base_uri": "https://localhost:8080/"
    },
    "id": "KYTIVryiOkeW",
    "outputId": "629f16ee-2aa7-4b7f-8393-09afdefef5d5"
   },
   "outputs": [
    {
     "name": "stdout",
     "output_type": "stream",
     "text": [
      "Requirement already satisfied: tmdbv3api in c:\\users\\chand\\anaconda3\\envs\\projects\\lib\\site-packages (1.7.7)\n",
      "Requirement already satisfied: requests in c:\\users\\chand\\anaconda3\\envs\\projects\\lib\\site-packages (from tmdbv3api) (2.29.0)\n",
      "Requirement already satisfied: charset-normalizer<4,>=2 in c:\\users\\chand\\anaconda3\\envs\\projects\\lib\\site-packages (from requests->tmdbv3api) (2.0.4)\n",
      "Requirement already satisfied: urllib3<1.27,>=1.21.1 in c:\\users\\chand\\anaconda3\\envs\\projects\\lib\\site-packages (from requests->tmdbv3api) (1.26.15)\n",
      "Requirement already satisfied: idna<4,>=2.5 in c:\\users\\chand\\anaconda3\\envs\\projects\\lib\\site-packages (from requests->tmdbv3api) (3.4)\n",
      "Requirement already satisfied: certifi>=2017.4.17 in c:\\users\\chand\\anaconda3\\envs\\projects\\lib\\site-packages (from requests->tmdbv3api) (2022.12.7)\n"
     ]
    },
    {
     "name": "stderr",
     "output_type": "stream",
     "text": [
      "WARNING: Ignoring invalid distribution -treamlit (c:\\users\\chand\\anaconda3\\envs\\projects\\lib\\site-packages)\n",
      "WARNING: Ignoring invalid distribution -treamlit (c:\\users\\chand\\anaconda3\\envs\\projects\\lib\\site-packages)\n",
      "WARNING: Ignoring invalid distribution -treamlit (c:\\users\\chand\\anaconda3\\envs\\projects\\lib\\site-packages)\n",
      "WARNING: Ignoring invalid distribution -treamlit (c:\\users\\chand\\anaconda3\\envs\\projects\\lib\\site-packages)\n",
      "WARNING: Ignoring invalid distribution -treamlit (c:\\users\\chand\\anaconda3\\envs\\projects\\lib\\site-packages)\n",
      "WARNING: Ignoring invalid distribution -treamlit (c:\\users\\chand\\anaconda3\\envs\\projects\\lib\\site-packages)\n"
     ]
    }
   ],
   "source": [
    "!pip install tmdbv3api"
   ]
  },
  {
   "cell_type": "code",
   "execution_count": 13,
   "metadata": {
    "id": "61XvcEzPOZWV"
   },
   "outputs": [],
   "source": [
    "from tmdbv3api import TMDb\n",
    "import json\n",
    "import requests\n",
    "tmdb = TMDb()\n",
    "tmdb.api_key = '703a12952f3292e9958bc4d2d904a228'"
   ]
  },
  {
   "cell_type": "code",
   "execution_count": 14,
   "metadata": {
    "id": "_4q66M86OfgF"
   },
   "outputs": [],
   "source": [
    "from tmdbv3api import Movie\n",
    "tmdb_movie = Movie() \n",
    "def get_genre(x):\n",
    "    genres = []\n",
    "    result = tmdb_movie.search(x)\n",
    "    if not result:\n",
    "      return np.NaN\n",
    "    else:\n",
    "      movie_id = result[0].id\n",
    "      response = requests.get('https://api.themoviedb.org/3/movie/{}?api_key={}'.format(movie_id,tmdb.api_key))\n",
    "      data_json = response.json()\n",
    "      if data_json['genres']:\n",
    "          genre_str = \" \" \n",
    "          for i in range(0,len(data_json['genres'])):\n",
    "              genres.append(data_json['genres'][i]['name'])\n",
    "          return genre_str.join(genres)\n",
    "      else:\n",
    "          return np.NaN"
   ]
  },
  {
   "cell_type": "code",
   "execution_count": 15,
   "metadata": {
    "colab": {
     "base_uri": "https://localhost:8080/"
    },
    "id": "uSjX4AsmOZWV",
    "outputId": "da21d28b-1f7a-4171-8b87-2eabcc897a8d",
    "scrolled": true
   },
   "outputs": [
    {
     "name": "stderr",
     "output_type": "stream",
     "text": [
      "C:\\Users\\chand\\AppData\\Local\\Temp\\ipykernel_11876\\982775569.py:1: SettingWithCopyWarning: \n",
      "A value is trying to be set on a copy of a slice from a DataFrame.\n",
      "Try using .loc[row_indexer,col_indexer] = value instead\n",
      "\n",
      "See the caveats in the documentation: https://pandas.pydata.org/pandas-docs/stable/user_guide/indexing.html#returning-a-view-versus-a-copy\n",
      "  df_2017['genres'] = df_2017['Title'].map(lambda x: get_genre(str(x)))\n"
     ]
    }
   ],
   "source": [
    "df_2017['genres'] = df_2017['Title'].map(lambda x: get_genre(str(x)))"
   ]
  },
  {
   "cell_type": "code",
   "execution_count": 16,
   "metadata": {
    "colab": {
     "base_uri": "https://localhost:8080/",
     "height": 406
    },
    "id": "aiwOqJZMOZWV",
    "outputId": "032dfad5-985e-4d24-9fed-ed92c9edfba3"
   },
   "outputs": [
    {
     "data": {
      "text/html": [
       "<div>\n",
       "<style scoped>\n",
       "    .dataframe tbody tr th:only-of-type {\n",
       "        vertical-align: middle;\n",
       "    }\n",
       "\n",
       "    .dataframe tbody tr th {\n",
       "        vertical-align: top;\n",
       "    }\n",
       "\n",
       "    .dataframe thead th {\n",
       "        text-align: right;\n",
       "    }\n",
       "</style>\n",
       "<table border=\"1\" class=\"dataframe\">\n",
       "  <thead>\n",
       "    <tr style=\"text-align: right;\">\n",
       "      <th></th>\n",
       "      <th>Title</th>\n",
       "      <th>Cast and crew</th>\n",
       "      <th>genres</th>\n",
       "    </tr>\n",
       "  </thead>\n",
       "  <tbody>\n",
       "    <tr>\n",
       "      <th>0</th>\n",
       "      <td>Underworld: Blood Wars</td>\n",
       "      <td>Anna Foerster (director); Cory Goodman (screen...</td>\n",
       "      <td>Fantasy Action Thriller Horror</td>\n",
       "    </tr>\n",
       "    <tr>\n",
       "      <th>1</th>\n",
       "      <td>Arsenal</td>\n",
       "      <td>Steven C. Miller (director); Jason Mosberg (sc...</td>\n",
       "      <td>Thriller Crime</td>\n",
       "    </tr>\n",
       "    <tr>\n",
       "      <th>2</th>\n",
       "      <td>Between Us</td>\n",
       "      <td>Rafael Palacio Illingworth (director/screenpla...</td>\n",
       "      <td>Drama</td>\n",
       "    </tr>\n",
       "    <tr>\n",
       "      <th>3</th>\n",
       "      <td>Monster Trucks</td>\n",
       "      <td>Chris Wedge (director); Derek Connolly (screen...</td>\n",
       "      <td>Action Comedy Science Fiction</td>\n",
       "    </tr>\n",
       "    <tr>\n",
       "      <th>4</th>\n",
       "      <td>The Bye Bye Man</td>\n",
       "      <td>Stacy Title (director); Jonathan Penner (scree...</td>\n",
       "      <td>Horror Thriller</td>\n",
       "    </tr>\n",
       "    <tr>\n",
       "      <th>...</th>\n",
       "      <td>...</td>\n",
       "      <td>...</td>\n",
       "      <td>...</td>\n",
       "    </tr>\n",
       "    <tr>\n",
       "      <th>242</th>\n",
       "      <td>Crooked House</td>\n",
       "      <td>Gilles Paquet-Brenner (director/screenplay); T...</td>\n",
       "      <td>Mystery Crime Thriller</td>\n",
       "    </tr>\n",
       "    <tr>\n",
       "      <th>243</th>\n",
       "      <td>Hostiles</td>\n",
       "      <td>Scott Cooper (director/screenplay); Christian ...</td>\n",
       "      <td>Western Drama History</td>\n",
       "    </tr>\n",
       "    <tr>\n",
       "      <th>244</th>\n",
       "      <td>All the Money in the World</td>\n",
       "      <td>Ridley Scott (director); David Scarpa (screenp...</td>\n",
       "      <td>Thriller Drama Crime History</td>\n",
       "    </tr>\n",
       "    <tr>\n",
       "      <th>245</th>\n",
       "      <td>Molly's Game</td>\n",
       "      <td>Aaron Sorkin (director/screenplay); Jessica Ch...</td>\n",
       "      <td>Drama Crime</td>\n",
       "    </tr>\n",
       "    <tr>\n",
       "      <th>246</th>\n",
       "      <td>Phantom Thread</td>\n",
       "      <td>Paul Thomas Anderson (director/screenplay); Da...</td>\n",
       "      <td>Drama Romance</td>\n",
       "    </tr>\n",
       "  </tbody>\n",
       "</table>\n",
       "<p>247 rows × 3 columns</p>\n",
       "</div>"
      ],
      "text/plain": [
       "                          Title  \\\n",
       "0        Underworld: Blood Wars   \n",
       "1                       Arsenal   \n",
       "2                    Between Us   \n",
       "3                Monster Trucks   \n",
       "4               The Bye Bye Man   \n",
       "..                          ...   \n",
       "242               Crooked House   \n",
       "243                    Hostiles   \n",
       "244  All the Money in the World   \n",
       "245                Molly's Game   \n",
       "246              Phantom Thread   \n",
       "\n",
       "                                         Cast and crew  \\\n",
       "0    Anna Foerster (director); Cory Goodman (screen...   \n",
       "1    Steven C. Miller (director); Jason Mosberg (sc...   \n",
       "2    Rafael Palacio Illingworth (director/screenpla...   \n",
       "3    Chris Wedge (director); Derek Connolly (screen...   \n",
       "4    Stacy Title (director); Jonathan Penner (scree...   \n",
       "..                                                 ...   \n",
       "242  Gilles Paquet-Brenner (director/screenplay); T...   \n",
       "243  Scott Cooper (director/screenplay); Christian ...   \n",
       "244  Ridley Scott (director); David Scarpa (screenp...   \n",
       "245  Aaron Sorkin (director/screenplay); Jessica Ch...   \n",
       "246  Paul Thomas Anderson (director/screenplay); Da...   \n",
       "\n",
       "                             genres  \n",
       "0    Fantasy Action Thriller Horror  \n",
       "1                    Thriller Crime  \n",
       "2                             Drama  \n",
       "3     Action Comedy Science Fiction  \n",
       "4                   Horror Thriller  \n",
       "..                              ...  \n",
       "242          Mystery Crime Thriller  \n",
       "243           Western Drama History  \n",
       "244    Thriller Drama Crime History  \n",
       "245                     Drama Crime  \n",
       "246                   Drama Romance  \n",
       "\n",
       "[247 rows x 3 columns]"
      ]
     },
     "execution_count": 16,
     "metadata": {},
     "output_type": "execute_result"
    }
   ],
   "source": [
    "df_2017"
   ]
  },
  {
   "cell_type": "code",
   "execution_count": 17,
   "metadata": {
    "id": "GcqUuFyiOZWW"
   },
   "outputs": [],
   "source": [
    "def get_director(x):\n",
    "    if \" (director)\" in x:\n",
    "        return x.split(\" (director)\")[0]\n",
    "    elif \" (directors)\" in x:\n",
    "        return x.split(\" (directors)\")[0]\n",
    "    else:\n",
    "        return x.split(\" (director/screenplay)\")[0]"
   ]
  },
  {
   "cell_type": "code",
   "execution_count": 18,
   "metadata": {
    "colab": {
     "base_uri": "https://localhost:8080/"
    },
    "id": "A7RzXkBQOZWW",
    "outputId": "161deb48-6037-468b-c4b4-44cd51d0efc1"
   },
   "outputs": [
    {
     "name": "stderr",
     "output_type": "stream",
     "text": [
      "C:\\Users\\chand\\AppData\\Local\\Temp\\ipykernel_11876\\1394242410.py:1: SettingWithCopyWarning: \n",
      "A value is trying to be set on a copy of a slice from a DataFrame.\n",
      "Try using .loc[row_indexer,col_indexer] = value instead\n",
      "\n",
      "See the caveats in the documentation: https://pandas.pydata.org/pandas-docs/stable/user_guide/indexing.html#returning-a-view-versus-a-copy\n",
      "  df_2017['director_name'] = df_2017['Cast and crew'].map(lambda x: get_director(str(x)))\n"
     ]
    }
   ],
   "source": [
    "df_2017['director_name'] = df_2017['Cast and crew'].map(lambda x: get_director(str(x)))"
   ]
  },
  {
   "cell_type": "code",
   "execution_count": 19,
   "metadata": {
    "id": "wwBWFgBSOZWW"
   },
   "outputs": [],
   "source": [
    "def get_actor1(x):\n",
    "    return ((x.split(\"screenplay); \")[-1]).split(\", \")[0])"
   ]
  },
  {
   "cell_type": "code",
   "execution_count": 20,
   "metadata": {
    "colab": {
     "base_uri": "https://localhost:8080/"
    },
    "id": "gxr9Y4IJOZWW",
    "outputId": "68904c09-7d50-424d-e908-804489e84d05"
   },
   "outputs": [
    {
     "name": "stderr",
     "output_type": "stream",
     "text": [
      "C:\\Users\\chand\\AppData\\Local\\Temp\\ipykernel_11876\\723709796.py:1: SettingWithCopyWarning: \n",
      "A value is trying to be set on a copy of a slice from a DataFrame.\n",
      "Try using .loc[row_indexer,col_indexer] = value instead\n",
      "\n",
      "See the caveats in the documentation: https://pandas.pydata.org/pandas-docs/stable/user_guide/indexing.html#returning-a-view-versus-a-copy\n",
      "  df_2017['actor_1_name'] = df_2017['Cast and crew'].map(lambda x: get_actor1(str(x)))\n"
     ]
    }
   ],
   "source": [
    "df_2017['actor_1_name'] = df_2017['Cast and crew'].map(lambda x: get_actor1(str(x)))"
   ]
  },
  {
   "cell_type": "code",
   "execution_count": 21,
   "metadata": {
    "id": "Qc7I49gVOZWX"
   },
   "outputs": [],
   "source": [
    "def get_actor2(x):\n",
    "    if len((x.split(\"screenplay); \")[-1]).split(\", \")) < 2:\n",
    "        return np.NaN\n",
    "    else:\n",
    "        return ((x.split(\"screenplay); \")[-1]).split(\", \")[1])"
   ]
  },
  {
   "cell_type": "code",
   "execution_count": 22,
   "metadata": {
    "id": "ipspWbjaOZWX"
   },
   "outputs": [
    {
     "name": "stderr",
     "output_type": "stream",
     "text": [
      "C:\\Users\\chand\\AppData\\Local\\Temp\\ipykernel_11876\\2545097929.py:1: SettingWithCopyWarning: \n",
      "A value is trying to be set on a copy of a slice from a DataFrame.\n",
      "Try using .loc[row_indexer,col_indexer] = value instead\n",
      "\n",
      "See the caveats in the documentation: https://pandas.pydata.org/pandas-docs/stable/user_guide/indexing.html#returning-a-view-versus-a-copy\n",
      "  df_2017['actor_2_name'] = df_2017['Cast and crew'].map(lambda x: get_actor2(str(x)))\n"
     ]
    }
   ],
   "source": [
    "df_2017['actor_2_name'] = df_2017['Cast and crew'].map(lambda x: get_actor2(str(x)))"
   ]
  },
  {
   "cell_type": "code",
   "execution_count": 23,
   "metadata": {
    "id": "pQmab5aiOZWX"
   },
   "outputs": [],
   "source": [
    "def get_actor3(x):\n",
    "    if len((x.split(\"screenplay); \")[-1]).split(\", \")) < 3:\n",
    "        return np.NaN\n",
    "    else:\n",
    "        return ((x.split(\"screenplay); \")[-1]).split(\", \")[2])"
   ]
  },
  {
   "cell_type": "code",
   "execution_count": 24,
   "metadata": {
    "id": "vWSs45LWOZWX"
   },
   "outputs": [],
   "source": [
    "df_2017['actor_3_name'] = df_2017['Cast and crew'].map(lambda x: get_actor3(str(x)))"
   ]
  },
  {
   "cell_type": "code",
   "execution_count": 25,
   "metadata": {
    "colab": {
     "base_uri": "https://localhost:8080/",
     "height": 406
    },
    "id": "2xDIRn7DOZWX",
    "outputId": "ad8d83b3-a608-43db-eeff-53a434ab3d4f"
   },
   "outputs": [
    {
     "data": {
      "text/html": [
       "<div>\n",
       "<style scoped>\n",
       "    .dataframe tbody tr th:only-of-type {\n",
       "        vertical-align: middle;\n",
       "    }\n",
       "\n",
       "    .dataframe tbody tr th {\n",
       "        vertical-align: top;\n",
       "    }\n",
       "\n",
       "    .dataframe thead th {\n",
       "        text-align: right;\n",
       "    }\n",
       "</style>\n",
       "<table border=\"1\" class=\"dataframe\">\n",
       "  <thead>\n",
       "    <tr style=\"text-align: right;\">\n",
       "      <th></th>\n",
       "      <th>Title</th>\n",
       "      <th>Cast and crew</th>\n",
       "      <th>genres</th>\n",
       "      <th>director_name</th>\n",
       "      <th>actor_1_name</th>\n",
       "      <th>actor_2_name</th>\n",
       "      <th>actor_3_name</th>\n",
       "    </tr>\n",
       "  </thead>\n",
       "  <tbody>\n",
       "    <tr>\n",
       "      <th>0</th>\n",
       "      <td>Underworld: Blood Wars</td>\n",
       "      <td>Anna Foerster (director); Cory Goodman (screen...</td>\n",
       "      <td>Fantasy Action Thriller Horror</td>\n",
       "      <td>Anna Foerster</td>\n",
       "      <td>Kate Beckinsale</td>\n",
       "      <td>Theo James</td>\n",
       "      <td>Lara Pulver</td>\n",
       "    </tr>\n",
       "    <tr>\n",
       "      <th>1</th>\n",
       "      <td>Arsenal</td>\n",
       "      <td>Steven C. Miller (director); Jason Mosberg (sc...</td>\n",
       "      <td>Thriller Crime</td>\n",
       "      <td>Steven C. Miller</td>\n",
       "      <td>Adrian Grenier</td>\n",
       "      <td>Johnathon Schaech</td>\n",
       "      <td>Nicolas Cage</td>\n",
       "    </tr>\n",
       "    <tr>\n",
       "      <th>2</th>\n",
       "      <td>Between Us</td>\n",
       "      <td>Rafael Palacio Illingworth (director/screenpla...</td>\n",
       "      <td>Drama</td>\n",
       "      <td>Rafael Palacio Illingworth</td>\n",
       "      <td>Olivia Thirlby</td>\n",
       "      <td>Ben Feldman</td>\n",
       "      <td>Adam Goldberg</td>\n",
       "    </tr>\n",
       "    <tr>\n",
       "      <th>3</th>\n",
       "      <td>Monster Trucks</td>\n",
       "      <td>Chris Wedge (director); Derek Connolly (screen...</td>\n",
       "      <td>Action Comedy Science Fiction</td>\n",
       "      <td>Chris Wedge</td>\n",
       "      <td>Lucas Till</td>\n",
       "      <td>Jane Levy</td>\n",
       "      <td>Amy Ryan</td>\n",
       "    </tr>\n",
       "    <tr>\n",
       "      <th>4</th>\n",
       "      <td>The Bye Bye Man</td>\n",
       "      <td>Stacy Title (director); Jonathan Penner (scree...</td>\n",
       "      <td>Horror Thriller</td>\n",
       "      <td>Stacy Title</td>\n",
       "      <td>Douglas Smith</td>\n",
       "      <td>Doug Jones</td>\n",
       "      <td>Michael Trucco</td>\n",
       "    </tr>\n",
       "    <tr>\n",
       "      <th>...</th>\n",
       "      <td>...</td>\n",
       "      <td>...</td>\n",
       "      <td>...</td>\n",
       "      <td>...</td>\n",
       "      <td>...</td>\n",
       "      <td>...</td>\n",
       "      <td>...</td>\n",
       "    </tr>\n",
       "    <tr>\n",
       "      <th>242</th>\n",
       "      <td>Crooked House</td>\n",
       "      <td>Gilles Paquet-Brenner (director/screenplay); T...</td>\n",
       "      <td>Mystery Crime Thriller</td>\n",
       "      <td>Gilles Paquet-Brenner</td>\n",
       "      <td>Max Irons</td>\n",
       "      <td>Glenn Close</td>\n",
       "      <td>Gillian Anderson</td>\n",
       "    </tr>\n",
       "    <tr>\n",
       "      <th>243</th>\n",
       "      <td>Hostiles</td>\n",
       "      <td>Scott Cooper (director/screenplay); Christian ...</td>\n",
       "      <td>Western Drama History</td>\n",
       "      <td>Scott Cooper</td>\n",
       "      <td>Christian Bale</td>\n",
       "      <td>Rosamund Pike</td>\n",
       "      <td>Wes Studi</td>\n",
       "    </tr>\n",
       "    <tr>\n",
       "      <th>244</th>\n",
       "      <td>All the Money in the World</td>\n",
       "      <td>Ridley Scott (director); David Scarpa (screenp...</td>\n",
       "      <td>Thriller Drama Crime History</td>\n",
       "      <td>Ridley Scott</td>\n",
       "      <td>Michelle Williams</td>\n",
       "      <td>Mark Wahlberg</td>\n",
       "      <td>Christopher Plummer</td>\n",
       "    </tr>\n",
       "    <tr>\n",
       "      <th>245</th>\n",
       "      <td>Molly's Game</td>\n",
       "      <td>Aaron Sorkin (director/screenplay); Jessica Ch...</td>\n",
       "      <td>Drama Crime</td>\n",
       "      <td>Aaron Sorkin</td>\n",
       "      <td>Jessica Chastain</td>\n",
       "      <td>Idris Elba</td>\n",
       "      <td>Kevin Costner</td>\n",
       "    </tr>\n",
       "    <tr>\n",
       "      <th>246</th>\n",
       "      <td>Phantom Thread</td>\n",
       "      <td>Paul Thomas Anderson (director/screenplay); Da...</td>\n",
       "      <td>Drama Romance</td>\n",
       "      <td>Paul Thomas Anderson</td>\n",
       "      <td>Daniel Day-Lewis</td>\n",
       "      <td>Lesley Manville</td>\n",
       "      <td>Vicky Krieps</td>\n",
       "    </tr>\n",
       "  </tbody>\n",
       "</table>\n",
       "<p>247 rows × 7 columns</p>\n",
       "</div>"
      ],
      "text/plain": [
       "                          Title  \\\n",
       "0        Underworld: Blood Wars   \n",
       "1                       Arsenal   \n",
       "2                    Between Us   \n",
       "3                Monster Trucks   \n",
       "4               The Bye Bye Man   \n",
       "..                          ...   \n",
       "242               Crooked House   \n",
       "243                    Hostiles   \n",
       "244  All the Money in the World   \n",
       "245                Molly's Game   \n",
       "246              Phantom Thread   \n",
       "\n",
       "                                         Cast and crew  \\\n",
       "0    Anna Foerster (director); Cory Goodman (screen...   \n",
       "1    Steven C. Miller (director); Jason Mosberg (sc...   \n",
       "2    Rafael Palacio Illingworth (director/screenpla...   \n",
       "3    Chris Wedge (director); Derek Connolly (screen...   \n",
       "4    Stacy Title (director); Jonathan Penner (scree...   \n",
       "..                                                 ...   \n",
       "242  Gilles Paquet-Brenner (director/screenplay); T...   \n",
       "243  Scott Cooper (director/screenplay); Christian ...   \n",
       "244  Ridley Scott (director); David Scarpa (screenp...   \n",
       "245  Aaron Sorkin (director/screenplay); Jessica Ch...   \n",
       "246  Paul Thomas Anderson (director/screenplay); Da...   \n",
       "\n",
       "                             genres               director_name  \\\n",
       "0    Fantasy Action Thriller Horror               Anna Foerster   \n",
       "1                    Thriller Crime            Steven C. Miller   \n",
       "2                             Drama  Rafael Palacio Illingworth   \n",
       "3     Action Comedy Science Fiction                 Chris Wedge   \n",
       "4                   Horror Thriller                 Stacy Title   \n",
       "..                              ...                         ...   \n",
       "242          Mystery Crime Thriller       Gilles Paquet-Brenner   \n",
       "243           Western Drama History                Scott Cooper   \n",
       "244    Thriller Drama Crime History                Ridley Scott   \n",
       "245                     Drama Crime                Aaron Sorkin   \n",
       "246                   Drama Romance        Paul Thomas Anderson   \n",
       "\n",
       "          actor_1_name       actor_2_name         actor_3_name  \n",
       "0      Kate Beckinsale         Theo James          Lara Pulver  \n",
       "1       Adrian Grenier  Johnathon Schaech         Nicolas Cage  \n",
       "2       Olivia Thirlby        Ben Feldman        Adam Goldberg  \n",
       "3           Lucas Till          Jane Levy             Amy Ryan  \n",
       "4        Douglas Smith         Doug Jones       Michael Trucco  \n",
       "..                 ...                ...                  ...  \n",
       "242          Max Irons        Glenn Close     Gillian Anderson  \n",
       "243     Christian Bale      Rosamund Pike            Wes Studi  \n",
       "244  Michelle Williams      Mark Wahlberg  Christopher Plummer  \n",
       "245   Jessica Chastain         Idris Elba        Kevin Costner  \n",
       "246   Daniel Day-Lewis    Lesley Manville         Vicky Krieps  \n",
       "\n",
       "[247 rows x 7 columns]"
      ]
     },
     "execution_count": 25,
     "metadata": {},
     "output_type": "execute_result"
    }
   ],
   "source": [
    "df_2017"
   ]
  },
  {
   "cell_type": "code",
   "execution_count": 26,
   "metadata": {
    "id": "rBUUnUtfOZWX"
   },
   "outputs": [],
   "source": [
    "df_2017 = df_2017.rename(columns={'Title':'movie_title'})"
   ]
  },
  {
   "cell_type": "code",
   "execution_count": 27,
   "metadata": {
    "id": "_WCWVlAqOZWX"
   },
   "outputs": [],
   "source": [
    "new_df17 = df_2017.loc[:,['director_name','actor_1_name','actor_2_name','actor_3_name','genres','movie_title']]"
   ]
  },
  {
   "cell_type": "code",
   "execution_count": 28,
   "metadata": {
    "colab": {
     "base_uri": "https://localhost:8080/",
     "height": 406
    },
    "id": "i7KBDmu_OZWX",
    "outputId": "6b4de81e-b1ac-4fb0-d349-52ae7c210346"
   },
   "outputs": [
    {
     "data": {
      "text/html": [
       "<div>\n",
       "<style scoped>\n",
       "    .dataframe tbody tr th:only-of-type {\n",
       "        vertical-align: middle;\n",
       "    }\n",
       "\n",
       "    .dataframe tbody tr th {\n",
       "        vertical-align: top;\n",
       "    }\n",
       "\n",
       "    .dataframe thead th {\n",
       "        text-align: right;\n",
       "    }\n",
       "</style>\n",
       "<table border=\"1\" class=\"dataframe\">\n",
       "  <thead>\n",
       "    <tr style=\"text-align: right;\">\n",
       "      <th></th>\n",
       "      <th>director_name</th>\n",
       "      <th>actor_1_name</th>\n",
       "      <th>actor_2_name</th>\n",
       "      <th>actor_3_name</th>\n",
       "      <th>genres</th>\n",
       "      <th>movie_title</th>\n",
       "    </tr>\n",
       "  </thead>\n",
       "  <tbody>\n",
       "    <tr>\n",
       "      <th>0</th>\n",
       "      <td>Anna Foerster</td>\n",
       "      <td>Kate Beckinsale</td>\n",
       "      <td>Theo James</td>\n",
       "      <td>Lara Pulver</td>\n",
       "      <td>Fantasy Action Thriller Horror</td>\n",
       "      <td>Underworld: Blood Wars</td>\n",
       "    </tr>\n",
       "    <tr>\n",
       "      <th>1</th>\n",
       "      <td>Steven C. Miller</td>\n",
       "      <td>Adrian Grenier</td>\n",
       "      <td>Johnathon Schaech</td>\n",
       "      <td>Nicolas Cage</td>\n",
       "      <td>Thriller Crime</td>\n",
       "      <td>Arsenal</td>\n",
       "    </tr>\n",
       "    <tr>\n",
       "      <th>2</th>\n",
       "      <td>Rafael Palacio Illingworth</td>\n",
       "      <td>Olivia Thirlby</td>\n",
       "      <td>Ben Feldman</td>\n",
       "      <td>Adam Goldberg</td>\n",
       "      <td>Drama</td>\n",
       "      <td>Between Us</td>\n",
       "    </tr>\n",
       "    <tr>\n",
       "      <th>3</th>\n",
       "      <td>Chris Wedge</td>\n",
       "      <td>Lucas Till</td>\n",
       "      <td>Jane Levy</td>\n",
       "      <td>Amy Ryan</td>\n",
       "      <td>Action Comedy Science Fiction</td>\n",
       "      <td>Monster Trucks</td>\n",
       "    </tr>\n",
       "    <tr>\n",
       "      <th>4</th>\n",
       "      <td>Stacy Title</td>\n",
       "      <td>Douglas Smith</td>\n",
       "      <td>Doug Jones</td>\n",
       "      <td>Michael Trucco</td>\n",
       "      <td>Horror Thriller</td>\n",
       "      <td>The Bye Bye Man</td>\n",
       "    </tr>\n",
       "    <tr>\n",
       "      <th>...</th>\n",
       "      <td>...</td>\n",
       "      <td>...</td>\n",
       "      <td>...</td>\n",
       "      <td>...</td>\n",
       "      <td>...</td>\n",
       "      <td>...</td>\n",
       "    </tr>\n",
       "    <tr>\n",
       "      <th>242</th>\n",
       "      <td>Gilles Paquet-Brenner</td>\n",
       "      <td>Max Irons</td>\n",
       "      <td>Glenn Close</td>\n",
       "      <td>Gillian Anderson</td>\n",
       "      <td>Mystery Crime Thriller</td>\n",
       "      <td>Crooked House</td>\n",
       "    </tr>\n",
       "    <tr>\n",
       "      <th>243</th>\n",
       "      <td>Scott Cooper</td>\n",
       "      <td>Christian Bale</td>\n",
       "      <td>Rosamund Pike</td>\n",
       "      <td>Wes Studi</td>\n",
       "      <td>Western Drama History</td>\n",
       "      <td>Hostiles</td>\n",
       "    </tr>\n",
       "    <tr>\n",
       "      <th>244</th>\n",
       "      <td>Ridley Scott</td>\n",
       "      <td>Michelle Williams</td>\n",
       "      <td>Mark Wahlberg</td>\n",
       "      <td>Christopher Plummer</td>\n",
       "      <td>Thriller Drama Crime History</td>\n",
       "      <td>All the Money in the World</td>\n",
       "    </tr>\n",
       "    <tr>\n",
       "      <th>245</th>\n",
       "      <td>Aaron Sorkin</td>\n",
       "      <td>Jessica Chastain</td>\n",
       "      <td>Idris Elba</td>\n",
       "      <td>Kevin Costner</td>\n",
       "      <td>Drama Crime</td>\n",
       "      <td>Molly's Game</td>\n",
       "    </tr>\n",
       "    <tr>\n",
       "      <th>246</th>\n",
       "      <td>Paul Thomas Anderson</td>\n",
       "      <td>Daniel Day-Lewis</td>\n",
       "      <td>Lesley Manville</td>\n",
       "      <td>Vicky Krieps</td>\n",
       "      <td>Drama Romance</td>\n",
       "      <td>Phantom Thread</td>\n",
       "    </tr>\n",
       "  </tbody>\n",
       "</table>\n",
       "<p>247 rows × 6 columns</p>\n",
       "</div>"
      ],
      "text/plain": [
       "                  director_name       actor_1_name       actor_2_name  \\\n",
       "0                 Anna Foerster    Kate Beckinsale         Theo James   \n",
       "1              Steven C. Miller     Adrian Grenier  Johnathon Schaech   \n",
       "2    Rafael Palacio Illingworth     Olivia Thirlby        Ben Feldman   \n",
       "3                   Chris Wedge         Lucas Till          Jane Levy   \n",
       "4                   Stacy Title      Douglas Smith         Doug Jones   \n",
       "..                          ...                ...                ...   \n",
       "242       Gilles Paquet-Brenner          Max Irons        Glenn Close   \n",
       "243                Scott Cooper     Christian Bale      Rosamund Pike   \n",
       "244                Ridley Scott  Michelle Williams      Mark Wahlberg   \n",
       "245                Aaron Sorkin   Jessica Chastain         Idris Elba   \n",
       "246        Paul Thomas Anderson   Daniel Day-Lewis    Lesley Manville   \n",
       "\n",
       "            actor_3_name                          genres  \\\n",
       "0            Lara Pulver  Fantasy Action Thriller Horror   \n",
       "1           Nicolas Cage                  Thriller Crime   \n",
       "2          Adam Goldberg                           Drama   \n",
       "3               Amy Ryan   Action Comedy Science Fiction   \n",
       "4         Michael Trucco                 Horror Thriller   \n",
       "..                   ...                             ...   \n",
       "242     Gillian Anderson          Mystery Crime Thriller   \n",
       "243            Wes Studi           Western Drama History   \n",
       "244  Christopher Plummer    Thriller Drama Crime History   \n",
       "245        Kevin Costner                     Drama Crime   \n",
       "246         Vicky Krieps                   Drama Romance   \n",
       "\n",
       "                    movie_title  \n",
       "0        Underworld: Blood Wars  \n",
       "1                       Arsenal  \n",
       "2                    Between Us  \n",
       "3                Monster Trucks  \n",
       "4               The Bye Bye Man  \n",
       "..                          ...  \n",
       "242               Crooked House  \n",
       "243                    Hostiles  \n",
       "244  All the Money in the World  \n",
       "245                Molly's Game  \n",
       "246              Phantom Thread  \n",
       "\n",
       "[247 rows x 6 columns]"
      ]
     },
     "execution_count": 28,
     "metadata": {},
     "output_type": "execute_result"
    }
   ],
   "source": [
    "new_df17"
   ]
  },
  {
   "cell_type": "code",
   "execution_count": 29,
   "metadata": {
    "id": "0s7XMhqzOZWY"
   },
   "outputs": [],
   "source": [
    "new_df17['comb'] = new_df17['actor_1_name'] + ' ' + new_df17['actor_2_name'] + ' '+ new_df17['actor_3_name'] + ' '+ new_df17['director_name'] +' ' + new_df17['genres']"
   ]
  },
  {
   "cell_type": "code",
   "execution_count": 30,
   "metadata": {
    "colab": {
     "base_uri": "https://localhost:8080/"
    },
    "id": "ta_KcPQJOZWY",
    "outputId": "ac6aa7b7-c156-49b2-9e95-3a76f971f5b1"
   },
   "outputs": [
    {
     "data": {
      "text/plain": [
       "director_name     0\n",
       "actor_1_name      0\n",
       "actor_2_name      4\n",
       "actor_3_name     14\n",
       "genres            0\n",
       "movie_title       0\n",
       "comb             14\n",
       "dtype: int64"
      ]
     },
     "execution_count": 30,
     "metadata": {},
     "output_type": "execute_result"
    }
   ],
   "source": [
    "new_df17.isna().sum()"
   ]
  },
  {
   "cell_type": "code",
   "execution_count": 31,
   "metadata": {
    "id": "DkKroG5GOZWY"
   },
   "outputs": [],
   "source": [
    "new_df17 = new_df17.dropna(how='any')"
   ]
  },
  {
   "cell_type": "code",
   "execution_count": 32,
   "metadata": {
    "colab": {
     "base_uri": "https://localhost:8080/"
    },
    "id": "YOIv1wvhOZWY",
    "outputId": "c3ad579e-16e2-4d8c-d4a0-71891d71b986"
   },
   "outputs": [
    {
     "data": {
      "text/plain": [
       "director_name    0\n",
       "actor_1_name     0\n",
       "actor_2_name     0\n",
       "actor_3_name     0\n",
       "genres           0\n",
       "movie_title      0\n",
       "comb             0\n",
       "dtype: int64"
      ]
     },
     "execution_count": 32,
     "metadata": {},
     "output_type": "execute_result"
    }
   ],
   "source": [
    "new_df17.isna().sum()"
   ]
  },
  {
   "cell_type": "code",
   "execution_count": 33,
   "metadata": {
    "colab": {
     "base_uri": "https://localhost:8080/"
    },
    "id": "IB3YmNWROZWY",
    "outputId": "8abccee1-4b9e-436b-de18-eb97298d73a9"
   },
   "outputs": [
    {
     "name": "stderr",
     "output_type": "stream",
     "text": [
      "C:\\Users\\chand\\AppData\\Local\\Temp\\ipykernel_11876\\898406936.py:1: SettingWithCopyWarning: \n",
      "A value is trying to be set on a copy of a slice from a DataFrame.\n",
      "Try using .loc[row_indexer,col_indexer] = value instead\n",
      "\n",
      "See the caveats in the documentation: https://pandas.pydata.org/pandas-docs/stable/user_guide/indexing.html#returning-a-view-versus-a-copy\n",
      "  new_df17['movie_title'] = new_df17['movie_title'].str.lower()\n"
     ]
    }
   ],
   "source": [
    "new_df17['movie_title'] = new_df17['movie_title'].str.lower()"
   ]
  },
  {
   "cell_type": "code",
   "execution_count": 34,
   "metadata": {
    "colab": {
     "base_uri": "https://localhost:8080/",
     "height": 406
    },
    "id": "3e3NnY70OZWZ",
    "outputId": "cf4351f9-93f7-40bc-cc24-ab9e45bd8358"
   },
   "outputs": [
    {
     "data": {
      "text/html": [
       "<div>\n",
       "<style scoped>\n",
       "    .dataframe tbody tr th:only-of-type {\n",
       "        vertical-align: middle;\n",
       "    }\n",
       "\n",
       "    .dataframe tbody tr th {\n",
       "        vertical-align: top;\n",
       "    }\n",
       "\n",
       "    .dataframe thead th {\n",
       "        text-align: right;\n",
       "    }\n",
       "</style>\n",
       "<table border=\"1\" class=\"dataframe\">\n",
       "  <thead>\n",
       "    <tr style=\"text-align: right;\">\n",
       "      <th></th>\n",
       "      <th>director_name</th>\n",
       "      <th>actor_1_name</th>\n",
       "      <th>actor_2_name</th>\n",
       "      <th>actor_3_name</th>\n",
       "      <th>genres</th>\n",
       "      <th>movie_title</th>\n",
       "      <th>comb</th>\n",
       "    </tr>\n",
       "  </thead>\n",
       "  <tbody>\n",
       "    <tr>\n",
       "      <th>0</th>\n",
       "      <td>Anna Foerster</td>\n",
       "      <td>Kate Beckinsale</td>\n",
       "      <td>Theo James</td>\n",
       "      <td>Lara Pulver</td>\n",
       "      <td>Fantasy Action Thriller Horror</td>\n",
       "      <td>underworld: blood wars</td>\n",
       "      <td>Kate Beckinsale Theo James Lara Pulver Anna Fo...</td>\n",
       "    </tr>\n",
       "    <tr>\n",
       "      <th>1</th>\n",
       "      <td>Steven C. Miller</td>\n",
       "      <td>Adrian Grenier</td>\n",
       "      <td>Johnathon Schaech</td>\n",
       "      <td>Nicolas Cage</td>\n",
       "      <td>Thriller Crime</td>\n",
       "      <td>arsenal</td>\n",
       "      <td>Adrian Grenier Johnathon Schaech Nicolas Cage ...</td>\n",
       "    </tr>\n",
       "    <tr>\n",
       "      <th>2</th>\n",
       "      <td>Rafael Palacio Illingworth</td>\n",
       "      <td>Olivia Thirlby</td>\n",
       "      <td>Ben Feldman</td>\n",
       "      <td>Adam Goldberg</td>\n",
       "      <td>Drama</td>\n",
       "      <td>between us</td>\n",
       "      <td>Olivia Thirlby Ben Feldman Adam Goldberg Rafae...</td>\n",
       "    </tr>\n",
       "    <tr>\n",
       "      <th>3</th>\n",
       "      <td>Chris Wedge</td>\n",
       "      <td>Lucas Till</td>\n",
       "      <td>Jane Levy</td>\n",
       "      <td>Amy Ryan</td>\n",
       "      <td>Action Comedy Science Fiction</td>\n",
       "      <td>monster trucks</td>\n",
       "      <td>Lucas Till Jane Levy Amy Ryan Chris Wedge Acti...</td>\n",
       "    </tr>\n",
       "    <tr>\n",
       "      <th>4</th>\n",
       "      <td>Stacy Title</td>\n",
       "      <td>Douglas Smith</td>\n",
       "      <td>Doug Jones</td>\n",
       "      <td>Michael Trucco</td>\n",
       "      <td>Horror Thriller</td>\n",
       "      <td>the bye bye man</td>\n",
       "      <td>Douglas Smith Doug Jones Michael Trucco Stacy ...</td>\n",
       "    </tr>\n",
       "    <tr>\n",
       "      <th>...</th>\n",
       "      <td>...</td>\n",
       "      <td>...</td>\n",
       "      <td>...</td>\n",
       "      <td>...</td>\n",
       "      <td>...</td>\n",
       "      <td>...</td>\n",
       "      <td>...</td>\n",
       "    </tr>\n",
       "    <tr>\n",
       "      <th>242</th>\n",
       "      <td>Gilles Paquet-Brenner</td>\n",
       "      <td>Max Irons</td>\n",
       "      <td>Glenn Close</td>\n",
       "      <td>Gillian Anderson</td>\n",
       "      <td>Mystery Crime Thriller</td>\n",
       "      <td>crooked house</td>\n",
       "      <td>Max Irons Glenn Close Gillian Anderson Gilles ...</td>\n",
       "    </tr>\n",
       "    <tr>\n",
       "      <th>243</th>\n",
       "      <td>Scott Cooper</td>\n",
       "      <td>Christian Bale</td>\n",
       "      <td>Rosamund Pike</td>\n",
       "      <td>Wes Studi</td>\n",
       "      <td>Western Drama History</td>\n",
       "      <td>hostiles</td>\n",
       "      <td>Christian Bale Rosamund Pike Wes Studi Scott C...</td>\n",
       "    </tr>\n",
       "    <tr>\n",
       "      <th>244</th>\n",
       "      <td>Ridley Scott</td>\n",
       "      <td>Michelle Williams</td>\n",
       "      <td>Mark Wahlberg</td>\n",
       "      <td>Christopher Plummer</td>\n",
       "      <td>Thriller Drama Crime History</td>\n",
       "      <td>all the money in the world</td>\n",
       "      <td>Michelle Williams Mark Wahlberg Christopher Pl...</td>\n",
       "    </tr>\n",
       "    <tr>\n",
       "      <th>245</th>\n",
       "      <td>Aaron Sorkin</td>\n",
       "      <td>Jessica Chastain</td>\n",
       "      <td>Idris Elba</td>\n",
       "      <td>Kevin Costner</td>\n",
       "      <td>Drama Crime</td>\n",
       "      <td>molly's game</td>\n",
       "      <td>Jessica Chastain Idris Elba Kevin Costner Aaro...</td>\n",
       "    </tr>\n",
       "    <tr>\n",
       "      <th>246</th>\n",
       "      <td>Paul Thomas Anderson</td>\n",
       "      <td>Daniel Day-Lewis</td>\n",
       "      <td>Lesley Manville</td>\n",
       "      <td>Vicky Krieps</td>\n",
       "      <td>Drama Romance</td>\n",
       "      <td>phantom thread</td>\n",
       "      <td>Daniel Day-Lewis Lesley Manville Vicky Krieps ...</td>\n",
       "    </tr>\n",
       "  </tbody>\n",
       "</table>\n",
       "<p>233 rows × 7 columns</p>\n",
       "</div>"
      ],
      "text/plain": [
       "                  director_name       actor_1_name       actor_2_name  \\\n",
       "0                 Anna Foerster    Kate Beckinsale         Theo James   \n",
       "1              Steven C. Miller     Adrian Grenier  Johnathon Schaech   \n",
       "2    Rafael Palacio Illingworth     Olivia Thirlby        Ben Feldman   \n",
       "3                   Chris Wedge         Lucas Till          Jane Levy   \n",
       "4                   Stacy Title      Douglas Smith         Doug Jones   \n",
       "..                          ...                ...                ...   \n",
       "242       Gilles Paquet-Brenner          Max Irons        Glenn Close   \n",
       "243                Scott Cooper     Christian Bale      Rosamund Pike   \n",
       "244                Ridley Scott  Michelle Williams      Mark Wahlberg   \n",
       "245                Aaron Sorkin   Jessica Chastain         Idris Elba   \n",
       "246        Paul Thomas Anderson   Daniel Day-Lewis    Lesley Manville   \n",
       "\n",
       "            actor_3_name                          genres  \\\n",
       "0            Lara Pulver  Fantasy Action Thriller Horror   \n",
       "1           Nicolas Cage                  Thriller Crime   \n",
       "2          Adam Goldberg                           Drama   \n",
       "3               Amy Ryan   Action Comedy Science Fiction   \n",
       "4         Michael Trucco                 Horror Thriller   \n",
       "..                   ...                             ...   \n",
       "242     Gillian Anderson          Mystery Crime Thriller   \n",
       "243            Wes Studi           Western Drama History   \n",
       "244  Christopher Plummer    Thriller Drama Crime History   \n",
       "245        Kevin Costner                     Drama Crime   \n",
       "246         Vicky Krieps                   Drama Romance   \n",
       "\n",
       "                    movie_title  \\\n",
       "0        underworld: blood wars   \n",
       "1                       arsenal   \n",
       "2                    between us   \n",
       "3                monster trucks   \n",
       "4               the bye bye man   \n",
       "..                          ...   \n",
       "242               crooked house   \n",
       "243                    hostiles   \n",
       "244  all the money in the world   \n",
       "245                molly's game   \n",
       "246              phantom thread   \n",
       "\n",
       "                                                  comb  \n",
       "0    Kate Beckinsale Theo James Lara Pulver Anna Fo...  \n",
       "1    Adrian Grenier Johnathon Schaech Nicolas Cage ...  \n",
       "2    Olivia Thirlby Ben Feldman Adam Goldberg Rafae...  \n",
       "3    Lucas Till Jane Levy Amy Ryan Chris Wedge Acti...  \n",
       "4    Douglas Smith Doug Jones Michael Trucco Stacy ...  \n",
       "..                                                 ...  \n",
       "242  Max Irons Glenn Close Gillian Anderson Gilles ...  \n",
       "243  Christian Bale Rosamund Pike Wes Studi Scott C...  \n",
       "244  Michelle Williams Mark Wahlberg Christopher Pl...  \n",
       "245  Jessica Chastain Idris Elba Kevin Costner Aaro...  \n",
       "246  Daniel Day-Lewis Lesley Manville Vicky Krieps ...  \n",
       "\n",
       "[233 rows x 7 columns]"
      ]
     },
     "execution_count": 34,
     "metadata": {},
     "output_type": "execute_result"
    }
   ],
   "source": [
    "new_df17"
   ]
  },
  {
   "cell_type": "code",
   "execution_count": 35,
   "metadata": {
    "id": "BCf9fH_4OZWZ"
   },
   "outputs": [],
   "source": [
    "old_df = pd.read_csv('final_data.csv')"
   ]
  },
  {
   "cell_type": "code",
   "execution_count": 36,
   "metadata": {
    "id": "ce2e426yOZWZ",
    "outputId": "7d2c0bd7-6907-4398-c385-829b04ad921e"
   },
   "outputs": [
    {
     "data": {
      "text/html": [
       "<div>\n",
       "<style scoped>\n",
       "    .dataframe tbody tr th:only-of-type {\n",
       "        vertical-align: middle;\n",
       "    }\n",
       "\n",
       "    .dataframe tbody tr th {\n",
       "        vertical-align: top;\n",
       "    }\n",
       "\n",
       "    .dataframe thead th {\n",
       "        text-align: right;\n",
       "    }\n",
       "</style>\n",
       "<table border=\"1\" class=\"dataframe\">\n",
       "  <thead>\n",
       "    <tr style=\"text-align: right;\">\n",
       "      <th></th>\n",
       "      <th>director_name</th>\n",
       "      <th>actor_1_name</th>\n",
       "      <th>actor_2_name</th>\n",
       "      <th>actor_3_name</th>\n",
       "      <th>genres</th>\n",
       "      <th>movie_title</th>\n",
       "      <th>comb</th>\n",
       "    </tr>\n",
       "  </thead>\n",
       "  <tbody>\n",
       "    <tr>\n",
       "      <th>0</th>\n",
       "      <td>James Cameron</td>\n",
       "      <td>CCH Pounder</td>\n",
       "      <td>Joel David Moore</td>\n",
       "      <td>Wes Studi</td>\n",
       "      <td>Action Adventure Fantasy Sci-Fi</td>\n",
       "      <td>avatar</td>\n",
       "      <td>CCH Pounder Joel David Moore Wes Studi James C...</td>\n",
       "    </tr>\n",
       "    <tr>\n",
       "      <th>1</th>\n",
       "      <td>Gore Verbinski</td>\n",
       "      <td>Johnny Depp</td>\n",
       "      <td>Orlando Bloom</td>\n",
       "      <td>Jack Davenport</td>\n",
       "      <td>Action Adventure Fantasy</td>\n",
       "      <td>pirates of the caribbean: at world's end</td>\n",
       "      <td>Johnny Depp Orlando Bloom Jack Davenport Gore ...</td>\n",
       "    </tr>\n",
       "    <tr>\n",
       "      <th>2</th>\n",
       "      <td>Sam Mendes</td>\n",
       "      <td>Christoph Waltz</td>\n",
       "      <td>Rory Kinnear</td>\n",
       "      <td>Stephanie Sigman</td>\n",
       "      <td>Action Adventure Thriller</td>\n",
       "      <td>spectre</td>\n",
       "      <td>Christoph Waltz Rory Kinnear Stephanie Sigman ...</td>\n",
       "    </tr>\n",
       "    <tr>\n",
       "      <th>3</th>\n",
       "      <td>Christopher Nolan</td>\n",
       "      <td>Tom Hardy</td>\n",
       "      <td>Christian Bale</td>\n",
       "      <td>Joseph Gordon-Levitt</td>\n",
       "      <td>Action Thriller</td>\n",
       "      <td>the dark knight rises</td>\n",
       "      <td>Tom Hardy Christian Bale Joseph Gordon-Levitt ...</td>\n",
       "    </tr>\n",
       "    <tr>\n",
       "      <th>4</th>\n",
       "      <td>Doug Walker</td>\n",
       "      <td>Doug Walker</td>\n",
       "      <td>Rob Walker</td>\n",
       "      <td>unknown</td>\n",
       "      <td>Documentary</td>\n",
       "      <td>star wars: episode vii - the force awakens    ...</td>\n",
       "      <td>Doug Walker Rob Walker unknown Doug Walker Doc...</td>\n",
       "    </tr>\n",
       "    <tr>\n",
       "      <th>...</th>\n",
       "      <td>...</td>\n",
       "      <td>...</td>\n",
       "      <td>...</td>\n",
       "      <td>...</td>\n",
       "      <td>...</td>\n",
       "      <td>...</td>\n",
       "      <td>...</td>\n",
       "    </tr>\n",
       "    <tr>\n",
       "      <th>5864</th>\n",
       "      <td>Greta Gerwig</td>\n",
       "      <td>Saoirse Ronan</td>\n",
       "      <td>Emma Watson</td>\n",
       "      <td>Florence Pugh</td>\n",
       "      <td>Drama Romance</td>\n",
       "      <td>little women</td>\n",
       "      <td>Saoirse Ronan Emma Watson Florence Pugh Greta ...</td>\n",
       "    </tr>\n",
       "    <tr>\n",
       "      <th>5865</th>\n",
       "      <td>Sam Mendes</td>\n",
       "      <td>George MacKay</td>\n",
       "      <td>Dean-Charles Chapman</td>\n",
       "      <td>Mark Strong</td>\n",
       "      <td>War Drama Action History</td>\n",
       "      <td>1917</td>\n",
       "      <td>George MacKay Dean-Charles Chapman Mark Strong...</td>\n",
       "    </tr>\n",
       "    <tr>\n",
       "      <th>5866</th>\n",
       "      <td>Destin Daniel Cretton</td>\n",
       "      <td>Michael B. Jordan</td>\n",
       "      <td>Jamie Foxx</td>\n",
       "      <td>Brie Larson</td>\n",
       "      <td>Drama Crime</td>\n",
       "      <td>just mercy</td>\n",
       "      <td>Michael B. Jordan Jamie Foxx Brie Larson Desti...</td>\n",
       "    </tr>\n",
       "    <tr>\n",
       "      <th>5867</th>\n",
       "      <td>Chinonye Chukwu</td>\n",
       "      <td>Alfre Woodard</td>\n",
       "      <td>Wendell Pierce</td>\n",
       "      <td>Aldis Hodge</td>\n",
       "      <td>Drama</td>\n",
       "      <td>clemency</td>\n",
       "      <td>Alfre Woodard Wendell Pierce Aldis Hodge Chino...</td>\n",
       "    </tr>\n",
       "    <tr>\n",
       "      <th>5868</th>\n",
       "      <td>Waymon Boone</td>\n",
       "      <td>Mena Suvari</td>\n",
       "      <td>Kevin Pollak</td>\n",
       "      <td>unknown</td>\n",
       "      <td>Horror Thriller</td>\n",
       "      <td>apparition</td>\n",
       "      <td>Mena Suvari Kevin Pollak unknown Waymon Boone ...</td>\n",
       "    </tr>\n",
       "  </tbody>\n",
       "</table>\n",
       "<p>5869 rows × 7 columns</p>\n",
       "</div>"
      ],
      "text/plain": [
       "              director_name       actor_1_name          actor_2_name  \\\n",
       "0             James Cameron        CCH Pounder      Joel David Moore   \n",
       "1            Gore Verbinski        Johnny Depp         Orlando Bloom   \n",
       "2                Sam Mendes    Christoph Waltz          Rory Kinnear   \n",
       "3         Christopher Nolan          Tom Hardy        Christian Bale   \n",
       "4               Doug Walker        Doug Walker            Rob Walker   \n",
       "...                     ...                ...                   ...   \n",
       "5864           Greta Gerwig      Saoirse Ronan           Emma Watson   \n",
       "5865             Sam Mendes      George MacKay  Dean-Charles Chapman   \n",
       "5866  Destin Daniel Cretton  Michael B. Jordan            Jamie Foxx   \n",
       "5867        Chinonye Chukwu      Alfre Woodard        Wendell Pierce   \n",
       "5868           Waymon Boone        Mena Suvari          Kevin Pollak   \n",
       "\n",
       "              actor_3_name                           genres  \\\n",
       "0                Wes Studi  Action Adventure Fantasy Sci-Fi   \n",
       "1           Jack Davenport         Action Adventure Fantasy   \n",
       "2         Stephanie Sigman        Action Adventure Thriller   \n",
       "3     Joseph Gordon-Levitt                  Action Thriller   \n",
       "4                  unknown                      Documentary   \n",
       "...                    ...                              ...   \n",
       "5864         Florence Pugh                    Drama Romance   \n",
       "5865           Mark Strong         War Drama Action History   \n",
       "5866           Brie Larson                      Drama Crime   \n",
       "5867           Aldis Hodge                            Drama   \n",
       "5868               unknown                  Horror Thriller   \n",
       "\n",
       "                                            movie_title  \\\n",
       "0                                                avatar   \n",
       "1              pirates of the caribbean: at world's end   \n",
       "2                                               spectre   \n",
       "3                                 the dark knight rises   \n",
       "4     star wars: episode vii - the force awakens    ...   \n",
       "...                                                 ...   \n",
       "5864                                       little women   \n",
       "5865                                               1917   \n",
       "5866                                         just mercy   \n",
       "5867                                           clemency   \n",
       "5868                                         apparition   \n",
       "\n",
       "                                                   comb  \n",
       "0     CCH Pounder Joel David Moore Wes Studi James C...  \n",
       "1     Johnny Depp Orlando Bloom Jack Davenport Gore ...  \n",
       "2     Christoph Waltz Rory Kinnear Stephanie Sigman ...  \n",
       "3     Tom Hardy Christian Bale Joseph Gordon-Levitt ...  \n",
       "4     Doug Walker Rob Walker unknown Doug Walker Doc...  \n",
       "...                                                 ...  \n",
       "5864  Saoirse Ronan Emma Watson Florence Pugh Greta ...  \n",
       "5865  George MacKay Dean-Charles Chapman Mark Strong...  \n",
       "5866  Michael B. Jordan Jamie Foxx Brie Larson Desti...  \n",
       "5867  Alfre Woodard Wendell Pierce Aldis Hodge Chino...  \n",
       "5868  Mena Suvari Kevin Pollak unknown Waymon Boone ...  \n",
       "\n",
       "[5869 rows x 7 columns]"
      ]
     },
     "execution_count": 36,
     "metadata": {},
     "output_type": "execute_result"
    }
   ],
   "source": [
    "old_df"
   ]
  },
  {
   "cell_type": "code",
   "execution_count": 37,
   "metadata": {
    "id": "P14B9e3GOZWZ"
   },
   "outputs": [
    {
     "name": "stderr",
     "output_type": "stream",
     "text": [
      "C:\\Users\\chand\\AppData\\Local\\Temp\\ipykernel_11876\\2833379201.py:1: FutureWarning: The frame.append method is deprecated and will be removed from pandas in a future version. Use pandas.concat instead.\n",
      "  final_df = old_df.append(new_df17,ignore_index=True)\n"
     ]
    }
   ],
   "source": [
    "final_df = old_df.append(new_df17,ignore_index=True)"
   ]
  },
  {
   "cell_type": "code",
   "execution_count": 38,
   "metadata": {
    "id": "0RAVcY-jOZWZ",
    "outputId": "0e87fe5f-5a7a-4792-edf3-a5027e667af0"
   },
   "outputs": [
    {
     "data": {
      "text/html": [
       "<div>\n",
       "<style scoped>\n",
       "    .dataframe tbody tr th:only-of-type {\n",
       "        vertical-align: middle;\n",
       "    }\n",
       "\n",
       "    .dataframe tbody tr th {\n",
       "        vertical-align: top;\n",
       "    }\n",
       "\n",
       "    .dataframe thead th {\n",
       "        text-align: right;\n",
       "    }\n",
       "</style>\n",
       "<table border=\"1\" class=\"dataframe\">\n",
       "  <thead>\n",
       "    <tr style=\"text-align: right;\">\n",
       "      <th></th>\n",
       "      <th>director_name</th>\n",
       "      <th>actor_1_name</th>\n",
       "      <th>actor_2_name</th>\n",
       "      <th>actor_3_name</th>\n",
       "      <th>genres</th>\n",
       "      <th>movie_title</th>\n",
       "      <th>comb</th>\n",
       "    </tr>\n",
       "  </thead>\n",
       "  <tbody>\n",
       "    <tr>\n",
       "      <th>0</th>\n",
       "      <td>James Cameron</td>\n",
       "      <td>CCH Pounder</td>\n",
       "      <td>Joel David Moore</td>\n",
       "      <td>Wes Studi</td>\n",
       "      <td>Action Adventure Fantasy Sci-Fi</td>\n",
       "      <td>avatar</td>\n",
       "      <td>CCH Pounder Joel David Moore Wes Studi James C...</td>\n",
       "    </tr>\n",
       "    <tr>\n",
       "      <th>1</th>\n",
       "      <td>Gore Verbinski</td>\n",
       "      <td>Johnny Depp</td>\n",
       "      <td>Orlando Bloom</td>\n",
       "      <td>Jack Davenport</td>\n",
       "      <td>Action Adventure Fantasy</td>\n",
       "      <td>pirates of the caribbean: at world's end</td>\n",
       "      <td>Johnny Depp Orlando Bloom Jack Davenport Gore ...</td>\n",
       "    </tr>\n",
       "    <tr>\n",
       "      <th>2</th>\n",
       "      <td>Sam Mendes</td>\n",
       "      <td>Christoph Waltz</td>\n",
       "      <td>Rory Kinnear</td>\n",
       "      <td>Stephanie Sigman</td>\n",
       "      <td>Action Adventure Thriller</td>\n",
       "      <td>spectre</td>\n",
       "      <td>Christoph Waltz Rory Kinnear Stephanie Sigman ...</td>\n",
       "    </tr>\n",
       "    <tr>\n",
       "      <th>3</th>\n",
       "      <td>Christopher Nolan</td>\n",
       "      <td>Tom Hardy</td>\n",
       "      <td>Christian Bale</td>\n",
       "      <td>Joseph Gordon-Levitt</td>\n",
       "      <td>Action Thriller</td>\n",
       "      <td>the dark knight rises</td>\n",
       "      <td>Tom Hardy Christian Bale Joseph Gordon-Levitt ...</td>\n",
       "    </tr>\n",
       "    <tr>\n",
       "      <th>4</th>\n",
       "      <td>Doug Walker</td>\n",
       "      <td>Doug Walker</td>\n",
       "      <td>Rob Walker</td>\n",
       "      <td>unknown</td>\n",
       "      <td>Documentary</td>\n",
       "      <td>star wars: episode vii - the force awakens    ...</td>\n",
       "      <td>Doug Walker Rob Walker unknown Doug Walker Doc...</td>\n",
       "    </tr>\n",
       "    <tr>\n",
       "      <th>...</th>\n",
       "      <td>...</td>\n",
       "      <td>...</td>\n",
       "      <td>...</td>\n",
       "      <td>...</td>\n",
       "      <td>...</td>\n",
       "      <td>...</td>\n",
       "      <td>...</td>\n",
       "    </tr>\n",
       "    <tr>\n",
       "      <th>6097</th>\n",
       "      <td>Gilles Paquet-Brenner</td>\n",
       "      <td>Max Irons</td>\n",
       "      <td>Glenn Close</td>\n",
       "      <td>Gillian Anderson</td>\n",
       "      <td>Mystery Crime Thriller</td>\n",
       "      <td>crooked house</td>\n",
       "      <td>Max Irons Glenn Close Gillian Anderson Gilles ...</td>\n",
       "    </tr>\n",
       "    <tr>\n",
       "      <th>6098</th>\n",
       "      <td>Scott Cooper</td>\n",
       "      <td>Christian Bale</td>\n",
       "      <td>Rosamund Pike</td>\n",
       "      <td>Wes Studi</td>\n",
       "      <td>Western Drama History</td>\n",
       "      <td>hostiles</td>\n",
       "      <td>Christian Bale Rosamund Pike Wes Studi Scott C...</td>\n",
       "    </tr>\n",
       "    <tr>\n",
       "      <th>6099</th>\n",
       "      <td>Ridley Scott</td>\n",
       "      <td>Michelle Williams</td>\n",
       "      <td>Mark Wahlberg</td>\n",
       "      <td>Christopher Plummer</td>\n",
       "      <td>Thriller Drama Crime History</td>\n",
       "      <td>all the money in the world</td>\n",
       "      <td>Michelle Williams Mark Wahlberg Christopher Pl...</td>\n",
       "    </tr>\n",
       "    <tr>\n",
       "      <th>6100</th>\n",
       "      <td>Aaron Sorkin</td>\n",
       "      <td>Jessica Chastain</td>\n",
       "      <td>Idris Elba</td>\n",
       "      <td>Kevin Costner</td>\n",
       "      <td>Drama Crime</td>\n",
       "      <td>molly's game</td>\n",
       "      <td>Jessica Chastain Idris Elba Kevin Costner Aaro...</td>\n",
       "    </tr>\n",
       "    <tr>\n",
       "      <th>6101</th>\n",
       "      <td>Paul Thomas Anderson</td>\n",
       "      <td>Daniel Day-Lewis</td>\n",
       "      <td>Lesley Manville</td>\n",
       "      <td>Vicky Krieps</td>\n",
       "      <td>Drama Romance</td>\n",
       "      <td>phantom thread</td>\n",
       "      <td>Daniel Day-Lewis Lesley Manville Vicky Krieps ...</td>\n",
       "    </tr>\n",
       "  </tbody>\n",
       "</table>\n",
       "<p>6102 rows × 7 columns</p>\n",
       "</div>"
      ],
      "text/plain": [
       "              director_name       actor_1_name      actor_2_name  \\\n",
       "0             James Cameron        CCH Pounder  Joel David Moore   \n",
       "1            Gore Verbinski        Johnny Depp     Orlando Bloom   \n",
       "2                Sam Mendes    Christoph Waltz      Rory Kinnear   \n",
       "3         Christopher Nolan          Tom Hardy    Christian Bale   \n",
       "4               Doug Walker        Doug Walker        Rob Walker   \n",
       "...                     ...                ...               ...   \n",
       "6097  Gilles Paquet-Brenner          Max Irons       Glenn Close   \n",
       "6098           Scott Cooper     Christian Bale     Rosamund Pike   \n",
       "6099           Ridley Scott  Michelle Williams     Mark Wahlberg   \n",
       "6100           Aaron Sorkin   Jessica Chastain        Idris Elba   \n",
       "6101   Paul Thomas Anderson   Daniel Day-Lewis   Lesley Manville   \n",
       "\n",
       "              actor_3_name                           genres  \\\n",
       "0                Wes Studi  Action Adventure Fantasy Sci-Fi   \n",
       "1           Jack Davenport         Action Adventure Fantasy   \n",
       "2         Stephanie Sigman        Action Adventure Thriller   \n",
       "3     Joseph Gordon-Levitt                  Action Thriller   \n",
       "4                  unknown                      Documentary   \n",
       "...                    ...                              ...   \n",
       "6097      Gillian Anderson           Mystery Crime Thriller   \n",
       "6098             Wes Studi            Western Drama History   \n",
       "6099   Christopher Plummer     Thriller Drama Crime History   \n",
       "6100         Kevin Costner                      Drama Crime   \n",
       "6101          Vicky Krieps                    Drama Romance   \n",
       "\n",
       "                                            movie_title  \\\n",
       "0                                                avatar   \n",
       "1              pirates of the caribbean: at world's end   \n",
       "2                                               spectre   \n",
       "3                                 the dark knight rises   \n",
       "4     star wars: episode vii - the force awakens    ...   \n",
       "...                                                 ...   \n",
       "6097                                      crooked house   \n",
       "6098                                           hostiles   \n",
       "6099                         all the money in the world   \n",
       "6100                                       molly's game   \n",
       "6101                                     phantom thread   \n",
       "\n",
       "                                                   comb  \n",
       "0     CCH Pounder Joel David Moore Wes Studi James C...  \n",
       "1     Johnny Depp Orlando Bloom Jack Davenport Gore ...  \n",
       "2     Christoph Waltz Rory Kinnear Stephanie Sigman ...  \n",
       "3     Tom Hardy Christian Bale Joseph Gordon-Levitt ...  \n",
       "4     Doug Walker Rob Walker unknown Doug Walker Doc...  \n",
       "...                                                 ...  \n",
       "6097  Max Irons Glenn Close Gillian Anderson Gilles ...  \n",
       "6098  Christian Bale Rosamund Pike Wes Studi Scott C...  \n",
       "6099  Michelle Williams Mark Wahlberg Christopher Pl...  \n",
       "6100  Jessica Chastain Idris Elba Kevin Costner Aaro...  \n",
       "6101  Daniel Day-Lewis Lesley Manville Vicky Krieps ...  \n",
       "\n",
       "[6102 rows x 7 columns]"
      ]
     },
     "execution_count": 38,
     "metadata": {},
     "output_type": "execute_result"
    }
   ],
   "source": [
    "final_df"
   ]
  },
  {
   "cell_type": "code",
   "execution_count": 39,
   "metadata": {
    "id": "gCTWwaOiOZWZ"
   },
   "outputs": [],
   "source": [
    "final_df.to_csv('main_data.csv',index=False)"
   ]
  }
 ],
 "metadata": {
  "colab": {
   "collapsed_sections": [],
   "name": "preprocessing 4.ipynb",
   "provenance": []
  },
  "kernelspec": {
   "display_name": "Python 3 (ipykernel)",
   "language": "python",
   "name": "python3"
  },
  "language_info": {
   "codemirror_mode": {
    "name": "ipython",
    "version": 3
   },
   "file_extension": ".py",
   "mimetype": "text/x-python",
   "name": "python",
   "nbconvert_exporter": "python",
   "pygments_lexer": "ipython3",
   "version": "3.10.11"
  }
 },
 "nbformat": 4,
 "nbformat_minor": 1
}
